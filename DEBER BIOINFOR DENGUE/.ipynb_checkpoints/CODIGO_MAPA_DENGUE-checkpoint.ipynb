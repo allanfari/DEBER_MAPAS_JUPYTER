{
 "cells": [
  {
   "cell_type": "code",
   "execution_count": null,
   "id": "486899d7",
   "metadata": {},
   "outputs": [],
   "source": []
  },
  {
   "cell_type": "code",
   "execution_count": 16,
   "id": "97a5338b",
   "metadata": {},
   "outputs": [],
   "source": [
    "import re\n",
    "import csv"
   ]
  },
  {
   "cell_type": "code",
   "execution_count": 44,
   "id": "ae3f1b81",
   "metadata": {},
   "outputs": [],
   "source": [
    "with open('pubmed-dengue-set.txt', encoding=\"utf8\") as f:\n",
    "    my_text = f.read()"
   ]
  },
  {
   "cell_type": "code",
   "execution_count": 45,
   "id": "f24bc036",
   "metadata": {},
   "outputs": [
    {
     "data": {
      "text/plain": [
       "3700053"
      ]
     },
     "execution_count": 45,
     "metadata": {},
     "output_type": "execute_result"
    }
   ],
   "source": [
    "len(my_text)"
   ]
  },
  {
   "cell_type": "code",
   "execution_count": null,
   "id": "026d2313",
   "metadata": {},
   "outputs": [],
   "source": [
    "# con AD empiezan todas las direcciones (ciudades) donde se realizaron las publicaciones "
   ]
  },
  {
   "cell_type": "code",
   "execution_count": 139,
   "id": "7266fd80",
   "metadata": {},
   "outputs": [],
   "source": [
    "# reemplaze las iteraciones y las uní en una sola linea para poder encontrarlas rapido\n",
    "\n",
    "my_text = re.sub(r'\\n\\s{6}', ' ', my_text)"
   ]
  },
  {
   "cell_type": "code",
   "execution_count": 138,
   "id": "3e2a838f",
   "metadata": {},
   "outputs": [
    {
     "name": "stdout",
     "output_type": "stream",
     "text": [
      "PMID- 22494122\n",
      "OWN - NLM\n",
      "STAT- MEDLINE\n",
      "DCOM- 20120419\n",
      "LR  - 20120712\n",
      "IS  - 1533-4406 (Electronic)\n",
      "IS  - 0028-4793 (Linking)\n",
      "VI  - 366\n",
      "IP  - 15\n",
      "DP  - 2012 Apr 12\n",
      "TI  - Dengue.\n",
      "PG  - 1423-32\n",
      "LID - 10.1056/NEJMra1110265 [doi]\n",
      "FAU - Simmons, Cameron P\n",
      "AU  - Simmons CP\n",
      "AD  - Oxford University Clinical Research Unit and Wellcome Trust Major Overseas  Programme, Ho Chi Minh City, Vietnam.\n",
      "FAU - Farrar, Jeremy J\n",
      "AU  - Farrar JJ\n",
      "FAU - Nguyen, van Vinh Chau\n",
      "AU  - Nguyen vV\n",
      "FAU - Wills, Bridget\n",
      "AU  - Wills B\n",
      "LA  - eng\n",
      "PT  - Journal Article\n",
      "PT  - Review\n",
      "PL  - United States\n",
      "TA  - N Engl J Med\n",
      "JT  - The New England journal of medicine\n",
      "JID - 0255562\n",
      "RN  - 0 (Antibodies, Viral)\n",
      "RN  - 0 (Immunoglobulin M)\n",
      "SB  - IM\n",
      "CIN - N Engl J Med. 2012 Jul 12;367(2):180; author reply 181. PMID: 22784125\n",
      "CIN - N Engl J Med. 2012 Jul 12;367(2):180-1; author reply 181. PMID: 22784126\n",
      "MH  - Antibodies, Viral/blood\n",
      "MH  - Blood Transfusion\n",
      "MH  - *Dengue/diagnosis/epidemiology/etiology/therapy\n",
      "MH  - Dengue Virus/immunology\n",
      "MH  - Diagnosis, Differential\n",
      "MH  - Humans\n",
      "MH  - Immunoglobulin M/blood\n",
      "MH  - *Pandemics\n",
      "EDAT- 2012/04/13 06:00\n",
      "MHDA- 2012/04/20 06:00\n",
      "CRDT- 2012/04/13 06:00\n",
      "PHST- 2012/04/13 06:00 [entrez]\n",
      "PHST- 2012/04/13 06:00 [pubmed]\n",
      "PHST- 2012/04/20 06:00 [medline]\n",
      "AID - 10.1056/NEJMra1110265 [doi]\n",
      "PST - ppublish\n",
      "SO  - N Engl J Med. 2012 Apr 12;366(15):1423-32. doi: 10.1056/NEJMra1110265.\n",
      "\n",
      "PMID- 23041731\n",
      "OWN - NLM\n",
      "STAT- MEDLINE\n",
      "DCOM- 20130509\n",
      "LR  - 20211021\n",
      "IS  - 0971-5916 (Print)\n",
      "IS  - 0975-9174 (Electronic)\n",
      "IS  - 0971-5916 (Linking)\n",
      "VI  - 136\n",
      "IP  - 3\n",
      "DP  - 2012 Sep\n",
      "TI  - Dengue in India.\n",
      "PG  - 373-90\n",
      "AB  - Dengue virus belongs to family Flaviviridae, having four serotypes that spread by  the bite of infected Aedes mosquitoes. It causes a wide spectrum of illness from  mild asymptomatic illness to severe fatal dengue haemorrhagic fever/dengue shock  syndrome (DHF/DSS). Approximately 2.5 billion people live in dengue-risk regions  with about 100 million new cases each year worldwide. The cumulat\n"
     ]
    }
   ],
   "source": [
    "print(my_text[:2000])#compruebo que todo esta en una misma linea y sin iteraciones o tabs"
   ]
  },
  {
   "cell_type": "code",
   "execution_count": 192,
   "id": "fef40937",
   "metadata": {},
   "outputs": [],
   "source": [
    "# utilizo el comando findall para encontrar a todos las filas que comienzen con AD__-_ Y las reuno en un lista\n",
    "lcc = re.findall(r\"AD\\s+\\-\\s\\w.+\", my_text)\n"
   ]
  },
  {
   "cell_type": "code",
   "execution_count": 193,
   "id": "2b53d5de",
   "metadata": {},
   "outputs": [
    {
     "name": "stdout",
     "output_type": "stream",
     "text": [
      "['AD  - Oxford University Clinical Research Unit and Wellcome Trust Major Overseas  Programme, Ho Chi Minh City, Vietnam.', 'AD  - Indian Council of Medical Research, New Delhi, India.', 'AD  - Institute of Public Health, University of Heidelberg, Im Neuenheimer Feld 365,  Heidelberg, Germany. epvws@pacific.net.sg', 'AD  - Department of Paediatrics, University of Nairobi, Kenya. fwere@hcc.or.ke', 'AD  - Department of Microbiology and Immunology, National Cheng Kung University Medical  College, 1 University Road,Tainan, Taiwan.', 'AD  - Virology Branch, Division of Microbiology and Infectious Diseases, National  Institute of Allergy and Infectious Diseases, National Institutes of Health,  Bethesda, Maryland 20892-6603, USA. claughlin@niaid.nih.gov', 'AD  - Dengue Vaccine Initiative, International Vaccine Institute, Seoul, Korea.  halsteads@erols.com', 'AD  - Centre hospitalier de Polynésie française, Papeete, 98713 Tahiti, Polynésie  française, France. erwan.oehler@cht.pf', 'AD  - Armed Forces Research Institute of Medical Science, Bangkok, Thailand.  robert.gibbons@afrims.org', 'AD  - Program in Emerging Infectious Disease, Duke-NUS Graduate Medical School Singapore,  8 College Road, 169857 Singapore. kinfai.tang@duke-nus.edu.sg', 'AD  - Division of Infectious Diseases, Department of Medicine, Faculty of Medicine,  Chulalongkorn University, Bangkok, Thailand. terapong_tantawichien@hotmail.com', 'AD  - Animal and Plant Sciences, University of Sheffield, Sheffield, UK.  basitrasheed@hotmail.com', 'AD  - Department of Internal Medicine, St Stephens Hospital, Tis Hazari, Delhi, India.  drsameergulati@gmail.com', \"AD  - Department of Microbiology, College of Basic Medical Sciences, Key Laboratory of  Microbial Engineering under Educational Committee in Chongqing, Third Military  Medical University, 30# Gaotanyan St, Shapingba District, Chongqing 400038, People's  Republic of China.\", 'AD  - Center for Tropical Medicine, Nuffield Department of Clinical Medicine, Churchill  Hospital, University of Oxford, Oxford, UK. stuart@tropmedres.ac', 'AD  - Hospital for Tropical Diseases, London WC1E 6JB. catherine.roberts@uclh.nhs.uk', 'AD  - Laboratory of Molecular Virology of the Carlos Chagas Institute, ICC/Fiocruz, Prof.  Algacyr Munhoz Mader Street 3775, CIC, Curitiba, Paraná, 81350-010, Brazil.  sth_martins@yahoo.com.br', 'AD  - Department of Child Health, Faculty of Medicine, University of Indonesia, Dr Cipto  Mangunkusumo Hospital, Jakarta, Indonesia. srh3546@centrin.net.id', 'AD  - Department of Dengue Hemorrhagic Fever, Children’s Hospital No. 1, Ho Chi Minh City,  Viet Nam. hungdhf@hcm.fpt.vn', 'AD  - Comisión Nacional de Arbitraje Médico, Distrito Federal, México.', 'AD  - Department of Ophthalmology, The Eye Center and The Eye Foundation for Research in  Ophthalmology, Riyadh, Saudi Arabia. k.tabbara@nesma.net.sa', 'AD  - Maulana Azad Medical College, Bahadur Shah Zafar Marg, New Delhi, Delhi, 10002,  India.', 'AD  - UMR 190-Emerging viral pathologies (IRD/Université Aix-Marseille II), Institut de  Recherche pour Développement, France. Dominique.Buchillet@gmail.com', 'AD  - University Malaya, Faculty of Medicine, Department of Medical Microbiology, Kuala  Lumpur, Malaysia.', 'AD  - Carlos Slim Health Institute, Mexico City, Mexico. tapiaconyer@yahoo.com.mx']\n"
     ]
    }
   ],
   "source": [
    "print(lcc[:25])#compruebo que la lista esta correctamente solo en los 25 primero elementos ya que la lista es muy larga"
   ]
  },
  {
   "cell_type": "code",
   "execution_count": 220,
   "id": "ee359169",
   "metadata": {},
   "outputs": [
    {
     "ename": "SyntaxError",
     "evalue": "invalid syntax (Temp/ipykernel_67856/3230706709.py, line 3)",
     "output_type": "error",
     "traceback": [
      "\u001b[1;36m  File \u001b[1;32m\"C:\\Users\\LENOVO\\AppData\\Local\\Temp/ipykernel_67856/3230706709.py\"\u001b[1;36m, line \u001b[1;32m3\u001b[0m\n\u001b[1;33m    if i = r\"(?:[a-z0-9!#$%&'*+/=?^_`{|}~-]+(?:\\.[a-z0-9!#$%&'*+/=?^_`{|}~-]+)*|\\\"(?:[\\x01-\\x08\\x0b\\x0c\\x0e-\\x1f\\x21\\x23-\\x5b\\x5d-\\x7f]|\\\\[\\x01-\\x09\\x0b\\x0c\\x0e-\\x7f])*\\\")@(?:(?:[a-z0-9](?:[a-z0-9-]*[a-z0-9])?\\.)+[a-z0-9](?:[a-z0-9-]*[a-z0-9])?|\\[(?:(?:(2(5[0-5]|[0-4][0-9])|1[0-9][0-9]|[1-9]?[0-9]))\\.){3}(?:(2(5[0-5]|[0-4][0-9])|1[0-9][0-9]|[1-9]?[0-9])|[a-z0-9-]*[a-z0-9]:(?:[\\x01-\\x08\\x0b\\x0c\\x0e-\\x1f\\x21-\\x5a\\x53-\\x7f]|\\\\[\\x01-\\x09\\x0b\\x0c\\x0e-\\x7f])+)\\])\":\u001b[0m\n\u001b[1;37m         ^\u001b[0m\n\u001b[1;31mSyntaxError\u001b[0m\u001b[1;31m:\u001b[0m invalid syntax\n"
     ]
    }
   ],
   "source": [
    "q = ('AD  - Carlos Slim Health Institute, Mexico City, Mexico. tapiaconyer@yahoo.com.mx', 'AD  - University Malaya, Faculty of Medicine, Department of Medical Microbiology, Kuala  Lumpur, Malaysia.')\n",
    "for i in q:\n",
    "    if i == r\"(?:[a-z0-9!#$%&'*+/=?^_`{|}~-]+(?:\\.[a-z0-9!#$%&'*+/=?^_`{|}~-]+)*|\\\"(?:[\\x01-\\x08\\x0b\\x0c\\x0e-\\x1f\\x21\\x23-\\x5b\\x5d-\\x7f]|\\\\[\\x01-\\x09\\x0b\\x0c\\x0e-\\x7f])*\\\")@(?:(?:[a-z0-9](?:[a-z0-9-]*[a-z0-9])?\\.)+[a-z0-9](?:[a-z0-9-]*[a-z0-9])?|\\[(?:(?:(2(5[0-5]|[0-4][0-9])|1[0-9][0-9]|[1-9]?[0-9]))\\.){3}(?:(2(5[0-5]|[0-4][0-9])|1[0-9][0-9]|[1-9]?[0-9])|[a-z0-9-]*[a-z0-9]:(?:[\\x01-\\x08\\x0b\\x0c\\x0e-\\x1f\\x21-\\x5a\\x53-\\x7f]|\\\\[\\x01-\\x09\\x0b\\x0c\\x0e-\\x7f])+)\\])\":\n",
    "       i.remove(r\"(?:[a-z0-9!#$%&'*+/=?^_`{|}~-]+(?:\\.[a-z0-9!#$%&'*+/=?^_`{|}~-]+)*|\\\"(?:[\\x01-\\x08\\x0b\\x0c\\x0e-\\x1f\\x21\\x23-\\x5b\\x5d-\\x7f]|\\\\[\\x01-\\x09\\x0b\\x0c\\x0e-\\x7f])*\\\")@(?:(?:[a-z0-9](?:[a-z0-9-]*[a-z0-9])?\\.)+[a-z0-9](?:[a-z0-9-]*[a-z0-9])?|\\[(?:(?:(2(5[0-5]|[0-4][0-9])|1[0-9][0-9]|[1-9]?[0-9]))\\.){3}(?:(2(5[0-5]|[0-4][0-9])|1[0-9][0-9]|[1-9]?[0-9])|[a-z0-9-]*[a-z0-9]:(?:[\\x01-\\x08\\x0b\\x0c\\x0e-\\x1f\\x21-\\x5a\\x53-\\x7f]|\\\\[\\x01-\\x09\\x0b\\x0c\\x0e-\\x7f])+)\\])\") \n",
    "        "
   ]
  },
  {
   "cell_type": "code",
   "execution_count": 223,
   "id": "3480747c",
   "metadata": {},
   "outputs": [
    {
     "ename": "SyntaxError",
     "evalue": "invalid syntax (Temp/ipykernel_67856/2832005411.py, line 3)",
     "output_type": "error",
     "traceback": [
      "\u001b[1;36m  File \u001b[1;32m\"C:\\Users\\LENOVO\\AppData\\Local\\Temp/ipykernel_67856/2832005411.py\"\u001b[1;36m, line \u001b[1;32m3\u001b[0m\n\u001b[1;33m    if i = r\"(?:[a-z0-9!#$%&'*+/=?^_`{|}~-]+(?:\\.[a-z0-9!#$%&'*+/=?^_`{|}~-]+)*|\\\"(?:[\\x01-\\x08\\x0b\\x0c\\x0e-\\x1f\\x21\\x23-\\x5b\\x5d-\\x7f]|\\\\[\\x01-\\x09\\x0b\\x0c\\x0e-\\x7f])*\\\")@(?:(?:[a-z0-9](?:[a-z0-9-]*[a-z0-9])?\\.)+[a-z0-9](?:[a-z0-9-]*[a-z0-9])?|\\[(?:(?:(2(5[0-5]|[0-4][0-9])|1[0-9][0-9]|[1-9]?[0-9]))\\.){3}(?:(2(5[0-5]|[0-4][0-9])|1[0-9][0-9]|[1-9]?[0-9])|[a-z0-9-]*[a-z0-9]:(?:[\\x01-\\x08\\x0b\\x0c\\x0e-\\x1f\\x21-\\x5a\\x53-\\x7f]|\\\\[\\x01-\\x09\\x0b\\x0c\\x0e-\\x7f])+)\\])\":\u001b[0m\n\u001b[1;37m         ^\u001b[0m\n\u001b[1;31mSyntaxError\u001b[0m\u001b[1;31m:\u001b[0m invalid syntax\n"
     ]
    }
   ],
   "source": [
    "q = ('AD  - Carlos Slim Health Institute, Mexico City, Mexico. tapiaconyer@yahoo.com.mx', 'AD  - University Malaya, Faculty of Medicine, Department of Medical Microbiology, Kuala  Lumpur, Malaysia.')\n",
    "for i in q:\n",
    "    if i = r\"(?:[a-z0-9!#$%&'*+/=?^_`{|}~-]+(?:\\.[a-z0-9!#$%&'*+/=?^_`{|}~-]+)*|\\\"(?:[\\x01-\\x08\\x0b\\x0c\\x0e-\\x1f\\x21\\x23-\\x5b\\x5d-\\x7f]|\\\\[\\x01-\\x09\\x0b\\x0c\\x0e-\\x7f])*\\\")@(?:(?:[a-z0-9](?:[a-z0-9-]*[a-z0-9])?\\.)+[a-z0-9](?:[a-z0-9-]*[a-z0-9])?|\\[(?:(?:(2(5[0-5]|[0-4][0-9])|1[0-9][0-9]|[1-9]?[0-9]))\\.){3}(?:(2(5[0-5]|[0-4][0-9])|1[0-9][0-9]|[1-9]?[0-9])|[a-z0-9-]*[a-z0-9]:(?:[\\x01-\\x08\\x0b\\x0c\\x0e-\\x1f\\x21-\\x5a\\x53-\\x7f]|\\\\[\\x01-\\x09\\x0b\\x0c\\x0e-\\x7f])+)\\])\":\n",
    "       i.remove(r\"(?:[a-z0-9!#$%&'*+/=?^_`{|}~-]+(?:\\.[a-z0-9!#$%&'*+/=?^_`{|}~-]+)*|\\\"(?:[\\x01-\\x08\\x0b\\x0c\\x0e-\\x1f\\x21\\x23-\\x5b\\x5d-\\x7f]|\\\\[\\x01-\\x09\\x0b\\x0c\\x0e-\\x7f])*\\\")@(?:(?:[a-z0-9](?:[a-z0-9-]*[a-z0-9])?\\.)+[a-z0-9](?:[a-z0-9-]*[a-z0-9])?|\\[(?:(?:(2(5[0-5]|[0-4][0-9])|1[0-9][0-9]|[1-9]?[0-9]))\\.){3}(?:(2(5[0-5]|[0-4][0-9])|1[0-9][0-9]|[1-9]?[0-9])|[a-z0-9-]*[a-z0-9]:(?:[\\x01-\\x08\\x0b\\x0c\\x0e-\\x1f\\x21-\\x5a\\x53-\\x7f]|\\\\[\\x01-\\x09\\x0b\\x0c\\x0e-\\x7f])+)\\])\") \n",
    "    else:\n",
    "        print(q)"
   ]
  },
  {
   "cell_type": "code",
   "execution_count": 214,
   "id": "3e348459",
   "metadata": {},
   "outputs": [
    {
     "ename": "TypeError",
     "evalue": "expected string or bytes-like object",
     "output_type": "error",
     "traceback": [
      "\u001b[1;31m---------------------------------------------------------------------------\u001b[0m",
      "\u001b[1;31mTypeError\u001b[0m                                 Traceback (most recent call last)",
      "\u001b[1;32m~\\AppData\\Local\\Temp/ipykernel_67856/2290582190.py\u001b[0m in \u001b[0;36m<module>\u001b[1;34m\u001b[0m\n\u001b[0;32m      1\u001b[0m \u001b[1;32mfor\u001b[0m \u001b[0melemento\u001b[0m \u001b[1;32min\u001b[0m \u001b[0mlcc\u001b[0m\u001b[1;33m:\u001b[0m\u001b[1;33m\u001b[0m\u001b[1;33m\u001b[0m\u001b[0m\n\u001b[1;32m----> 2\u001b[1;33m     \u001b[0mlsce\u001b[0m \u001b[1;33m=\u001b[0m \u001b[0mre\u001b[0m\u001b[1;33m.\u001b[0m\u001b[0msub\u001b[0m\u001b[1;33m(\u001b[0m\u001b[1;34mr\"(?:[a-z0-9!#$%&'*+/=?^_`{|}~-]+(?:\\.[a-z0-9!#$%&'*+/=?^_`{|}~-]+)*|\\\"(?:[\\x01-\\x08\\x0b\\x0c\\x0e-\\x1f\\x21\\x23-\\x5b\\x5d-\\x7f]|\\\\[\\x01-\\x09\\x0b\\x0c\\x0e-\\x7f])*\\\")@(?:(?:[a-z0-9](?:[a-z0-9-]*[a-z0-9])?\\.)+[a-z0-9](?:[a-z0-9-]*[a-z0-9])?|\\[(?:(?:(2(5[0-5]|[0-4][0-9])|1[0-9][0-9]|[1-9]?[0-9]))\\.){3}(?:(2(5[0-5]|[0-4][0-9])|1[0-9][0-9]|[1-9]?[0-9])|[a-z0-9-]*[a-z0-9]:(?:[\\x01-\\x08\\x0b\\x0c\\x0e-\\x1f\\x21-\\x5a\\x53-\\x7f]|\\\\[\\x01-\\x09\\x0b\\x0c\\x0e-\\x7f])+)\\])\"\u001b[0m\u001b[1;33m,\u001b[0m\u001b[1;34m''\u001b[0m\u001b[1;33m,\u001b[0m\u001b[0mlcc\u001b[0m\u001b[1;33m)\u001b[0m\u001b[1;33m\u001b[0m\u001b[1;33m\u001b[0m\u001b[0m\n\u001b[0m\u001b[0;32m      3\u001b[0m \u001b[0mprint\u001b[0m\u001b[1;33m(\u001b[0m\u001b[0melemento\u001b[0m\u001b[1;33m[\u001b[0m\u001b[1;33m:\u001b[0m\u001b[1;36m10\u001b[0m\u001b[1;33m]\u001b[0m\u001b[1;33m)\u001b[0m\u001b[1;33m\u001b[0m\u001b[1;33m\u001b[0m\u001b[0m\n",
      "\u001b[1;32mC:\\ProgramData\\Anaconda3\\lib\\re.py\u001b[0m in \u001b[0;36msub\u001b[1;34m(pattern, repl, string, count, flags)\u001b[0m\n\u001b[0;32m    208\u001b[0m     \u001b[0ma\u001b[0m \u001b[0mcallable\u001b[0m\u001b[1;33m,\u001b[0m \u001b[0mit\u001b[0m\u001b[0;31m'\u001b[0m\u001b[0ms\u001b[0m \u001b[0mpassed\u001b[0m \u001b[0mthe\u001b[0m \u001b[0mMatch\u001b[0m \u001b[0mobject\u001b[0m \u001b[1;32mand\u001b[0m \u001b[0mmust\u001b[0m \u001b[1;32mreturn\u001b[0m\u001b[1;33m\u001b[0m\u001b[1;33m\u001b[0m\u001b[0m\n\u001b[0;32m    209\u001b[0m     a replacement string to be used.\"\"\"\n\u001b[1;32m--> 210\u001b[1;33m     \u001b[1;32mreturn\u001b[0m \u001b[0m_compile\u001b[0m\u001b[1;33m(\u001b[0m\u001b[0mpattern\u001b[0m\u001b[1;33m,\u001b[0m \u001b[0mflags\u001b[0m\u001b[1;33m)\u001b[0m\u001b[1;33m.\u001b[0m\u001b[0msub\u001b[0m\u001b[1;33m(\u001b[0m\u001b[0mrepl\u001b[0m\u001b[1;33m,\u001b[0m \u001b[0mstring\u001b[0m\u001b[1;33m,\u001b[0m \u001b[0mcount\u001b[0m\u001b[1;33m)\u001b[0m\u001b[1;33m\u001b[0m\u001b[1;33m\u001b[0m\u001b[0m\n\u001b[0m\u001b[0;32m    211\u001b[0m \u001b[1;33m\u001b[0m\u001b[0m\n\u001b[0;32m    212\u001b[0m \u001b[1;32mdef\u001b[0m \u001b[0msubn\u001b[0m\u001b[1;33m(\u001b[0m\u001b[0mpattern\u001b[0m\u001b[1;33m,\u001b[0m \u001b[0mrepl\u001b[0m\u001b[1;33m,\u001b[0m \u001b[0mstring\u001b[0m\u001b[1;33m,\u001b[0m \u001b[0mcount\u001b[0m\u001b[1;33m=\u001b[0m\u001b[1;36m0\u001b[0m\u001b[1;33m,\u001b[0m \u001b[0mflags\u001b[0m\u001b[1;33m=\u001b[0m\u001b[1;36m0\u001b[0m\u001b[1;33m)\u001b[0m\u001b[1;33m:\u001b[0m\u001b[1;33m\u001b[0m\u001b[1;33m\u001b[0m\u001b[0m\n",
      "\u001b[1;31mTypeError\u001b[0m: expected string or bytes-like object"
     ]
    }
   ],
   "source": [
    "for elemento in lcc:\n",
    "    lsce = re.sub(r\"(?:[a-z0-9!#$%&'*+/=?^_`{|}~-]+(?:\\.[a-z0-9!#$%&'*+/=?^_`{|}~-]+)*|\\\"(?:[\\x01-\\x08\\x0b\\x0c\\x0e-\\x1f\\x21\\x23-\\x5b\\x5d-\\x7f]|\\\\[\\x01-\\x09\\x0b\\x0c\\x0e-\\x7f])*\\\")@(?:(?:[a-z0-9](?:[a-z0-9-]*[a-z0-9])?\\.)+[a-z0-9](?:[a-z0-9-]*[a-z0-9])?|\\[(?:(?:(2(5[0-5]|[0-4][0-9])|1[0-9][0-9]|[1-9]?[0-9]))\\.){3}(?:(2(5[0-5]|[0-4][0-9])|1[0-9][0-9]|[1-9]?[0-9])|[a-z0-9-]*[a-z0-9]:(?:[\\x01-\\x08\\x0b\\x0c\\x0e-\\x1f\\x21-\\x5a\\x53-\\x7f]|\\\\[\\x01-\\x09\\x0b\\x0c\\x0e-\\x7f])+)\\])\",'',lcc)\n",
    "print(lsce[:10])"
   ]
  },
  {
   "cell_type": "code",
   "execution_count": null,
   "id": "236a7bc6",
   "metadata": {},
   "outputs": [],
   "source": [
    "a= ('AD  - Institute of Public Health, University of Heidelberg, Im Neuenheimer Feld 365,  Heidelberg, Germany. epvws@pacific.net.sg')\n",
    "lsce = re.sub(r\"(?:[a-z0-9!#$%&'*+/=?^_`{|}~-]+(?:\\.[a-z0-9!#$%&'*+/=?^_`{|}~-]+)*|\\\"(?:[\\x01-\\x08\\x0b\\x0c\\x0e-\\x1f\\x21\\x23-\\x5b\\x5d-\\x7f]|\\\\[\\x01-\\x09\\x0b\\x0c\\x0e-\\x7f])*\\\")@(?:(?:[a-z0-9](?:[a-z0-9-]*[a-z0-9])?\\.)+[a-z0-9](?:[a-z0-9-]*[a-z0-9])?|\\[(?:(?:(2(5[0-5]|[0-4][0-9])|1[0-9][0-9]|[1-9]?[0-9]))\\.){3}(?:(2(5[0-5]|[0-4][0-9])|1[0-9][0-9]|[1-9]?[0-9])|[a-z0-9-]*[a-z0-9]:(?:[\\x01-\\x08\\x0b\\x0c\\x0e-\\x1f\\x21-\\x5a\\x53-\\x7f]|\\\\[\\x01-\\x09\\x0b\\x0c\\x0e-\\x7f])+)\\])\",'',a)\n",
    "    \n",
    "print(lsce)"
   ]
  },
  {
   "cell_type": "code",
   "execution_count": null,
   "id": "e936b701",
   "metadata": {},
   "outputs": [],
   "source": []
  },
  {
   "cell_type": "code",
   "execution_count": null,
   "id": "eadfffce",
   "metadata": {},
   "outputs": [],
   "source": []
  },
  {
   "cell_type": "code",
   "execution_count": null,
   "id": "abf5bd37",
   "metadata": {},
   "outputs": [],
   "source": [
    "re.findall(r\"AD\\s+\\-\\s\\$\", my_text)"
   ]
  },
  {
   "cell_type": "code",
   "execution_count": 86,
   "id": "d41b914d",
   "metadata": {},
   "outputs": [
    {
     "ename": "TypeError",
     "evalue": "search() missing 1 required positional argument: 'string'",
     "output_type": "error",
     "traceback": [
      "\u001b[1;31m---------------------------------------------------------------------------\u001b[0m",
      "\u001b[1;31mTypeError\u001b[0m                                 Traceback (most recent call last)",
      "\u001b[1;32m~\\AppData\\Local\\Temp/ipykernel_67856/4205896157.py\u001b[0m in \u001b[0;36m<module>\u001b[1;34m\u001b[0m\n\u001b[0;32m      1\u001b[0m \u001b[1;32mfor\u001b[0m \u001b[0mk\u001b[0m \u001b[1;32min\u001b[0m \u001b[0mmy_text\u001b[0m\u001b[1;33m:\u001b[0m\u001b[1;33m\u001b[0m\u001b[1;33m\u001b[0m\u001b[0m\n\u001b[1;32m----> 2\u001b[1;33m     \u001b[0mprint\u001b[0m\u001b[1;33m(\u001b[0m\u001b[0mre\u001b[0m\u001b[1;33m.\u001b[0m\u001b[0msearch\u001b[0m\u001b[1;33m(\u001b[0m\u001b[1;34mr\"AD\"\u001b[0m\u001b[1;33m)\u001b[0m\u001b[1;33m.\u001b[0m\u001b[0mgroup\u001b[0m\u001b[1;33m(\u001b[0m\u001b[1;33m)\u001b[0m\u001b[1;33m)\u001b[0m\u001b[1;33m\u001b[0m\u001b[1;33m\u001b[0m\u001b[0m\n\u001b[0m",
      "\u001b[1;31mTypeError\u001b[0m: search() missing 1 required positional argument: 'string'"
     ]
    }
   ],
   "source": [
    "for k in my_text:\n",
    "    print(re.search(r\"AD\").group())"
   ]
  },
  {
   "cell_type": "code",
   "execution_count": 36,
   "id": "635677b7",
   "metadata": {},
   "outputs": [
    {
     "name": "stderr",
     "output_type": "stream",
     "text": [
      "IOPub data rate exceeded.\n",
      "The notebook server will temporarily stop sending output\n",
      "to the client in order to avoid crashing it.\n",
      "To change this limit, set the config variable\n",
      "`--NotebookApp.iopub_data_rate_limit`.\n",
      "\n",
      "Current values:\n",
      "NotebookApp.iopub_data_rate_limit=1000000.0 (bytes/sec)\n",
      "NotebookApp.rate_limit_window=3.0 (secs)\n",
      "\n"
     ]
    }
   ],
   "source": [
    "if re.search(r\"AD\", my_text).group():\n",
    "    print(my_text)"
   ]
  },
  {
   "cell_type": "code",
   "execution_count": 46,
   "id": "54537a4a",
   "metadata": {},
   "outputs": [
    {
     "data": {
      "text/plain": [
       "'Hola mundo'"
      ]
     },
     "execution_count": 46,
     "metadata": {},
     "output_type": "execute_result"
    }
   ],
   "source": [
    "str_1 = 'Hola '\n",
    "str_2 = 'mundo'\n",
    "str_1 + str_2"
   ]
  },
  {
   "cell_type": "code",
   "execution_count": null,
   "id": "f5fb3c38",
   "metadata": {},
   "outputs": [],
   "source": [
    "re.search(r\"AD\\s+\\-\\s\", my_text).group()"
   ]
  },
  {
   "cell_type": "code",
   "execution_count": null,
   "id": "3d1ce223",
   "metadata": {},
   "outputs": [],
   "source": [
    "des = re.findall(r'[A-Z]{2}\\s(\\d{5}), USA', my_text)\n",
    "print(zipcodes[:25])"
   ]
  },
  {
   "cell_type": "code",
   "execution_count": null,
   "id": "de2c8afb",
   "metadata": {},
   "outputs": [],
   "source": [
    "string = \"Hey! What's up?\"\n",
    "characters = \"'!?\"\n",
    "\n",
    "for x in range(len(characters)):\n",
    "    string = string.replace(characters[x],\"\")\n",
    "\n",
    "print(string)"
   ]
  },
  {
   "cell_type": "code",
   "execution_count": null,
   "id": "7a805ba3",
   "metadata": {},
   "outputs": [],
   "source": [
    "delet = r'[a-z0-9]+[\\._]?[a-z0-9]+[@]\\w+[.]\\w{2,3}'\n",
    "\n",
    "for x in range(len(delet)):\n",
    "    lsce = lcc.replace(delet[x],\"\")\n",
    "\n",
    "print(lsce[:25])"
   ]
  },
  {
   "cell_type": "code",
   "execution_count": 208,
   "id": "f41d7420",
   "metadata": {},
   "outputs": [
    {
     "ename": "AttributeError",
     "evalue": "'str' object has no attribute 'remove'",
     "output_type": "error",
     "traceback": [
      "\u001b[1;31m---------------------------------------------------------------------------\u001b[0m",
      "\u001b[1;31mAttributeError\u001b[0m                            Traceback (most recent call last)",
      "\u001b[1;32m~\\AppData\\Local\\Temp/ipykernel_67856/1422143131.py\u001b[0m in \u001b[0;36m<module>\u001b[1;34m\u001b[0m\n\u001b[0;32m      1\u001b[0m \u001b[0ma\u001b[0m\u001b[1;33m=\u001b[0m \u001b[1;33m(\u001b[0m\u001b[1;34m'AD  - Institute of Public Health, University of Heidelberg, Im Neuenheimer Feld 365,  Heidelberg, Germany. epvws@pacific.net.sg'\u001b[0m\u001b[1;33m)\u001b[0m\u001b[1;33m\u001b[0m\u001b[1;33m\u001b[0m\u001b[0m\n\u001b[0;32m      2\u001b[0m \u001b[1;32mfor\u001b[0m \u001b[0mx\u001b[0m \u001b[1;32min\u001b[0m \u001b[0ma\u001b[0m\u001b[1;33m:\u001b[0m\u001b[1;33m\u001b[0m\u001b[1;33m\u001b[0m\u001b[0m\n\u001b[1;32m----> 3\u001b[1;33m     \u001b[0mlsce\u001b[0m \u001b[1;33m=\u001b[0m \u001b[0ma\u001b[0m\u001b[1;33m.\u001b[0m\u001b[0mremove\u001b[0m\u001b[1;33m(\u001b[0m\u001b[1;34mr'[a-z0-9]+[\\._]?[a-z0-9]+[@]\\w+[.]\\w{2,3}'\u001b[0m\u001b[1;33m)\u001b[0m\u001b[1;33m\u001b[0m\u001b[1;33m\u001b[0m\u001b[0m\n\u001b[0m\u001b[0;32m      4\u001b[0m \u001b[0mprint\u001b[0m\u001b[1;33m(\u001b[0m\u001b[0mlsce\u001b[0m\u001b[1;33m)\u001b[0m\u001b[1;33m\u001b[0m\u001b[1;33m\u001b[0m\u001b[0m\n\u001b[0;32m      5\u001b[0m \u001b[1;33m\u001b[0m\u001b[0m\n",
      "\u001b[1;31mAttributeError\u001b[0m: 'str' object has no attribute 'remove'"
     ]
    }
   ],
   "source": [
    "a= ('AD  - Institute of Public Health, University of Heidelberg, Im Neuenheimer Feld 365,  Heidelberg, Germany. epvws@pacific.net.sg')\n",
    "for x in a:\n",
    "    lsce = a.remove(r'[a-z0-9]+[\\._]?[a-z0-9]+[@]\\w+[.]\\w{2,3}')\n",
    "print(lsce)\n",
    "    \n"
   ]
  }
 ],
 "metadata": {
  "kernelspec": {
   "display_name": "Python 3 (ipykernel)",
   "language": "python",
   "name": "python3"
  },
  "language_info": {
   "codemirror_mode": {
    "name": "ipython",
    "version": 3
   },
   "file_extension": ".py",
   "mimetype": "text/x-python",
   "name": "python",
   "nbconvert_exporter": "python",
   "pygments_lexer": "ipython3",
   "version": "3.9.7"
  }
 },
 "nbformat": 4,
 "nbformat_minor": 5
}
