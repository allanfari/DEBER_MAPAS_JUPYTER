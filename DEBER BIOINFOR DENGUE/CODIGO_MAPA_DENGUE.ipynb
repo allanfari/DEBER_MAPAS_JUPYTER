{
 "cells": [
  {
   "cell_type": "code",
   "execution_count": null,
   "id": "486899d7",
   "metadata": {},
   "outputs": [],
   "source": []
  },
  {
   "cell_type": "code",
   "execution_count": 1,
   "id": "97a5338b",
   "metadata": {},
   "outputs": [],
   "source": [
    "import re\n",
    "import csv"
   ]
  },
  {
   "cell_type": "code",
   "execution_count": 2,
   "id": "ae3f1b81",
   "metadata": {},
   "outputs": [],
   "source": [
    "with open('pubmed-dengue-set.txt', encoding=\"utf8\") as f:\n",
    "    my_text = f.read()"
   ]
  },
  {
   "cell_type": "code",
   "execution_count": 3,
   "id": "f24bc036",
   "metadata": {},
   "outputs": [
    {
     "data": {
      "text/plain": [
       "3700053"
      ]
     },
     "execution_count": 3,
     "metadata": {},
     "output_type": "execute_result"
    }
   ],
   "source": [
    "len(my_text)"
   ]
  },
  {
   "cell_type": "code",
   "execution_count": 4,
   "id": "026d2313",
   "metadata": {},
   "outputs": [],
   "source": [
    "# con AD empiezan todas las direcciones (ciudades) donde se realizaron las publicaciones "
   ]
  },
  {
   "cell_type": "code",
   "execution_count": 5,
   "id": "7266fd80",
   "metadata": {},
   "outputs": [],
   "source": [
    "# reemplaze las iteraciones y las uní en una sola linea para poder encontrarlas rapido\n",
    "\n",
    "my_text = re.sub(r'\\n\\s{6}', ' ', my_text)"
   ]
  },
  {
   "cell_type": "code",
   "execution_count": 6,
   "id": "3e2a838f",
   "metadata": {},
   "outputs": [
    {
     "name": "stdout",
     "output_type": "stream",
     "text": [
      "PMID- 22494122\n",
      "OWN - NLM\n",
      "STAT- MEDLINE\n",
      "DCOM- 20120419\n",
      "LR  - 20120712\n",
      "IS  - 1533-4406 (Electronic)\n",
      "IS  - 0028-4793 (Linking)\n",
      "VI  - 366\n",
      "IP  - 15\n",
      "DP  - 2012 Apr 12\n",
      "TI  - Dengue.\n",
      "PG  - 1423-32\n",
      "LID - 10.1056/NEJMra1110265 [doi]\n",
      "FAU - Simmons, Cameron P\n",
      "AU  - Simmons CP\n",
      "AD  - Oxford University Clinical Research Unit and Wellcome Trust Major Overseas  Programme, Ho Chi Minh City, Vietnam.\n",
      "FAU - Farrar, Jeremy J\n",
      "AU  - Farrar JJ\n",
      "FAU - Nguyen, van Vinh Chau\n",
      "AU  - Nguyen vV\n",
      "FAU - Wills, Bridget\n",
      "AU  - Wills B\n",
      "LA  - eng\n",
      "PT  - Journal Article\n",
      "PT  - Review\n",
      "PL  - United States\n",
      "TA  - N Engl J Med\n",
      "JT  - The New England journal of medicine\n",
      "JID - 0255562\n",
      "RN  - 0 (Antibodies, Viral)\n",
      "RN  - 0 (Immunoglobulin M)\n",
      "SB  - IM\n",
      "CIN - N Engl J Med. 2012 Jul 12;367(2):180; author reply 181. PMID: 22784125\n",
      "CIN - N Engl J Med. 2012 Jul 12;367(2):180-1; author reply 181. PMID: 22784126\n",
      "MH  - Antibodies, Viral/blood\n",
      "MH  - Blood Transfusion\n",
      "MH  - *Dengue/diagnosis/epidemiology/etiology/therapy\n",
      "MH  - Dengue Virus/immunology\n",
      "MH  - Diagnosis, Differential\n",
      "MH  - Humans\n",
      "MH  - Immunoglobulin M/blood\n",
      "MH  - *Pandemics\n",
      "EDAT- 2012/04/13 06:00\n",
      "MHDA- 2012/04/20 06:00\n",
      "CRDT- 2012/04/13 06:00\n",
      "PHST- 2012/04/13 06:00 [entrez]\n",
      "PHST- 2012/04/13 06:00 [pubmed]\n",
      "PHST- 2012/04/20 06:00 [medline]\n",
      "AID - 10.1056/NEJMra1110265 [doi]\n",
      "PST - ppublish\n",
      "SO  - N Engl J Med. 2012 Apr 12;366(15):1423-32. doi: 10.1056/NEJMra1110265.\n",
      "\n",
      "PMID- 23041731\n",
      "OWN - NLM\n",
      "STAT- MEDLINE\n",
      "DCOM- 20130509\n",
      "LR  - 20211021\n",
      "IS  - 0971-5916 (Print)\n",
      "IS  - 0975-9174 (Electronic)\n",
      "IS  - 0971-5916 (Linking)\n",
      "VI  - 136\n",
      "IP  - 3\n",
      "DP  - 2012 Sep\n",
      "TI  - Dengue in India.\n",
      "PG  - 373-90\n",
      "AB  - Dengue virus belongs to family Flaviviridae, having four serotypes that spread by  the bite of infected Aedes mosquitoes. It causes a wide spectrum of illness from  mild asymptomatic illness to severe fatal dengue haemorrhagic fever/dengue shock  syndrome (DHF/DSS). Approximately 2.5 billion people live in dengue-risk regions  with about 100 million new cases each year worldwide. The cumulat\n"
     ]
    }
   ],
   "source": [
    "print(my_text[:2000])#compruebo que todo esta en una misma linea y sin iteraciones o tabs"
   ]
  },
  {
   "cell_type": "code",
   "execution_count": 7,
   "id": "fef40937",
   "metadata": {},
   "outputs": [
    {
     "name": "stdout",
     "output_type": "stream",
     "text": [
      "1309\n"
     ]
    }
   ],
   "source": [
    "# utilizo el comando findall para encontrar a todos las filas que comienzen con AD__-_ Y las reuno en un lista\n",
    "lcc = re.findall(r\"AD\\s+\\-\\s\\w.+\", my_text)\n",
    "print(len(lcc))\n",
    "#lcc= lista con correos electronicos"
   ]
  },
  {
   "cell_type": "code",
   "execution_count": 8,
   "id": "2b53d5de",
   "metadata": {},
   "outputs": [
    {
     "name": "stdout",
     "output_type": "stream",
     "text": [
      "['AD  - Oxford University Clinical Research Unit and Wellcome Trust Major Overseas  Programme, Ho Chi Minh City, Vietnam.', 'AD  - Indian Council of Medical Research, New Delhi, India.', 'AD  - Institute of Public Health, University of Heidelberg, Im Neuenheimer Feld 365,  Heidelberg, Germany. epvws@pacific.net.sg', 'AD  - Department of Paediatrics, University of Nairobi, Kenya. fwere@hcc.or.ke', 'AD  - Department of Microbiology and Immunology, National Cheng Kung University Medical  College, 1 University Road,Tainan, Taiwan.', 'AD  - Virology Branch, Division of Microbiology and Infectious Diseases, National  Institute of Allergy and Infectious Diseases, National Institutes of Health,  Bethesda, Maryland 20892-6603, USA. claughlin@niaid.nih.gov', 'AD  - Dengue Vaccine Initiative, International Vaccine Institute, Seoul, Korea.  halsteads@erols.com', 'AD  - Centre hospitalier de Polynésie française, Papeete, 98713 Tahiti, Polynésie  française, France. erwan.oehler@cht.pf', 'AD  - Armed Forces Research Institute of Medical Science, Bangkok, Thailand.  robert.gibbons@afrims.org', 'AD  - Program in Emerging Infectious Disease, Duke-NUS Graduate Medical School Singapore,  8 College Road, 169857 Singapore. kinfai.tang@duke-nus.edu.sg']\n"
     ]
    }
   ],
   "source": [
    "print(lcc[:10])#compruebo que la lista esta correctamente solo en los 25 primero elementos ya que la lista es muy larga"
   ]
  },
  {
   "cell_type": "code",
   "execution_count": 9,
   "id": "cb8d4c76",
   "metadata": {},
   "outputs": [
    {
     "name": "stdout",
     "output_type": "stream",
     "text": [
      "[\"('AD  - Carlos Slim Health Institute, Mexico City, Mexico. ', 'AD  - Armed Forces Research Institute of Medical Science, Bangkok, Thailand.  ')\", \"('AD  - Carlos Slim Health Institute, Mexico City, Mexico. ', 'AD  - Armed Forces Research Institute of Medical Science, Bangkok, Thailand.  ')\"]\n"
     ]
    }
   ],
   "source": [
    "###########\n",
    "q = ('AD  - Carlos Slim Health Institute, Mexico City, Mexico. tapiaconyer@yahoo.com.mx','AD  - Armed Forces Research Institute of Medical Science, Bangkok, Thailand.  robert.gibbons@afrims.org')\n",
    "q_nuevo = []\n",
    "for r in range(len(q)):\n",
    "    q_n = re.sub(r\"(?:[a-z0-9!#$%&'*+/=?^_`{|}~-]+(?:\\.[a-z0-9!#$%&'*+/=?^_`{|}~-]+)*|\\\"(?:[\\x01-\\x08\\x0b\\x0c\\x0e-\\x1f\\x21\\x23-\\x5b\\x5d-\\x7f]|\\\\[\\x01-\\x09\\x0b\\x0c\\x0e-\\x7f])*\\\")@(?:(?:[a-z0-9](?:[a-z0-9-]*[a-z0-9])?\\.)+[a-z0-9](?:[a-z0-9-]*[a-z0-9])?|\\[(?:(?:(2(5[0-5]|[0-4][0-9])|1[0-9][0-9]|[1-9]?[0-9]))\\.){3}(?:(2(5[0-5]|[0-4][0-9])|1[0-9][0-9]|[1-9]?[0-9])|[a-z0-9-]*[a-z0-9]:(?:[\\x01-\\x08\\x0b\\x0c\\x0e-\\x1f\\x21-\\x5a\\x53-\\x7f]|\\\\[\\x01-\\x09\\x0b\\x0c\\x0e-\\x7f])+)\\])\",'',str(q))\n",
    "    q_nuevo.append(q_n)\n",
    "    \n",
    "print(q_nuevo)\n",
    "\n",
    "# PEQUEÑA PRUEBA PARA VERIFICAR QUE SE ELIMINAN LOS CORREOS AL FINAL DE CADA FILA"
   ]
  },
  {
   "cell_type": "code",
   "execution_count": 10,
   "id": "0554556c",
   "metadata": {},
   "outputs": [
    {
     "name": "stdout",
     "output_type": "stream",
     "text": [
      "['[\\'AD  - Oxford University Clinical Research Unit and Wellcome Trust Major Overseas  Programme, Ho Chi Minh City, Vietnam.\\', \\'AD  - Indian Council of Medical Research, New Delhi, India.\\', \\'AD  - Institute of Public Health, University of Heidelberg, Im Neuenheimer Feld 365,  Heidelberg, Germany. \\', \\'AD  - Department of Paediatrics, University of Nairobi, Kenya. \\', \\'AD  - Department of Microbiology and Immunology, National Cheng Kung University Medical  College, 1 University Road,Tainan, Taiwan.\\', \\'AD  - Virology Branch, Division of Microbiology and Infectious Diseases, National  Institute of Allergy and Infectious Diseases, National Institutes of Health,  Bethesda, Maryland 20892-6603, USA. \\', \\'AD  - Dengue Vaccine Initiative, International Vaccine Institute, Seoul, Korea.  \\', \\'AD  - Centre hospitalier de Polynésie française, Papeete, 98713 Tahiti, Polynésie  française, France. \\', \\'AD  - Armed Forces Research Institute of Medical Science, Bangkok, Thailand.  \\', \\'AD  - Program in Emerging Infectious Disease, Duke-NUS Graduate Medical School Singapore,  8 College Road, 169857 Singapore. \\', \\'AD  - Division of Infectious Diseases, Department of Medicine, Faculty of Medicine,  Chulalongkorn University, Bangkok, Thailand. \\', \\'AD  - Animal and Plant Sciences, University of Sheffield, Sheffield, UK.  \\', \\'AD  - Department of Internal Medicine, St Stephens Hospital, Tis Hazari, Delhi, India.  \\', \"AD  - Department of Microbiology, College of Basic Medical Sciences, Key Laboratory of  Microbial Engineering under Educational Committee in Chongqing, Third Military  Medical University, 30# Gaotanyan St, Shapingba District, Chongqing 400038, People\\'s  Republic of China.\", \\'AD  - Center for Tropical Medicine, Nuffield Department of Clinical Medicine, Churchill  Hospital, University of Oxford, Oxford, UK. \\', \\'AD  - Hospital for Tropical Diseases, London WC1E 6JB. \\', \\'AD  - Laboratory of Molecular Virology of the Carlos Chagas Institute, ICC/Fiocruz, Prof.  Algacyr Munhoz Mader Street 3775, CIC, Curitiba, Paraná, 81350-010, Brazil.  \\', \\'AD  - Department of Child Health, Faculty of Medicine, University of Indonesia, Dr Cipto  Mangunkusumo Hospital, Jakarta, Indonesia. \\', \\'AD  - Department of Dengue Hemorrhagic Fever, Children’s Hospital No. 1, Ho Chi Minh City,  Viet Nam. \\', \\'AD  - Comisión Nacional de Arbitraje Médico, Distrito Federal, México.\\', \\'AD  - Department of Ophthalmology, The Eye Center and The Eye Foundation for Research in  Ophthalmology, Riyadh, Saudi Arabia. \\', \\'AD  - Maulana Azad Medical College, Bahadur Shah Zafar Marg, New Delhi, Delhi, 10002,  India.\\', \\'AD  - UMR 190-Emerging viral pathologies (IRD/Université Aix-Marseille II), Institut de  Recherche pour Développement, France. Dominique.B\\', \\'AD  - University Malaya, Faculty of Medicine, Department of Medical Microbiology, Kuala  Lumpur, Malaysia.\\', \\'AD  - Carlos Slim Health Institute, Mexico City, Mexico. \\', \\'AD  - Travel Medicine Center, Mount Auburn Hospital, Cambridge, Massachusetts, USA.  \\', \\'AD  - Centre for Health Economics Research and Modelling of Infectious Diseases (CHERMID),  Vaccine & Infectious Disease Institute (VAXINFECTIO), University of Antwerp,  Antwerpen, Belgium. \\', \\'AD  - School of Population Health, University of Queensland, Brisbane, Queensland,  Australia. \\', \\'AD  - Division of Infectious Diseases and Vaccinology, School of Public Health, University  of California, Berkeley, 1 Barker Hall, Berkeley, CA 94720, USA.  \\', \\'AD  - Department of Medical Microbiology, Molecular Virology Section, University Medical  Center Groningen, University of Groningen, Groningen, The Netherlands.\\', \\'AD  - Center for Biosecurity of UPMC, Baltimore, MD 21205, USA.  \\', \\'AD  - Vector Control Research Centre (ICMR), Puducherry, India.\\', \\'AD  - Department of Pathology and Laboratory Medicine, Emory Vaccine Center, Emory  University School of Medicine, Atlanta, GA, USA.\\', \\'AD  - Department of Microbiology and the Global Health and Emerging Pathogens Institute  (GHEPI), Mount Sinai School of Medicine, New York, NY 10029-6574, USA.  \\', \\'AD  - Carlos Slim Health Institute, Mexico City, Mexico. \\', \\'AD  - Emerging Viruses and Inflammation Research Group, Institute for Glycomics, Griffith  University, Gold Coast, QLD, 4222, Australia.\\', \\'AD  - University of Pittsburgh Medical Center, Pittsburgh, Pennsylvania, USA.  \\', \\'AD  - Division of Infectious Diseases, Department of Medicine, Institute of Human  Virology, University of Maryland School of Medicine, Baltimore, MD 20201, USA.  \\', \\'AD  - Special Programme for Research and Training in Tropical Diseases (TDR_WHO), Geneva,  Switzerland.\\', \\'AD  - School of Population Health, University of Queensland, Brisbane, Queensland,  Australia. \\', \\'AD  - Pediatric Dengue Vaccine Initiative, International Vaccine Institute, SNU Research  Park, San 4-8 Nakseongdae dong, Kwanak-gu, Seoul 151-919, Korea. ana  \\', \\'AD  - Center for Statistics and Quantitative Infectious Diseases, Vaccine and Infectious  Disease Division, Fred Hutchinson Cancer Research Center, Seattle, Washington,  United States of America.\\', \\'AD  - Department of Microbiology, College of Basic Medical Sciences, Third Military  Medical University, Key Laboratory of Microbial Engineering under Educational  Committee in Chongqing, Chongqing, China.\\', \\'AD  - Calcutta School of Tropical Medicine, Kolkata, India. \\', \\'AD  - Global Epidemiology, Lyon, France.\\', \\'AD  - School of Medicine, The University of São Paulo and LIM01 HCFMUSP, Brazil.\\', \\'AD  - Centre for Global Health Research, University of Umea, Sweden.\\', \\'AD  - Centre for Global Health Research, University of Umea, Sweden.\\', \\'AD  - Department of Clinical Microbiology and Immunology, Sir Ganga Ram Hospital, Rajinder  Nagar, New Delhi, India. \\', \\'AD  - Key Laboratory of Surveillance and Early-Warning on Infectious Disease, Chinese  Center for Disease Control and Prevention, Beijing 102206, China.\\', \\'AD  - Viral Diseases Program, Pan American Health Organization (PAHO), 525 23rd  Street,Washington, DC 20037, USA. \\', \\'AD  - Department of Pediatrics, Kanchi Kamakoti CHILDS Trust Hospital and CHILDS Trust  Medical Research Foundation, 12, Nageswara Road, Nungambakkam, Chennai, Tamil Nadu  600034, India. \\', \\'AD  - Department of Microbiology, The University of the West Indies, Mona, Kingston 7,  Jamaica. \\', \\'AD  - Department of Pediatrics, B.J. Wadia Hospital for Children, Mumbai, India.\\', \\'AD  - Institute of Clinical Medicine, College of Medicine, National Cheng Kung University,  Tainan City, Taiwan.\\', \\'AD  - Department of Community Medicine, Hadramout University Malaria Control Program,  Hadramout, Yemen. \\', \\'AD  - Programa de Medicina, Facultad de Salud, Universidad Surcolombiana, Neiva, Colombia,  .\\', \\'AD  - Programa de Medicina, Facultad de Salud, Universidad Surcolombiana, Neiva, Colombia,  .\\', \\'AD  - Departamento de Pediatría, Facultad de Salud, Hospital Universitario de Neiva,  Neiva, Colombia, .\\', \\'AD  - Universidad Industrial de Santander.\\', \\'AD  - Programa de Medicina, Facultad de Salud, Universidad Surcolombiana, Neiva, Colombia,  .\\', \\'AD  - Programa de Medicina, Facultad de Salud, Universidad Surcolombiana, Neiva, Colombia,  .\\', \\'AD  - Programa de Medicina, Facultad de Salud, Universidad Surcolombiana, Neiva, Colombia,  .\\', \\'AD  - Department of Microbiology, Kathmandu College of Science and Technology, Kalimati,  Kathmandu, Nepal.\\', \\'AD  - Dengue Branch, Division of Vector-Borne Diseases (DVBD), National Center for  Emerging and Zoonotic Infectious Diseases (NCEZID), Centers for Disease Control and  Prevention (CDC), San Juan, Puerto Rico. \\', \\'AD  - Department of Virology and Experimental Therapy, Centro de Pesquisas Aggeu  Magalhães, Fiocruz, Recife, PE, Brazil.\\', \\'AD  - Lab. Ecologia Química de Insetos Vetores, Departamento de Parasitologia, Instituto  de Ciências Biológicas, Universidade Federal de Minas Gerais. Av. Presidente Antônio  Carlos, Belo Horizonte, MG, Brazil. \\', \\'AD  - Umeå Centre for Global Health Research, Epidemiology and Global Health, Department  of Public Health and Clinical Medicine, Umeå University, Umeå, Sweden.\\', \\'AD  - Umeå Centre for Global Health Research, Epidemiology and Global Health, Department  of Public Health and Clinical Medicine, Umeå University, Umeå, Sweden.  \\', \\'AD  - Department of Tropical Pediatrics, Faculty of Tropical Medicine, Mahidol University,  Bangkok, Thailand. \\', \\'AD  - Department of Neurology, Sanjay Gandhi Post Graduate Institute of Medical Sciences,  Lucknow, India. \\', \\'AD  - Department of Dermatology, Shaikh Zayed Federal Postgraduate Medical Institute,  Pakistan. S\\', \\'AD  - Yale Journal of Biology and Medicine, New Haven, CT, USA. \\', \\'AD  - Environmental Health Institute, National Environment Agency, 11 Biopolis Way,  #06-05/08 Helios Block, Singapore 138667, Singapore.\\', \\'AD  - Florida Department of Health, Tallahassee, Florida, USA.\\', \\'AD  - Programa de Pós-Graduação em Comunicação, Universidade Federal de Pernambuco,  Recife, PE. \\', \\'AD  - Department of Chemistry, National University of Singapore, 3 Science Drive 3,  Singapore 117543, Singapore.\\', \\'AD  - University of Copenhagen, Copenhagen, Denmark. \\', \\'AD  - Department of Nephrology and Renal Transplantation, Sanjay Gandhi Post Graduate  Institute of Medical Sciences, Lucknow, India. \\', \\'AD  - Johns Hopkins University School of Medicine, Geographic Medicine Center, Division of  Infectious Diseases, Johns Hopkins Travel and Tropical Medicine Service, Baltimore,  MD, USA. \\', \\'AD  - Department of Pediatrics, Kempegowda Institute of Medical Sciences Bangalore,  Karnataka, India. \\', \\'AD  - Laboratory of Molecular Evolution and Bioinformatics, Department of Microbiology,  Biomedical Sciences Institute, Universidade de São Paulo, Brazil.  \\', \\'AD  - Institut Pasteur de la Guyane, Laboratoire de Virologie, Cayenne, French Guiana.  \\', \\'AD  - State Health Secretariat of Ceará, Fortaleza, Ceará, Brazil.  \\', \\'AD  - Key Laboratory of Prevention and Control for Emerging Infectious Diseases of  Guangdong Higher Institutes, School of Public Health and Tropical Medicine, Southern  Medical University, Guangzhou, Guangdong 510515, Peoples Republic of China.\\', \\'AD  - 60° Pharmaceuticals LLC, 1025 Connecticut Ave. NW, Washington, DC 20036, United  States. \\', \\'AD  - Department of Ophthalmology, School of Medical Sciences, Universiti Sains Malaysia,  Health Campus, Kota Bharu, Kelantan, Malaysia.\\', \\'AD  - CIC-EC Antilles Guyane CIE 802 Inserm, Centre Hospitalier Andrée Rosemon, Cayenne,  French Guiana. \\', \\'AD  - Laboratório Nacional de Computação Científica, Petrópolis, Brazil.\\', \\'AD  - \\', \"AD  - Era\\'s Lucknow Medical College, Sarfarazganj, Hardoi Road, Lucknow, Uttar Pradesh,  India. \", \\'AD  - Indonesia-Japan Collaborative Research Center for Emerging and Re-emerging  Infectious Diseases, Institute of Tropical Disease, Airlangga University, Kampus C,  UNAIR Jl. Mulyorejo, Surabaya, Indonesia. \\', \\'AD  - Division of Pulmonary and Critical Care Medicine, Department of Internal Medicine,  Kaohsiung Chang Gung Memorial Hospital and Chang Gung University College of  Medicine, No. 123, Dapi Road, Niaosong District, Kaohsiung 83301, Taiwan.\\', \\'AD  - Departamento de Enfermagem de Saúde Pública, Faculdade de Enfermagem, Universidade  do Estado do Rio de Janeiro, Rio de Janeiro, RJ, Brasil. \\', \\'AD  - Department of Pediatrics, Division of Pediatric Infectious Diseases, Bronx Center  for Travel and International Health, Bronx-Lebanon Hospital Center, New York, USA.  \\', \\'AD  - Department of Molecular Genetics and Microbiology, Stony Brook University, Stony  Brook, New York, USA.\\', \\'AD  - Division of Infectious Diseases, Department of Internal Medicine, Kaohsiung Chang  Gung Memorial Hospital, Kaohsiung, Taiwan.\\', \\'AD  - Department of Clinical Research, London School of Hygiene and Tropical Medicine,  London, UK. \\', \\'AD  - Complete Healthcare International Pte, Singapore. \\', \\'AD  - Institute of Clinical Medicine, College of Medicine, National Cheng Kung University,  138 Sheng-Li Road, Tainan City, Taiwan.\\', \\'AD  - Center for Geographic Medicine, Tel Hashomer, Israel. \\', \\'AD  - Institute of Tropical Medicine (NEKKEN) and the Global Center of Excellence program,  Nagasaki University, 1-12-4 Sakamoto, Nagasaki, Japan. \\', \\'AD  - Department of Biomedical Engineering, University of Malaya, Kuala Lumpur, Malaysia.  \\', \\'AD  - V.S.S. Medical College, Burla, Sambalpur, India. \\', \\'AD  - Fundación Mundo Sano, Argentina. \\', \\'AD  - Departamento de Medicina, Oriente, Universidad de Chile, Santiago, Chile.  \\', \\'AD  - Department of Microbiology, Faculty of Medical Sciences, University of Sri  Jayewardenepura, Nugegoda, Sri Lanka. \\', \\'AD  - Department of Geography, Faculty of Arts and Social Sciences, University of Malaya,  50603, Kuala Lumpur, Malaysia. \\', \\'AD  - Department of Epidemiology, Rollins School of Public Health, Emory University,  Atlanta, GA, USA.\\', \\'AD  - Instituto de Saúde Coletiva, Federal University of Bahia, Salvador, Bahia, Brazil  \\\\u2002Faculdade de Medicina, Federal University of Bahia, Salvador, Bahia, Brazil.\\', \\'AD  - Public Health Foundation of India, New Delhi, Delhi 110070, India.  \\', \\'AD  - Johns Hopkins University School of Medicine, Baltimore, Maryland 21205, USA.  \\', \\'AD  - Departamento de Análises Clínicas, Toxicológicas e Bromatológicas da Faculdade de  Ciências Farmacêuticas de Ribeirão Preto, Universidade de São Paulo, Monte Alegre,  14049-900 Ribeirao Preto, SP, Brazil. \\', \\'AD  - Institute of Biomedical Sciences, Academia Sinica, Taipei, Taiwan.\\', \\'AD  - Department of Medical Entomology, National Health Laboratory, Ministry of Health,  Khartoum, Sudan. \\', \\'AD  - Spatial Ecology and Epidemiology Group, Department of Zoology, University of Oxford,  Oxford, United Kingdom. \\', \\'AD  - Department of Infection and Immunity, Imperial College, London, UK.  \\', \\'AD  - Department of Clinical Tropical Medicine, Faculty of Tropical Medicine, Mahidol  University, Bangkok, Thailand. \\', \\'AD  - Division of General Internal Medicine, Department of Medicine, Medical University of  South Carolina, Charleston, SC 29407, USA.\\', \\'AD  - National Centre for Epidemiology and Population Health, and Fenner School of  Environment and Society, Australian National University, Canberra, Australian  Capital Territory, Australia. \\', \\'AD  - Department of Neurology, Sanjay Gandhi Post Graduate Institute of Medical Sciences,  Lucknow, India.\\', \\'AD  - National Institute for Infectious Diseases, \"L. Spallanzani\", Rome, Italy.  \\', \\'AD  - Holy Name Medical Center, 718 Teaneck Rd, Teaneck, N.J. 07666, USA.  M\\', \\'AD  - Foundation for Research and Technology–Hellas, Heraklion, Greece.  \\', \\'AD  - Division of Epidemiology, School of Public Health, University of California,  Berkeley, California, United States of America.\\', \\'AD  - Department of Pediatrics, Lilavati Hospital and Research Centre, Mumbai, India.  \\', \\'AD  - Department of Internal Medicine, First Affiliated Hospital, Guangxi Medical  University, Nanning, Guangxi 530021, China.\\', \\'AD  - Department of Public Health and Clinical Medicine, Epidemiology and Global Health,  Umeå University, Umeå, Sweden. \\', \\'AD  - Dept. of Medicine and Rheumatology, KEM Hospital and Seth GS Medical College,  Mumbai, India.\\', \\'AD  - Department of Clinical Epidemiology, Tan Tock Seng Hospital, Singapore, Singapore.  Linda_K_L\\', \\'AD  - Department of Entomology, University of California, Davis, CA 95616, USA.  \\', \\'AD  - Unidad de Ecología de Reservorios y Vectores de Parásitos, DEGE, FCEyN, Universidad  de Buenos Aires, Ciudad Universitaria, Pabellón 2, 4° Piso-C1428EHA, Buenos Aires,  Argentina. \\', \\'AD  - Vaccines Division, Center for Genetic Engineering and Biotechnology (CIGB), Avenue  31, PO Box 6162, Playa, Havana 10\\\\u200a600, Cuba.\\', \"AD  - Virology Department, Tropical Medicine Institute \\'Pedro Kourí\\', PAHO/WHO  Collaborating Center for the Study of Dengue and its Vector, Autopista Novia del  Mediodía, km 6� PO Box Marianao 13, Havana 11\\\\u200a600, Cuba.\", \"AD  - Virology Department, Tropical Medicine Institute \\'Pedro Kourí\\', PAHO/WHO  Collaborating Center for the Study of Dengue and its Vector, Autopista Novia del  Mediodía, km 6� PO Box Marianao 13, Havana 11\\\\u200a600, Cuba.\", \"AD  - Virology Department, Tropical Medicine Institute \\'Pedro Kourí\\', PAHO/WHO  Collaborating Center for the Study of Dengue and its Vector, Autopista Novia del  Mediodía, km 6� PO Box Marianao 13, Havana 11\\\\u200a600, Cuba.\", \\'AD  - Vaccines Division, Center for Genetic Engineering and Biotechnology (CIGB), Avenue  31, PO Box 6162, Playa, Havana 10\\\\u200a600, Cuba.\\', \\'AD  - Vaccines Division, Center for Genetic Engineering and Biotechnology (CIGB), Avenue  31, PO Box 6162, Playa, Havana 10\\\\u200a600, Cuba.\\', \\'AD  - Vaccines Division, Center for Genetic Engineering and Biotechnology (CIGB), Avenue  31, PO Box 6162, Playa, Havana 10\\\\u200a600, Cuba.\\', \\'AD  - Vaccines Division, Center for Genetic Engineering and Biotechnology (CIGB), Avenue  31, PO Box 6162, Playa, Havana 10\\\\u200a600, Cuba.\\', \"AD  - Virology Department, Tropical Medicine Institute \\'Pedro Kourí\\', PAHO/WHO  Collaborating Center for the Study of Dengue and its Vector, Autopista Novia del  Mediodía, km 6� PO Box Marianao 13, Havana 11\\\\u200a600, Cuba.\", \\'AD  - Vaccines Division, Center for Genetic Engineering and Biotechnology (CIGB), Avenue  31, PO Box 6162, Playa, Havana 10\\\\u200a600, Cuba.\\', \\'AD  - Vaccines Division, Center for Genetic Engineering and Biotechnology (CIGB), Avenue  31, PO Box 6162, Playa, Havana 10\\\\u200a600, Cuba.\\', \\'AD  - Department of Mathematical Sciences and Technology, Norwegian University of Life  Sciences, Ås, Norway. \\', \\'AD  - Department of Medical Microbiology, University of Malaya, Kuala Lumpur, Malaysia.  \\', \\'AD  - Research Programs Unit, Infection Biology & Department of Virology, Haartman  Institute, University of Helsinki, Finland.\\', \\'AD  - Epidemiology and Global Health, Department of Public Health and Clinical Medicine,  Umeå University, Umeå, Sweden. \\', \\'AD  - Department of Microbiology and Immunology, Stanford University School of Medicine,  Stanford, California, USA.\\', \\'AD  - Department of Medical Research (Lower Myanmar), Yangon, Myanmar.\\', \\'AD  - Laboratorio de Virología, Instituto Nacional de Salud, Avenida/Calle 26 No, 51-20,  Bogotá, D.C.,Colombia. \\', \\'AD  - Faculty of Medicine, Kassala University, Kassala, Sudan.\\', \\'AD  - Laboratório de Doenças Transmissíveis, Departamento de Parasitologia, Centro de  Pesquisas Aggeu Magalhães - Fundação Oswaldo Cruz, Recife, Brazil.\\', \"AD  - Instituto de Medicina Tropical \\'Pedro Kourí\\', Habana, Cuba. \", \\'AD  - Department of Virology, Armed Forces Research Institute of Medical Sciences,  Bangkok, Thailand. \\', \\'AD  - Research and Diagnostic Center, Centers for Disease Control, Department of Health,  Taipei, Taiwan, ROC.\\', \\'AD  - Pediatric Hematology Oncology and Bone Marrow Transplantation Unit, Department of  Pediatrics, Institute of Child Health, Sir Ganga Ram Hospital, Delhi, India.\\', \\'AD  - Remote Sensing and GIS, School of Engineering and Technology, Asian Institute of  Technology (AIT), P,O, Box 4, Pathumthani 12120, Klong Luang, Thailand.\\', \\'AD  - Dengue Company, Sanofi Pasteur, Lyon, France. \\', \\'AD  - Research Institute for Tropical Medicine, Alabang, Muntinlupa City, Philippines.  \\', \\'AD  - Epidemic Intelligence Service, Centers for Disease Control and Prevention, Atlanta,  Georgia, USA.\\', \\'AD  - International Centre for Diarrhoeal Disease Research, Bangladesh, Dhaka, Bangladesh.  \\', \\'AD  - Faculdade de Saúde Pública, University of São Paulo School of Public Health, São  Paulo, Brazil. \\', \\'AD  - Center for Health Policy and Social Change, Sleman, Daerah Istimewa Yogyakarta,  Indonesia. tanasusilowati@ gmail.com\\', \\'AD  - Dengue Relief Foundation, Managua, Nicaragua. \\', \\'AD  - Maulana Azad Medical College, New Delhi, India. \\', \\'AD  - Key Laboratory of Surveillance and Early-warning on Infectious Disease, Chinese  Center for Disease Control and Prevention, Beijing, China.\\', \\'AD  - Department of Clinical Epidemiology, Tan Tock Seng Hospital, Singapore, Singapore.  \\', \\'AD  - Children’s Hospital Boston, Boston, Massachusetts, USA. \\', \\'AD  - School of Public Health and Social Works, Institute of Health and Biomedical  Innovation, Queensland University of Technology, Brisbane, Qld, Australia.\\', \\'AD  - Laboratório de Virologia, Fundação de Medicina Tropical Dr. Heitor Vieira Dourado,  Manaus, AM, Brasil.\\', \\'AD  - Arboviruses and Viral Haemorrhagic Fevers Laboratory (National Ref. Lab), Department  of Virology, Pasteur Institute of Iran, 60 Pasteur Ave., Tehran, Iran.  \\', \\'AD  - Dengue Branch, Division of Vector Borne Diseases, National Center for Emerging and  Zoonotic Infectious Diseases, Centers for Disease Control and Prevention, San Juan,  Puerto Rico. \\', \\'AD  - Department of Medical Microbiology, Tropical Infectious Disease Research and  Education Center (TIDREC), Faculty of Medicine, University Malaya, Kuala Lumpur,  Malaysia.\\', \\'AD  - Infectious Disease Department and EPI Program, Ministry of Health, Riyadh, Saudi  Arabia.\\', \\'AD  - Department of Internal Medicine , Institute of Post Graduate Medical Education and  Research, Kolkata, West Bengal, India. \\', \\'AD  - Health Sciences, University of Trinidad and Tobago, Arima, Trinidad, West Indies.  \\', \\'AD  - Centre of Excellence for Ecoinformatics, School of Science, Walailak University, 222  Thaiburi, Thasala, Nakhon Si Thammarat 80161, Thailand.\\', \\'AD  - Emergency and Intensive Care Department, University Hospital, Fort-de-France,  Martinique. \\', \\'AD  - Disease Control and Prevention Center, National Center for Global Health and  Medicine, Tokyo, Japan. \\', \\'AD  - Laboratório de Investigações em Neurodegeneração e Infecção, Hospital Universitário  João de Barros Barreto, Instituto de Ciências Biológicas, Universidade Federal do  Pará, Belém, PA, Brasil.\\', \\'AD  - Division of Infectious Diseases, Department of Internal Medicine, Kaohsiung Medical  University Hospital, Kaohsiung Medical University, Kaohsiung, Taiwan.\\', \\'AD  - Department of Environmental Science, Faculty of Environmental Studies, Putra  University, Serdang, Malaysia.\\', \\'AD  - Department of Microbiology and Immunology, Stanford University, Stanford,  California, United States of America.\\', \\'AD  - Department of Internal Medicine, University of Indonesia, Jakarta Pusat, Indonesia.  \\', \\'AD  - Centre for Quantitative Medicine, Office of Clinical Sciences, Duke-NUS Graduate  Medical School, Singapore. \\', \\'AD  - Service de médecine interne, université Paris-13, hôpital Jean-Verdier, Bondy cedex,  France. \\', \\'AD  - Department of Internal Medicine, Infectious Diseases, Graduate School of Medicine,  The University of Tokyo, Japan.\\', \\'AD  - Department of Microbiology, Faculty of Medical Sciences, University of Sri  Jayawardanapura, Nugegoda, Sri Lanka.\\', \\'AD  - Department of Medicine, Sri Ramachandra Medical College and Research Institute,  Chennai, India. \\', \"AD  - Chief-Secretary\\'s Office, Taiwan Centers for Disease Control, Taipei, Taiwan, R.O.C.  \", \\'AD  - Laboratoire de Virologie, Centre National de Référence des Arbovirus et Virus  Influenza Région Antilles-Guyane, Institut Pasteur de la Guyane, Cayenne, French  Guiana. \\', \\'AD  - Laboratory of Molecular Biology for Infectious Diseases and Cancer, Federal  University of Rio Grande do Norte, Natal, Brazil. \\', \\'AD  - Department of Virology, Bangabandhu Sheikh Mujib Medical University, Kazi Nazrul  Islam Avenue, Shahabag, Dhaka, Bangladesh.\\', \\'AD  - Oxford University Clinical Research Unit, Wellcome Trust Major Overseas Programme,  Ho Chi Minh City, Vietnam. \\', \\'AD  - Center of Excellence in Clinical Virology, Department of Pediatrics, Faculty of  Medicine, Chulalongkorn University, Bangkok, Thailand.\\', \\'AD  - W. Harry Feinstone Department of Molecular Microbiology and Immunology, Bloomberg  School of Public Health, Johns Hopkins University, Baltimore, Maryland, United  States of America.\\', \\'AD  - Instituto de Medicina Molecular, Faculdade de Medicina da Universidade de Lisboa,  Lisbon, Portugal.\\', \\'AD  - Department of Internal Medicine, Universidade Estadual de Campinas, Campinas, SP,  Brazil. \\', \\'AD  - Department of Internal Medicine, Christian MedicalCollege, Ludhiana, Punjab, India.  \\', \\'AD  - Department of Pediatrics, Faculty of Medicine, Ramathibodi Hospital, Mahidol  University, Bangkok 10400, Thailand. \\', \\'AD  - Field Epidemiology Training Program (FETP), Ministry of Health, Al Rawdah District,  P.O Box 6344, Riyadh 11442, Saudi Arabia. \\', \\'AD  - Department of Preclinical Sciences, Faculty of Medical Sciences, University of the  West Indies, St Augustine, Trinidad and Tobago.\\', \\'AD  - Ministry of Health. National Dengue Control Program, Brazil.\\', \\'AD  - Faculty of Medicine, Chulalongkorn University, Bangkok, Thailand.\\', \\'AD  - Research and Diagnostic Center, Centers for Disease Control, Department of Health,  Taipei, Taiwan, Republic of China.\\', \\'AD  - Instituto de Investigaciones Clínicas Dr. Américo Negrette, Universidad del Zulia,  Maracaibo, Venezuela.\\', \\'AD  - Johns Hopkins University Applied Physics Laboratory, 11100 Johns Hopkins Rd, Laurel,  MD 20723-6099, USA. \\', \\'AD  - Yale School of Public Health, New Haven, Connecticut, United States of America.  \\', \\'AD  - Department of Pediatrics, University College of Medical Sciences and Guru Tegh  Bahadur Hospital, Delhi, India. \\', \\'AD  - Department of Pediatrics, Faculty of Medicine, Prince of Songkla University, Hat  Yai, Thailand. \\', \\'AD  - Division of Vector-Borne Diseases, National Center for Emerging and Zoonotic  Infectious Diseases, Centers for Disease Control and Prevention, Fort Collins,  Colorado 80522-2087, USA. LXP2@CDC.GOV\\', \\'AD  - Department of Virology, Statens Serum Institut, Copenhagen S, Denmark. \\', \\'AD  - Institute of Immunology, Zhongshan School of Medicine, Sun Yat-sen University,  Guangzhou 510080, China.\\', \\'AD  - Virology Research Center, School of Medicine of tRibeirão Preto, University of São  Paulo, São Paulo, Brazil.\\', \\'AD  - Singapore Immunology Network, Agency for Science, Technology and Research, 138648  Singapore.\\', \\'AD  - Department of Microbiology and Immunology, Dalhousie University, Halifax, Nova  Scotia, Canada.\\', \\'AD  - Institut Pasteur in Cambodia, Réseau International des Instituts Pasteur, Phnom  Penh, Cambodia. \\', \\'AD  - United States Naval Medical Research Unit Six, Lima, Perú. \\', \\'AD  - Grupo de Virología, Universidad El Bosque, Carrera 7B bis No 132-11 Edif. de  Biblioteca. Lab. 205, Bogotá, Colombia.\\', \\'AD  - Wadhwani Research Center for Biosciences and Bioengineering, Department of  Biosciences and Bioengineering, Indian Institute of Technology Bombay, Powai,  Mumbai, India.\\', \\'AD  - Oxford University Clinical Research Unit, Ho Chi Minh City, Vietnam.\\', \\'AD  - School of Biological Sciences, Universiti Sains Malaysia, Penang, Malaysia.\\', \\'AD  - Department of Virology, Erasmus Medical Center, Rotterdam, The Netherlands.  \\', \\'AD  - Cire ocean Indien (Cire OI), Institut de Veille Sanitaire (InVS), Saint Denis,  Reunion, France. Sophie.L\\', \\'AD  - Department of Pediatric Medicine, Medical College & Hospitals, 88 College Street,  Kolkata- 700073, India.\\', \\'AD  - Departamento de Clínica Médica, Escola Superior de Ciências, Vitória, ES.  \\', \\'AD  - Monash University, School of Biological Sciences, Clayton, Australia.\\', \\'AD  - Department of Virology; New Delhi, India. \\', \\'AD  - Escola Nacional de Saúde Pública Sergio Arouca, Fundação Oswaldo Cruz, Rio de  Janeiro, Brasil. \\', \\'AD  - Central Department of Microbiology, Tribhuvan University, Kirtipur, Kathmandu,  Nepal. \\', \\'AD  - New England Primate Research Center, Department of Microbiology and Immunobiology,  Harvard Medical School, Southborough, Massachusetts, United States of America.  \\', \\'AD  - Center for Tropical Medicine and Travel Medicine, University of Amsterdam,  Amsterdam, The Netherlands.\\', \\'AD  - Vector Group, Liverpool School of Tropical Medicine, Liverpool, UK. \\', \\'AD  - Department of International Health, Institute of Tropical Medicine, The Global  Center of Excellence, Nagasaki University, Nagasaki, Japan.  \\', \\'AD  - Division of Infectious Diseases and International Health, Department of Medicine,  Duke University Medical Center, Durham, North Carolina, USA.\\', \\'AD  - Department of Pediatrics, Faculty of Medicine, Khon Kaen University, Khon Kaen,  Thailand. \\', \\'AD  - Gorgas Memorial Institute for Health Studies, Panama City, Panama.  \\', \\'AD  - Department of Epidemiology, Johns Hopkins Bloomberg School of Public Health,  Baltimore, Maryland, United States of America. \\', \\'AD  - Everest International Clinic and Research Centre, Kathmandu, Nepal.  \\', \\'AD  - R&D Dengue Vaccine Program Head, Sanofi Pasteur, Lyon, France.\\', \\'AD  - School of Public Health and Tropical Medicine of South Medical University, No.1838,  North Road Avenue, Guangzhou, Guangdong Province 510515, PR China.\\', \\'AD  - Center of Excellence for Ecoinformatics, School of Science, Walailak University,  Thasala, Nakhon Si Thammarat, Thailand.\\', \\'AD  - Unidade de Ensino e Investigacao de Parasitologia Medica, Instituto de Higiene e  Medicina Tropical, Universidade Nova de Lisboa, Lisbon, Portugal.  \\', \\'AD  - Department of Virus Diseases, Walter Reed Army Institute of Research, Silver Spring,  Maryland, USA. \\', \\'AD  - Dengue Group, National Institute of Virology, 20-A Ambedkar Road, Pune 411001,  Maharashtra, India. \\', \\'AD  - Laboratory of Immunology, University Hospital of Nancy, & Nancy Université EA 4369  RHEM, Allée du Morvan, Vandoeuvre-lès-Nancy, 54500, France.  \\', \\'AD  - Department of Molecular and Cellular Biochemistrya and Department of Biology,b  Indiana University, Bloomington, Indiana, USA.\\', \\'AD  - Public Health Institute, Federal University of Bahia, Bahia, Brazil.  \\', \\'AD  - Institute of Health Management Research, Jaipur, India.\\', \\'AD  - Department of Clinical Tropical Medicine, Faculty of Tropical Medicine, Mahidol  University, Bangkok, Thailand. \\', \\'AD  - Department of Virology, Beijing Institute of Microbiology and Epidemiology, Beijing,  China.\\', \\'AD  - University of Medicine and Pharmacy of Ho Chi Minh City, Viet Nam.\\', \\'AD  - Tan Tock Seng Hospital; Singapore.\\', \\'AD  - Institut Català de Ciències del Clima, Barcelona, Spain. \\', \\'AD  - Indonesia-Japan Collaborative Research Center for Emerging and Reemerging Infectious  Diseases, Institute of Tropical Disease, Airlangga University, Surabaya, Indonesia.\\', \\'AD  - Center for Vaccine Research, University of Pittsburgh, Pittsburgh, PA 15261, USA.\\', \\'AD  - Department of Tropical Pediatrics, Faculty of Tropical Medicine, Mahidol University,  Bangkok, Thailand.\\', \\'AD  - Escola Nacional de Saúde Pública Sergio Arouca, Fundação Oswaldo Cruz, Riode  Janeiro, Brasil. \\', \\'AD  - Center of Excellence for Vectors and Vector-Borne Diseases, Faculty of Science,  Mahidol University at Salaya, Nakhon Pathom, Thailand. \\', \\'AD  - Service de Pneumologie, CHU de Pointe-à-Pitre, 97159 Pointe-à-Pitre cedex, France.  \\', \\'AD  - Division of Vector-borne Infectious Diseases, Dengue Branch, Centers for Disease  Control and Prevention, San Juan, Puerto Rico.\\', \\'AD  - Instituto de Bioquímica Médica, Universidade Federal do Rio de Janeiro, CCS, Bloco  E, lab. E-018. Av. Carlos Chagas Filho, 373. Cidade Universitária, Rio de Janeiro,  RJ, Brazil.\\', \\'AD  - Bio-process Scale Up Facility, Defence Research and Development Establishment,  Ministry of Defence (Government of India), Gwalior, MP 474 002, India.  \\', \\'AD  - Department of Pathology and Laboratory Medicine, Emory University School of  Medicine, Atlanta, Ga., USA.\\', \\'AD  - Center for Biodefense and Emerging Infectious Diseases and Department of Pathology,  University of Texas Medical Branch, Galveston, TX 77555-0610, USA.\\', \\'AD  - Human Biochemistry Laboratory, State University of Ceará, Fortaleza, Ceará, Brazil.  \\', \\'AD  - Núcleo de Genética Humana e Molecular, Departamento de Ciências Biológicas, Centro  de Ciências Humanas e Naturais, Universidade Federal do Espírito Santo, Av. Marechal  Campos, 1468, Campus de Maruípe, 29040-090, Vitoria, ES, Brazil.\\', \\'AD  - Universidade do Estado do Amazonas, Manaus, Brazil. \\', \\'AD  - National Centre for Epidemiology, Surveillance and Health Promotion, National  Institute of Health (Istituto Superiore di Sanità ISS), Rome, Italy.\\', \\'AD  - Division of Infectious Diseases, Department of Medicine, Kaohsiung Chang Gung  Memorial Hospital, Kaohsiung, Taiwan.\\', \\'AD  - Institute of Zoology, Slovak Academy of Sciences, Bratislava, Slovakia.  \\', \\'AD  - Centro de Investigaciones sobre Enfermedades Infecciosas-CISEI, Instituto Nacional  de Salud Pública-INSP, Cuernavaca-62100, México.\\', \\'AD  - Division of Infectious Diseases, Department of Internal Medicine, Kaohsiung Medical  University Hospital, Kaohsiung Medical University, Kaohsiung, Taiwan.\\', \\'AD  - Ospedale Sacro Cuore-Don Calabria, Negrar, Verona, Italy.  \\', \\'AD  - King Edward Medical University/Mayo Hospital, Pakistan. \\', \\'AD  - Departamento de Virología, Centro Colaborador para el estudio del Dengue y su  Vector, Instituto de Medicina Tropical Pedro Kourí, La Habana, Cuba. \\', \\'AD  - Peter Medawar Building for Pathogen Research, University of Oxford, Oxford OX1 3SY,  United Kingdom .\\', \\'AD  - Institut Pasteur, Department of Virology, Arboviruses and Insect Vectors Laboratory,  Paris, France. \\', \\'AD  - Centro de Investigaciones Biológicas del Noroeste (CIBNOR), Planeaci6n Ambiental y  Conservación, La Paz, Baja California Sur.\\', \"AD  - Service d\\'Accueil des Urgences Pédiatriques, Hôpital Robert Debré, Assistance  Publique-Hôpitaux de Paris, 48 boulevard Sérurier, Paris Cedex 19, France.  \", \\'AD  - Medicinal Chemistry, Institute of Pharmacy and Molecular Biotechnology, Heidelberg  University, Germany.\\', \\'AD  - Programa Nacional de Dengue, Secretaría de Salud, Tegucigalpa, Honduras.  \\', \\'AD  - Department of Epidemiology, Johns Hopkins Bloomberg School of Public Health,  Baltimore, MD 21205, USA.\\', \\'AD  - Department of medicine (ward 45), the National hospital of Sri Lanka, Regent Street,  Colombo 00800, Sri Lanka.\\', \\'AD  - Departamento de Virología, Centro de Investigación y Estudios Avanzados del  Instituto Politécnico Nacional (CINVESTAV-IPN), Mexico D.F., Mexico.\\', \\'AD  - Centre for Global Health Research, Department of Public Health and Clinical  Medicine, Umeå University, Umeå, Sweden.\\', \\'AD  - Department of Zoology, University of Calcutta, 35 Ballygunge Circular Road, Kolkata  700 019, India. \\', \\'AD  - Division of Infectious Diseases and Vaccinology, School of Public Health, University  of California, Berkeley, Berkeley, CA 94720-3370, USA.\\', \\'AD  - Australian Infectious Diseases Research Centre, School of Chemistry and Molecular  Biosciences, The University of Queensland, St Lucia, Queensland 4072, Australia.\\', \\'AD  - Institute for Molecular Bioscience, The University of Queensland, St Lucia,  Queensland 4072, Australia.\\', \\'AD  - Australian Infectious Diseases Research Centre, School of Chemistry and Molecular  Biosciences, The University of Queensland, St Lucia, Queensland 4072, Australia.\\', \\'AD  - Institute for Molecular Bioscience, The University of Queensland, St Lucia,  Queensland 4072, Australia.\\', \\'AD  - Australian Infectious Diseases Research Centre, School of Chemistry and Molecular  Biosciences, The University of Queensland, St Lucia, Queensland 4072, Australia.\\', \\'AD  - Department of Rehabilitation Medicine, Singapore General Hospital, Singapore.  \\', \\'AD  - Center for Theoretical Evolutionary Genomics, Department of Integrative Biology,  University of California, Berkeley 94720, United States. \\', \\'AD  - Scientific Support Office, American Red Cross, Gaithersburg, Maryland 20877, USA.  \\', \\'AD  - Service de biologie médicale, HIA Desgenettes, 108, boulevard Pinel, 69275 Lyon  cedex 03, France.\\', \\'AD  - Department of Geography, University at Buffalo, Buffalo, NY 14260, USA.  \\', \\'AD  - Department of Microbiology, Mount Sinai School of Medicine, New York, New York,  United States of America.\\', \\'AD  - Central Public Health Laboratory, Virology Section, State Health Secretariat of  Ceará, Ceará, Brazil. \\', \\'AD  - School of Population Health, The University of Queensland, Brisbane, Queensland,  Australia. \\', \\'AD  - Wadsworth Center, New York State Department of Health, 5668 State Farm Road,  Slingerlnads, NY 12159, USA. D\\', \\'AD  - School of Geography and Earth Sciences, General Science Building Room 206, McMaster  University, 1280 Main Street West, Hamilton, Ontario, Canada L8S 4K1.  \\', \\'AD  - Si Sa Ket Provincial Hospital, Office of Permanent Secretary, Ministry of Public  Health, Si Sa Ket, Thailand.\\', \\'AD  - Department of Mathematics, Institut Teknologi Bandung, Bandung 40132, Indonesia.\\', \\'AD  - Division of Infectious Diseases and Immunology, Department of Medicine, University  of Massachusetts Medical School, Worcester, Massachusetts, USA.\\', \"AD  - University Hospital for Infectious Diseases \\'Dr Fran Mihaljević\\', Zagreb, Croatia.  \", \\'AD  - Universidad Nacional de Colombia, Manizales, Colombia. \\', \\'AD  - Department of Virology, Erasmus Medical Center, Dr. Molewaterplein 50, Rotterdam,  The Netherlands.\\', \\'AD  - Departamento de Análises Clínicas, Toxicológicas e Bromatológicas, Universidade de  São Paulo, Av, do Café s/n., 14040-903, Ribeirão Preto, São Paulo, Brazil.\\', \\'AD  - IBM Almaden Research Center, Computer Science, 650 Harry Rd, San Jose, CA 95120,  USA. \\', \\'AD  - Odjel za virologiju, Hrvatski zavod za javno zdravstvo, Medicinski fakultet  Sveucilisa u Zagrebu. \\', \\'AD  - Hospital for Tropical Diseases, Ho Chi Minh City, Vietnam. \\', \\'AD  - Program in Emerging Infectious Diseases, Duke-NUS Graduate Medical School, 169854  Singapore, Singapore.\\', \\'AD  - Instituto de Investigacion Nutricional, Av. La Molina 1885, La Molina Lima-12, Peru.\\', \\'AD  - Ministry of Health of Myanmar, Yangon, Myanmar. \\', \\'AD  - Department of Entomology, University of California Davis, Davis, California, USA.  \\', \\'AD  - Department of Medical Research and Development, Show Chwan Health Care System,  Changhua, Taiwan.\\', \\'AD  - Department of Community Medicine, Lahore Medical & Dental College, Lahore, Pakistan.  \\', \\'AD  - Ayub Medical College, Abottabad, Pakistan.\\', \\'AD  - North Medical Ward, Mayo Hospital, Lahore, Pakistan.\\', \\'AD  - Centre for Disease Control, Department of Health, Northern Territory, Australia.\\', \\'AD  - Graduate Institute of Life Sciences, National Defense Medical Center, Taipei,  Taiwan.\\', \\'AD  - Department of Pediatrics, Faculty of Medicine Ramathibodi Hospital, Mahidol  University, Bangkok, Thailand. \\', \\'AD  - Department of Medicine, Faculty of Medicine, University of Kelaniya, Ragama, Sri  Lanka. \\', \\'AD  - Instituto Leônidas e Maria Deane, Fiocruz, Manaus, Amazonas, Brazil.  \\', \\'AD  - Helmholtz Zentrum München, German Research Center for Environmental Health,  Ingolstädter Landstrasse 1, 85764 Neuherberg, Germany.  \\', \"AD  - Department of Paediatric Medicine, KK Women\\'s and Children\\'s Hospital, Singapore.\", \\'AD  - Tsukuba Primate Research Center, National Institute of Biomedical Innovation, 1-1  Hachimandai, Tsukuba, Ibaraki 305-0843, Japan. \\', \\'AD  - Department of Virology 1, National Institute of Infectious Disease, Toyama,  Shinjuku-ku, Tokyo, Japan.\\', \\'AD  - Department of Paediatric Medicine, NRS Medical College and Hospital, Kolkata 700014.\\', \\'AD  - Epidemiology Division, Institute of Tropical Medicine \"Pedro Kouri,\" Havana City,  Cuba. \\', \\'AD  - Department of Medicine, RG Kar Medical College and Hospital, Kolkata 700004.\\', \\'AD  - Universidad de Guadalajara, Centro Universitario de Ciencias de la Salud,  Departamento de Salud Pública, Guadalajara, Jalisco, México.  \\', \"AD  - Centre d\\'Investigation Clinique Epidémiologie Clinique Antilles Guyane CIC-EC CIE  802, Cayenne General Hospital, Cayenne, French Guiana. \", \\'AD  - State Key Laboratory of Pathogen and Biosecurity, Beijing Institute of Microbiology  and Epidemiology, Beijing, PR China.\\', \\'AD  - División Académica de Ciencias de la Salud, Universidad Juárez Autónoma de Tabasco,  México.\\', \\'AD  - Climate & Human Health Research Unit, Centre for Global health Research, Kenya  Medical Research Institute, Kisumu, Kenya. \\', \\'AD  - Department of Internal Medicine, University of Texas Medical Branch (UTMB),  Galveston, Texas, USA. \\', \\'AD  - Program in Emerging Infectious Diseases, Duke-NUS Graduate Medical School,  Singapore, Singapore.\\', \\'AD  - Department of General Internal Medicine, Radboud University Medical Centre,  Nijmegen, The Netherlands. \\', \\'AD  - Pedro Kouri Tropical Medicine Institute, PO Box 601, Marianao 13, Havana, Cuba.  \\', \\'AD  - Department of Clinical Research, London School of Hygiene and Tropical Medicine,  London, United Kingdom. \\', \\'AD  - Department of Virology, Armed Forces Research Institute of Medical Sciences,  Bangkok, Thailand. Y\\', \\'AD  - Department of Medicine, University of Massachusetts Medical School, Worcester,  Massachusetts, United States of America. \\', \\'AD  - Can Tho University of Medicine and Pharmacy, Can Tho City, Vietnam.\\', \\'AD  - Environmental and Advanced Parasitology and Vector Control Biotechnology  Laboratories, Department of Zoology, Dayalbagh Educational Institute, Dayalbagh,  Agra-282 005, India.\\', \\'AD  - Epidemiology Division, Institute of Tropical Medicine Pedro Kouri, Autopista Novia  del Mediodía, Km. 6, La Lisa, AP 601, Marianao 13, Havana City, Cuba.  \\', \\'AD  - Department of Pathology and Laboratory Medicine & the Emory Vaccine Center, Emory  University School of Medicine, Atlanta, Georgia, United States of America.\\', \\'AD  - Wards 45 & 46 A, National Hospital of Sri Lanka, Regent Street, Hospital Square,  Colombo, Sri Lanka. \\', \\'AD  - Department of Virology I, National Institute of Infectious Diseases, Tokyo, Japan.\\', \\'AD  - Center for Biologics Evaluation and Research, Food and Drug Administration,  Bethesda, MD 20892, USA. \\', \\'AD  - Division of Vaccine Discovery, La Jolla Institute for Allergy and Immunology, La  Jolla, California, USA.\\', \\'AD  - Departamento de Engenharia Mecânica, UNESP, Guaratinguetá, SP, Brazil.\\', \\'AD  - Department of Medicine, University of Sri Jayawardanapura, Nugegoda, Sri Lanka.\\', \\'AD  - Epidemiology and Public Health Unit, Institut Pasteur du Cambodge, Phnom Penh,  Cambodia.\\', \\'AD  - Institute Pasteur, Ho Chi Minh City, Vietnam. \\', \\'AD  - Department of Pediatrics, Phetchabun Hospital, Phetchabun, Thailand.  \\', \\'AD  - Departamento de Infectómica y Patogénesis Molecular, México, DF, Mexico.\\', \\'AD  - Department of Geography and Geoinformation Sciences, George Mason University,  Fairfax, VA, USA. Ron.M\\', \\'AD  - Rajiv Gandhi Centre for Biotechnology, Thycaud PO, Thiruvananthapuram, 695014  Kerala, India.\\', \\'AD  - Department of Biotechnology, Anna University of Technology, Tiruchirappalli, Tamil  Nadu, India.\\', \\'AD  - Service de médecine interne, hôpital Louis-Mourier (AP-HP), Colombes, France.\\', \\'AD  - Laboratório de Imunologia Viral, IOC, FIOCRUZ, Rio de Janeiro, Brazil.  \\', \\'AD  - Sri Ramachandra University, Chennai, India.\\', \"AD  - Department of Microbiology, College of Basic Medical Sciences, Third Military  Medical University, Key Laboratory of Microbial Engineering under the Educational  Committee in Chongqing, Chongqing 400038, People\\'s Republic of China.\", \"AD  - Biomarker Department, BioMerieux SA, Chemin de l\\'Orme, Marcy l\\'Etoile, France.\", \\'AD  - Ecosystem Management, School of Environmental and Rural Sciences, Faculty of Arts  and Sciences, University of New England, Armidale, NSW 2351, Australia.  \\', \\'AD  - Department of Medicine, Washington University School of Medicine, St Louis, MO  63110, USA.\\', \\'AD  - State Key Laboratory of Pathogen and Biosecurity, Beijing Institute of Microbiology  and Epidemiology, No. 20 Dongda Street, Fengtai District, Beijing 100071, China.\\', \\'AD  - Infectious Diseases Pathology Branch, National Center for Emerging and Zoonotic  Infectious Diseases, Centers for Disease Control and Prevention, Atlanta, Georgia  30333, USA. JB\\', \\'AD  - Division of Biochemistry & Biotechnology, National Centre for Disease Control 22,  Sham Nath Marg, Delhi, India.\\', \\'AD  - Institute for Hepatitis and Virus Research, Hepatitis B Foundation, Doylestown, PA  18902, USA.\\', \\'AD  - Laboratory of Entomology, Wageningen University, The Netherlands.  \\', \\'AD  - Department of Medical Entomology, Faculty of Tropical Medicine, Mahidol University,  Bangkok, Thailand. \\', \\'AD  - Division of Infectious Diseases, Department of Medicine, University of North  Carolina School of Medicine, Chapel Hill, North Carolina, USA.\\', \\'AD  - Eck Institute for Global Health, Department of Biological Sciences, University of  Notre Dame, Notre Dame, Indiana, United States of America.\\', \\'AD  - Department of Biochemistry and Molecular Biology, University of Texas Medical  Branch, Galveston, TX 77555, United States.\\', \\'AD  - Department of Biochemistry and Molecular Biology, University of Texas Medical  Branch, Galveston, TX 77555, United States. Electronic address:  .\\', \\'AD  - Department of Statistics and Applied Probability, Faculty of Science, National  University of Singapore, Singapore. \\', \\'AD  - Ambulatório de Doenças Infecciosas, Hospital Geral de Fortaleza, Fortaleza, CE.\\', \\'AD  - Barneklinikken, Haukeland universitetssykehus, Norway.\\', \\'AD  - Departamento de Química, Ciências e Letras de Ribeirão Preto, Universidade de São  Paulo, Av. Bandeirantes, 3900, Ribeirão Preto, SP 14040-901, Brazil.\\', \\'AD  - University of Kelaniya, Faculty of Medicine, Thalagolla Road, Ragama, Sri Lanka.  \\', \\'AD  - Universidade Federal de Minas Gerais, Instituto de Ciências Biológicas, Laboratório  de Vírus, Belo Horizonte, MG, Brazil.\\', \\'AD  - Si Sa Ket Provincial Hospital, Office of the Permanent Secretary, Ministry of Public  Health, Si Sa Ket, Thailand.\\', \\'AD  - Institut Louis Malardé, BP 30, 98713 Papeete Tahiti, French Polynesia.\\', \\'AD  - Graduate Institute of Immunology, National Taiwan University College of Medicine,  Taipei, Taiwan, Republic of China.\\', \\'AD  - School of Medicine, The Faculty of Health Science, Linköping University, Linköping,  Sweden.\\', \\'AD  - Oxford University Clinical Research Unit, Hospital for Tropical Diseases, Ho Chi  Minh City, Viet Nam.\\', \\'AD  - Department of Tropical Hygiene, Faculty of Tropical Medicine, Mahidol University,  Bangkok, Thailand.\\', \\'AD  - Science and Engineering Apprentice Program at the Walter Reed Army Institute of  Research, Silver Spring, MD, USA.\\', \\'AD  - Laboratory of Molecular Biology for Infectious Diseases and Cancer, Department of  Microbiology and Parasitology, Federal University of Rio Grande do Norte, Natal, CEP  59072-910, Brazil. \\', \\'AD  - Institute of Basic Medical Sciences, National Cheng Kung University Medical College,  Tainan, Taiwan.\\', \\'AD  - ICMR Virus Unit, ID and BG Hospital, Beliaghata, Kolkata, India.  \\', \\'AD  - Department of Entomology, University of California Davis, Davis, California, United  States of America. \\', \\'AD  - State Key Laboratory for Infectious Diseases Prevention and Control, National  Institute for Communicable Disease Control and Prevention, Chinese Center for  Disease Control and Prevention, Beijing 102206, China.\\', \\'AD  - Ecosystem Management, School of Environmental and Rural Sciences, Faculty of Arts  and Sciences, University of New England, Armidale, NSW 2351, Australia.  \\', \\'AD  - Computational Biology, Sealy Center for Structural Biology and Molecular Biophysics,  Department of Biochemistry and Molecular Biology, University of Texas Medical  Branch, Galveston, TX 77555-0857, United States.\\', \\'AD  - Laboratory of Structural Genomics, Biophysics Institute Carlos Chagas Filho,  Universidade Federal do Rio de Janeiro, Brazil.\\', \\'AD  - Singapore Immunology Network, Agency for Science, Technology and Research (A*STAR),  8A Biomedical Grove, #03 Immunos, Biopolis, Singapore.\\', \\'AD  - Department of Medicine, Division of Infectious Diseases, Helsinki University Central  Hospital, Helsinki, Finland. \\', \\'AD  - Head of Virology Unit, Regional Laboratory, Ministry of Health, Jeddah, Saudi  Arabia. \\', \\'AD  - Instituto de Medicina Integral Prof. Fernando Figueira, Recife, Brasil.  \\', \\'AD  - Department of Entomology, Center for Vector Biology, Rutgers University, New  Brunswick, New Jersey, United States of America. \\', \\'AD  - Centro de Investigaciones de Plagas e Insecticidas, Buenos Aires, Argentina  \\\\u2002Instituto de Investigaciones e Ingeniería Ambiental (3IA), Universidad Nacional de  San Martín, Buenos Aires, Argentina.\\', \\'AD  - Laboratorio Estatal de Salud Pública, Secretaría de Salud, Culiacán Sinaloa, México.  \\', \\'AD  - Medical Entomology Unit, Institute for Medical Research, Kuala Lumpur, Malaysia.  \\', \"AD  - Department of Forensic Pathology, University of Foggia, Ospedale Colonnello  D\\'Avanzo, Foggia, Italy.\", \\'AD  - Vaccine Division, Center for Genetic Engineering and Biotechnology (CIGB), Avenue  31, P.O. Box 6162, Havana 6, 10 600, Cuba. \\', \"AD  - Guangzhou Center for Disease Control and Prevention, Guangzhou, People\\'s Republic of  China. \", \\'AD  - Service de médecine interne, rhumatologie, maladies infectieuses et tropicales,  centre hospitalier de Brive-la-Gaillarde, France. \\', \\'AD  - \\', \\'AD  - Comisión Nacional de Arbitraje Médico, Distrito Federal, México.\\', \\'AD  - Medical Entomology Unit, Institute for Medical Research, Kuala Lumpur, Malaysia.  \\', \\'AD  - Professor, School of Public Health, Tropical Medicine and Rehabilitation Sciences,  James Cook University, Cairns.\\', \\'AD  - Associate Professor, School of Public Health, Tropical Medicine and Rehabilitation  Sciences, James Cook University, Cairns.\\', \\'AD  - Senior Director, Communicable Diseases Branch, Queensland Health, Brisbane.\\', \\'AD  - Professor of Medical Entomology, Sydney Medical School, University of Sydney  Director, Department of Medical Entomology, CIDM and SEIB, Westmead Hospital,  Sydney.\\', \\'AD  - Centre for Research in Medical Entomolgy, Madurai, Tamil Nadu, India.\\', \\'AD  - Faculty of Medicine, Campos, Campos Goytacazes, Rio de Janeiro, Brazil.\\', \\'AD  - Instituto de Medicina Tropical \"Pedro Kourí\", La Habana, Cuba. \\', \\'AD  - Institut Pasteur, Epidemiology and Physiopathology of Oncogenic Viruses Unit, 28 rue  du Docteur Roux, F75015 Paris, France.\\', \\'AD  - University of Leeds Medical School, Leeds, England. \\', \\'AD  - R&D Dengue Vaccine Program Head, Sanofi Pasteur, Lyon, France.\\', \\'AD  - Department of Biology, University of San Carlos, Talamban Campus, Cebu City,  Philippines. \\', \\'AD  - Department of Mathematics, Jawaharlal Nehru Technological University, Hyderabad,  India. \\', \\'AD  - Guangzhou Center for Disease Control and Prevention, Guangzhou 510440, China.\\', \\'AD  - National Program for Dengue Fever Control, Ministry of Health, Brazil.\\', \\'AD  - UNAERP Medical School, Brazil. \\', \\'AD  - Division of Structural Biology and Biochemistry, School of Biological Science,  Nanyang Technological University, Singapore 637551.\\', \\'AD  - Department of Laboratory Medicine, Zhujiang Hospital, Southern Medical University,  Guangzhou 510282, China. \\', \\'AD  - Drexel University School of Public Health, USA.\\', \\'AD  - Departamento de Salud Pública, Centro Universitario de Ciencias de la Salud,  Universidad de Guadalajara, Guadalajara, México. \\', \\'AD  - Department of Entomology, Cornell University, Ithaca, New York 14853, USA.  \\', \\'AD  - Instituto de Estudios Superiores de Chiapas. Campus Tapachula, México.\\', \\'AD  - Institute of Biological Science, Faculty of Sciences, University of Malaya, Kuala  Lumpur, Malaysia. \\', \\'AD  - Centro de Investigación en Matemáticas A.C., Jalisco S/N, Col. Valenciana, CP:  36240, Guanajuato, Gto, Mexico. \\', \\'AD  - Indian Council of Medical Research Virus Unit, Kolkata, India.\\', \\'AD  - Indonesia-Japan Collaborative Research Center for Emerging and Reemerging Infectious  Diseases, Institute of Tropical Disease, Airlangga University, Surabaya, Indonesia.\\', \\'AD  - Fundação De Medicina Tropical - Dr. Heitor Vieira Dourado, University of State of  Amazonas, Manaus, AM, Brazil. M\\', \\'AD  - Grupo de Biología y Control de Enfermedades Infecciosas (BCEI), Instituto de  Biología, Universidad de Antioquia, Sede de Investigaciones Universitarias,  Medellín, Colombia. \\', \\'AD  - Department of Infectious Diseases and Tropical Medicine, University Hospital,  Ludwig-Maximilians University of Munich, Leopoldstraße 5, 80802 Munich, Germany.  \\', \\'AD  - Department of Oral and Maxillofacial Surgery, Subharti Dental College and Hospital,  Subharatipuram, Meerut, India. \\', \\'AD  - Netherlands Centre for Infectious Disease Control, National Institute for Public  Health and the Environment, Bilthoven, The Netherlands. Chantal.Reusken@RIVM.nl\\', \\'AD  - Oxitec Sendirian Berhad, Kuala Lumpur, Wilayah Persekutuan, Malaysia.\\', \\'AD  - Eastern Mediterranean Public Health Network, Amman, Jordan.\\', \\'AD  - Laboratório de Fisiologia e Controle de Artrópodes Vetores, Instituto Oswaldo  Cruz-Fiocruz, Rio de Janeiro, RJ, Brasil.\\', \"AD  - Clinical Infection Unit, St George\\'s Hospital, London SW17 0QT, UK.  \", \\'AD  - Helmholtz Zentrum München, German Research Center for Environmental Health,  Ingolstädter Landstrasse 1, 85764 Neuherberg, Germany.\\', \\'AD  - School of Medicine, Linköping University, Linköping, Sweden. \\', \\'AD  - School of Biological Sciences, Universiti Sains Malaysia, Penang, Malaysia.  \\', \\'AD  - Vaccine Development Laboratory, Department of Microbiology, University of São Paulo,  Brazil.\\', \\'AD  - Laboratório de Interação Microrganismo-Hospedeiro, Departamento de Microbiologia,  Instituto de Ciências Biológicas, Universidade Federal de Minas Gerais, Belo  Horizonte, Brazil.\\', \\'AD  - Laboratorio de Genética de Poblaciones y Evolución, Facultad de Ciencias Exactas,  Físicas y Naturales, Universidad Nacional de Córdoba, Córdoba, Argentina.  \\', \\'AD  - Department of Biology,Faculty of Science,Teba University, Al- Madina Al-Monawara,  Saudi Arabia.\\', \\'AD  - Institute of Vertebrate Biology, v.v.i., Academy of Sciences of the Czech Republic,  Brno, Czech Republic.\\', \\'AD  - Medical Entomology Laboratory, School of Biological Sciences, Universiti Sains  Malaysia, 11800 Minden, Penang, Malaysia.\\', \\'AD  - Indonesia-Japan Collaborative Research Center for Emerging and Reemerging Infectious  Diseases, Institute of Tropical Disease, Airlangga University, Surabaya, Indonesia.\\', \\'AD  - Department of Immunology, Zhongshan School of Medicine, Sun Yat-sen University,  Guangzhou 510080, China. \\', \\'AD  - Division of Internal Medicine and Infectious Diseases, Monte Sinai Hospital, Juiz de  Fora, Minas Gerais, Brazil. \\', \\'AD  - Focus Diagnostics, Inc., Cypress, California, USA. \\', \\'AD  - Laboratório de Virologia, Universidade Federal de Juiz de Fora, Juiz de Fora, Minas  Gerais, Brazil. \\', \\'AD  - Instituto de Medicina Tropical Pedro Kouri, La Habana, Cuba. \\', \\'AD  - International Vaccine Institute, Seoul, Republic of Korea. \\', \\'AD  - Department of Tropical Pediatrics, Faculty of Tropical Medicine, Mahidol University,  Bangkok, Thailand. \\', \\'AD  - Center of Excellence in Clinical Virology, Department of Pediatrics, Faculty of  Medicine, Chulalongkorn University, Bangkok, Thailand.\\', \\'AD  - Célula de Vigilância Epidemiológica, Secretaria Municipal de Saúde de Fortaleza,  Prefeitura Municipal de Fortaleza, Fortaleza, CE. \\', \\'AD  - Department of Medical Entomology, National Health Laboratory, Khartoum, Sudan.  \\', \\'AD  - Department of Biochemistry, University of Oxford, Oxford, UK.\\', \\'AD  - lttefaq Hospital (Trust), Lahore, Pakistan. \\', \\'AD  - Department of Medicine, Vanderbilt University Medical Center, Vanderbilt University,  Nashville, Tennessee, USA.\\', \\'AD  - Programme for Research and Training in Tropcial Diseases (TDR), World Health  Organization, Geneva, Switzerland. \\', \\'AD  - Yao Tokushukai General Hospital, Yao, Osaka, Japan. \\', \\'AD  - School of Tropical Medicine, Kolkata, India.\\', \\'AD  - Division of Pediatric Neurology, Department of Neurology, The University of Utah  School of Medicine, Salt Lake City, UT 84113, USA. \\', \\'AD  - Inviragen, Inc., Madison, WI, United States.\\', \\'AD  - Department of Pediatrics, Advanced Pediatric Center, Postgraduate Institute of  Medical Education and Research PGIMER, Chandigarh 160012, India.\\', \\'AD  - Department of Pathology and Laboratory Medicine, Emory Vaccine Center, Emory  University School of Medicine, Dental School Building, Room 429, 1462 Clifton Road,  Atlanta, GA 30322, USA.\\', \\'AD  - Department of Urology, Postgraduate Institute of Medical Education and Research,  160012 Chandigarh, India. \\', \\'AD  - Department of Infectious Diseases, Singapore General Hospital, Outram Road,  Singapore, 169608, Singapore.\\', \\'AD  - East Carolina University, College of Health and Human Performance, Department of  Health Education and Promotion, Environmental Health Sciences Program, 3403 Carol  Belk Building, Greenville, NC 27858, USA. \\', \\'AD  - Division of Infectious Diseases and Vaccinology, School of Public Health, University  of California, Berkeley, California, United States of America. \\', \\'AD  - Department of Radiology, Federal University of Rio de Janeiro, 438 Rua Thomaz  Cameron, Valparaiso, Petrópolis, RJ, CEP 25685.120, Brazil.\\', \\'AD  - Department of Virology, Institut Pasteur, Paris, France. \\', \\'AD  - Department of Anthropology, The Pennsylvania State University, University Park,  Pennsylvania, USA. \\', \\'AD  - Yashoda Hospital, Secunderabad, India.\\', \\'AD  - Centers for Disease Control and Prevention, Division of Global Migration and  Quarantine, Atlanta, Georgia, USA. \\', \\'AD  - Department of Pathology & Immunology, Washington University School of Medicine,  Saint Louis, Missouri, United States of America.\\', \\'AD  - Regional Medical Research Centre (ICMR), Port Blair, Andaman and Nicobar Islands,  India.\\', \\'AD  - Department of Chemistry, Wichita State University, Wichita, KS 67260, USA.\\', \\'AD  - Department of Infectious Diseases, Istituto Superiore di Sanità, Roma, Italy.  \\', \\'AD  - Department of Pathology, Faculty of Medicine, Ramathibodi Hospital, Mahidol  University, Bangkok, Thailand. \\', \\'AD  - Microbiology & Molecular Biology Division, Vector Control Research Centre (ICMR),  Puducherry, India.\\', \\'AD  - Vector Control Unit, Centro Internacional de Entrenamiento e Investigaciones Medicas  (CIDEIM), Cali, Colombia.\\', \\'AD  - Interdisciplinary Research Group in Infectious diseases, Singapore-MIT Alliance for  Research and Technology, Singapore, Singapore.\\', \\'AD  - Department of Zoology, Acharya Narendra Dev College, University of Delhi, New  Delhi-110019, India.\\', \\'AD  - Laboratory for Clinical Research on Infectious Diseases, International Research  Center for Infectious Diseases, Osaka University, Japan.\\', \\'AD  - Comisión Nacional de Actividades Espaciales, Falda del Carmen, Ruta E45, Km 8,  Córdoba, Argentina. \\', \\'AD  - Programa de Pós-Graduação em Biologia Celular e Molecular, Universidade Federal do  Paraná, Curitiba, Paraná, Brazil.\\', \\'AD  - School of Biological Sciences, Universiti Sains Malaysia, 11800 Penang, Malaysia.\\', \\'AD  - Instituto de Medicina Tropical de São Paulo e Departamento de Moléstias Infecciosas  e Parasitárias da Faculdade de Medicina, Universidade de São Paulo, São Paulo,  Brazil.\\', \\'AD  - Centre for Quantitative Medicine, Office of Clinical Sciences, Duke-NUS Graduate  Medical School Singapore, Singapore 169857. \\', \\'AD  - Internal Medicine (Infectious Diseases) Consultant, Sunway Medical Centre, 5 Jalan  Lagoon Selatan, Bandar Sunway, 46150 Petaling Jaya, Selangor, Malaysia.  \\', \\'AD  - Institut de Recherche pour le Développement, Maladie Infectieuse et Vecteurs,  Ecologie, Génétique, Evolution et Contrôle, Centre Institut de Recherche pour le  Développement de Montpellier, Montpellier, France. \\', \\'AD  - Department of Allied Health Sciences, University of Health Sciences, Lahore,  Pakistan. \\', \\'AD  - Oxford University Clinical Research Unit, Hospital for Tropical Diseases, Ho Chi  Minh City, Vietnam. \\', \\'AD  - Department of Pathology and Pharmacology, College of Medicine, Alfaisal University,  Riyadh, Saudi Arabia. \\', \\'AD  - Department of Neurobiology and Behavior, Cornell University, Ithaca, NY 14853, USA.\\', \\'AD  - Department of Microbiology, K. G. Medical University, Lucknow, 226003, India.  \\', \\'AD  - Department of Vaccinology, Center for Infectious Diseases, Kobe University Graduate  School of Medicine, 7-5-1 Kusunoki-cho, Chuo-ku, Kobe, Hyogo 650-0017, Japan.  \\', \\'AD  - Department of Virology and Immunology, Texas Biomedical Research Institute, San  Antonio, TX, USA.\\', \\'AD  - Department of Microbiology, Mount Sinai School of Medicine, One Gustave L. Levy  Place, Box 1124, New York, NY 10029, USA.\\', \"AD  - Peking University People\\'s Hospital, Peking University Hepatology Institute, Beijing  Key Laboratory of Hepatitis C and Immunotherapy for Liver Diseases, Beijing, PR  China. P\", \\'AD  - School of Veterinary Medicine, University of São Paulo, Brazil.\\', \\'AD  - Division of Infectious Diseases and Vaccinology, School of Public Health, University  of California, Berkeley, Berkeley, CA, USA.\\', \\'AD  - Division of Infectious Diseases and Vaccinology, School of Public Health, University  of California, Berkeley, Berkeley, CA, USA.\\', \\'AD  - Division of Infectious Diseases and Vaccinology, School of Public Health, University  of California, Berkeley, Berkeley, CA, USA.\\', \\'AD  - Division of Infectious Diseases and Vaccinology, School of Public Health, University  of California, Berkeley, Berkeley, CA, USA.\\', \\'AD  - Broad Institute of MIT and Harvard, Cambridge, MA, USA.\\', \\'AD  - Department of Molecular and Cellular Biology, University of California, Berkeley,  Berkeley, CA, USA.\\', \\'AD  - Division of Infectious Diseases and Vaccinology, School of Public Health, University  of California, Berkeley, Berkeley, CA, USA.\\', \\'AD  - Division of Infectious Diseases and Vaccinology, School of Public Health, University  of California, Berkeley, Berkeley, CA, USA.\\', \\'AD  - UMR190, Emergence of Viral Pathologies, Institute of Research for the Development,  Aix-Marseille University, Marseille, France. \\', \\'AD  - Núcleo de Doenças de Transmissão Vetorial, Instituto Adolfo Lutz, São Paulo, SP,  Brazil. \\', \\'AD  - Resident Department of Medicine, Allama Iqbal Medical College/Jinnah hospital  Lahore, Medical Unit 1, Jinnah hospital Lahore, Allama Shabbir Ahmed Usmani Road  Lahore, 54590, Lahore, Pakistan. \\', \\'AD  - Department of Microbiology, Maulana Azad Medical College, New Delhi, India.\\', \\'AD  - Department of Biological Sciences, Simon Fraser University, 8888 University Dr.,  Burnaby, BC, Canada. \\', \\'AD  - Universidad Nacional de Córdoba, Córdoba, Argentina. \\', \\'AD  - Program in Emerging Infectious Diseases, Duke-NUS Graduate Medical School, 8 College  Road, Singapore 16985, Singapore.\\', \\'AD  - Laboratory of Entomology, Wageningen University, Wageningen, the Netherlands.\\', \\'AD  - Departamento de Zoología, Campus de Ciencias Biológicas y Agropecuarias, Universidad  Autónoma de Yucatán, Carretera Mérida-Xmatkuil Km, 15,5, Mérida, C,P, 97315, Mexico.\\', \\'AD  - Laboratorio de Entomología, Instituto Colombiano de Medicina Tropical, Medellín,  Colombia. \\', \\'AD  - Viral and Rickettsial Diseases Department, Naval Medical Research Center, Silver  Spring, MD, USA. \\', \\'AD  - Arboviral Diseases Branch, Division of Vector-Borne Diseases, Centers for Disease  Control and Prevention, U.S. Department of Health and Human Services, Fort Collins,  CO 80521, USA\\', \\'AD  - Unidad de Entomología, y Unidad de Sistemas Ambientales, Facultad de Agronomía,  Departamento de Biología Animal, Universidad de la República, Montevideo, Uruguay.  \\', \\'AD  - Virus and Inflammation Research Group, Faculty of Applied Science, University of  Canberra, ACT, Australia.\\', \\'AD  - Address correspondence to Aravinda M. de Silva, .\\', \\'AD  - Dengue Group, National Institute of Virology, 20-A, Dr Ambedkar Road, PO Box No 11,  Pune 411001, Maharashtra State, India.\\', \\'AD  - Division of Infectious Diseases and Immunology, University of Massachusetts Medical  School, Worcester, MA, USA.\\', \\'AD  - Laboratório de Engenharia Biomédica, Universidade Federal de Pernambuco, Av. Prof.  Moraes Rego, 1235, Cidade Universitária, 50670-901, Recife, Brazil.\\', \\'AD  - Department of Clinical Medicine, Institute of Tropical Medicine, Nagasaki  University, 1-12-4, Sakamoto, Nagasaki, Japan 852-8523.\\', \\'AD  - Division of Virology, Defence Research and Development Establishment, Jhansi Road,  Gwalior 474002, Madhya Pradesh, India.\\', \\'AD  - Departamento de Farmacologia e Psicobiologia, Instituto de Biologia, Universidade do  Estado do Rio de Janeiro, Av. 28 de Setembro 87, Rio de Janeiro 22551-030, Brazil.\\', \\'AD  - Queensland Health Forensic and Scientific Services, Archerfi eld, Queensland,  Australia. David_W\\', \\'AD  - Unité des Maladies Virales Emergentes, Centre International de Recherches Médicales  de Franceville, Gabon. \\', \\'AD  - Department of Tropical Medicine, Medical Microbiology and Pharmacology, University  of Hawaii at Manoa, Honolulu, Hawaii, United States of America.\\', \\'AD  - Instituto de Medicina Tropical Pedro Kouri, La Habana, Cuba. \\', \\'AD  - United States Air Force School of Aerospace Medicine, Department of Public Health  and Preventive Medicine, Epidemiology Consult Service, Wright-Patterson Air Force  Base, Ohio, USA.\\', \\'AD  - Department of Microbiology and Immunobiology, Harvard Medical School, Boston, MA  02115, USA.\\', \\'AD  - Department of Medical Laboratory Science and Biotechnology, National Cheng Kung  University, Tainan, Taiwan, ROC.\\', \\'AD  - University Medical Unit, National Hospital of Sri Lanka, Sri Lanka.\\', \\'AD  - W. Harry Feinstone Department of Molecular Microbiology and Immunology, Bloomberg  School of Public Health, Johns Hopkins University, Baltimore, Maryland, United  States of America.\\', \\'AD  - Discipline of Public Health, Flinders University, Adelaide, South Australia,  Australia. \\', \\'AD  - Laboratório de Trasmissores de Hematozoários, Instituto Oswaldo Cruz, Fioruz, Rio de  Janeiro, Brasil.\\', \\'AD  - Department of Preventive Medicine and Biometrics, Uniformed Services University of  the Health Sciences, 4301 Jones Bridge Rd, Bethesda, MD, USA. \\', \\'AD  - Department of Public Health, Chung Shan Medical University, Taichung 40201, Taiwan,  ROC. \\', \\'AD  - Department of Virology, Tropical Medicine Institute Pedro Kourí, Havana, Cuba.  \\', \\'AD  - Department of Virology, Clinical Virology Laboratory, Bernhard Nocht Institute for  Tropical Medicine, Bernhard-Nocht-Strasse 74, 20359 Hamburg, Germany. \\', \\'AD  - Department of Pediatrics, Lokmanya Tilak Municipal Medical College & General  Hospital, Mumbai, India.\\', \"AD  - Department of Microbiology, King George\\'s Medical University, Lucknow, India.\", \\'AD  - Department of Pediatrics, University of Michigan, 1500 East Medical Center Drive,  Ann Arbor, MI 48109-5718, USA. \\', \\'AD  - Centers for Disease Control and Prevention, Division of Vector Borne Infectious  Diseases, Dengue Branch, San Juan, Puerto Rico.\\', \\'AD  - Department of Microbiology and Life Sciences Institute Immunology Programme,  National University of Singapore, Singapore 117597, Singapore.\\', \\'AD  - Departamento de Arbovirologia e Febres Hemorrágicas, Instituto Evandro Chagas,  Ananindeua, Brazil.\\', \\'AD  - Division of Chemistry and Biological Chemistry, School of Physical and Mathematical  Sciences, Nanyang Technological University, Singapore, Singapore.\\', \\'AD  - Division of Vaccine Discovery, La Jolla Institute for Allergy and Immunology, La  Jolla, California, USA.\\', \\'AD  - School of Biological Sciences, Monash University, Clayton, Australia.\\', \\'AD  - Department of Parasitology, Faculty of Medicine, Diponegoro University, Semarang,  Indonesia.\\', \\'AD  - University Medical Unit, Teaching Hospital, Peradeniya, Sri Lanka.  \\', \\'AD  - Center for Public Health Informatics, Asian Institute of Public Health in  Bhuabneswar, India.\\', \\'AD  - Rega Institute for Medical Research, K.U. Leuven, Leuven, Belgium.\\', \\'AD  - Department of Clinical Medical Sciences, University of the West Indies, St.  Augustine, Trinidad and Tobago. \\', \\'AD  - Division of Infectious Diseases and Vaccinology, School of Public Health, University  of California, Berkeley, Berkeley, California, USA.\\', \\'AD  - Department of Medical Microbiology, Faculty of Medicine, University of Malaya, Kuala  Lumpur, Malaysia.\\', \\'AD  - Institut Pasteur in Cambodia, Réseau International des Instituts Pasteur, 5 Monivong  Boulevard, PO Box 983, Phnom Penh, Cambodia.\\', \\'AD  - Department of Pharmacy/Coordination for Graduation on Pharmaceutical Sciences,  Federal University of Parana (UFPR), Curitiba, PR, Brazil.\\', \\'AD  - Vector Biology Research Program, U.S. Naval Medical Research Unit No. 3, Cairo,  Egypt. \\', \\'AD  - Laboratório de Transmissores de Hematozoários, Instituto Oswaldo Cruz, Rio de  Janeiro, RJ, Brasil. \\', \\'AD  - Laboratory of Molecular RNA Virology and Antiviral Strategies, Department of  Microbiology, Yong Loo Lin School of Medicine, National University of Singapore,  Singapore, Singapore.\\', \\'AD  - Dengue Group, National Institute of Virology, 20-A, Ambedkar road, Pune,  Maharashtra, India.\\', \\'AD  - PAHO/WHO Collaborating Center for the Study of Dengue and its Vector, Department of  Virology, Tropical Medicine Institute \"Pedro Kourí\"-IPK, Autopista Novia del  Mediodía Km 6½, P.O. Box 601, Marianao 13, Havana, Cuba.\\', \\'AD  - Department of Paediatrics, JSS Medical College and Hospital, Mysore.\\', \\'AD  - Laboratory of Terrestrial Invertebrates, Department of Zoology, Center of Biological  Sciences, Universidade Federal de Pernambuco, Av, Moraes Rego s/n, Cidade  Universitária, Recife, PE, CEP: 50670-420, Brazil. \\', \\'AD  - Office of Disease Prevention and Control 12, Songkhla, Thailand. \\', \\'AD  - Department of Infection and Epidemiology, Insects and Infectious Diseases Unit,  Associated Research Unit, National Center for Scientific Research, Paris, France.  \\', \\'AD  - French Army Center for Epidemiology and Public Health (CESPA), Marseille, France.  \\', \\'AD  - SIGA Technologies, Inc., Corvallis, Oregon, USA. \\', \\'AD  - Microbiology Doctoral Training Program, University of Wisconsin-Madison, 1326  Microbial Sciences, 1550 Linden Drive, Madison, WI 53706, USA.\\', \\'AD  - Program in Emerging Infectious Diseases, Duke-NUS Graduate Medical School, KTP  Building, 8 College Road, Singapore 169857.\\', \\'AD  - Disease Control and Prevention Centre, National Centre for Global Health and  Medicine, 1-21-1, Toyama, Shinjuku, Tokyo 162 8655, Japan. \\', \\'AD  - Department of Microbiology, Immunology and Pathology, Arthropod-borne and Infectious  Diseases Laboratory, Colorado State University, Fort Collins, CO, USA.  \\', \\'AD  - Hospital Escuela, Faculty of Medical Sciences, Universidad Nacional Autónoma de  Honduras (UNAH), Tegucigalpa, Honduras.\\', \\'AD  - Mahidol University-Oxford Tropical Medicine Research Unit (MORU), Faculty of  Tropical Medicine, Mahidol University, Bangkok, Thailand. \\', \\'AD  - UMR 5244 CNRS-UPVD Ecologie et Evolution des Interactions, Université de Perpignan  Via Domitia, Perpignan, France.\\', \\'AD  - Department of Microbiology, School of Basic Medical Sciences, Capital Medical  University, Beijing 100069, China. \\', \\'AD  - Human Protein Process Sciences, Lille, France.\\', \\'AD  - Vaccine Division, Center for Genetic Engineering and Biotechnology (CIGB), Avenue  31, P.O. Box 6162, Havana 6, 10 600, Cuba.\\', \\'AD  - Department of Primary Health Care & General Practice, School of Medicine & Health  Sciences, University of Otago, Wellington, New Zealand. \\', \\'AD  - Department of Microbiology, School of Basic Medical Sciences, Capital Medical  University, Beijing 100069, PR China.\\', \\'AD  - Department of Entomology and Genetics Program, Michigan State University, East  Lansing, MI 48824, USA.\\', \"AD  - Department of Histology and Embryology, School of Basic Medicine, Third Military  Medical University, Chongqing 400038, People\\'s Republic of China.\", \\'AD  - Program in Public Health, University of California Irvine, Irvine, California,  United States of America.\\', \\'AD  - Laboratory of Virology and Chemotherapy, Rega Institute for Medical Research,  University of Leuven, Minderbroedersstraat 10, B-3000 Leuven, Belgium.  Marijke.A\\', \\'AD  - The Office of Disease Prevention and Control, Songkhla, Thailand.  \\', \\'AD  - Department of Medical Microbiology and Parasitology, Universiti Sains Malaysia,  16150 Kubang Kerian, Kelantan, Malaysia.\\', \\'AD  - Sansom Institute for Health Research, University of South Australia, Adelaide, SA  5001, Australia. Craig.W\\', \\'AD  - Department of Internal Medicine, University of Texas Medical Branch, Galveston,  Texas, USA. \\', \\'AD  - Department of Virology, Medical University of Vienna, Kinderspitalgasse 15, 1095  Vienna, Austria. \\', \\'AD  - Division of Infectious Diseases and Vaccinology, School of Public Health, University  of California, Berkeley, California, USA. \\', \\'AD  - Oxford University Clinical Research Unit, Hospital for Tropical Diseases, Ho Chi  Minh City, Vietnam. \\', \\'AD  - Department of Virology, Institute of Tropical Medicine, Nagasaki University and  Global COE Program, Nagasaki, Japan.\\', \\'AD  - Department of Virology, Institute of Tropical Medicine, Nagasaki University and  Global COE Program, Nagasaki, Japan.\\', \\'AD  - Department of Virology, Institute of Tropical Medicine, Nagasaki University and  Global COE Program, Nagasaki, Japan.\\', \\'AD  - Department of Virology, Institute of Tropical Medicine, Nagasaki University and  Global COE Program, Nagasaki, Japan.\\', \\'AD  - Division of Immunology, Department of Molecular Microbiology and Immunology,  Graduate School of Biomedical Sciences, Nagasaki University and Global COE Program,  Nagasaki, Japan.\\', \\'AD  - Division of Immunology, Department of Molecular Microbiology and Immunology,  Graduate School of Biomedical Sciences, Nagasaki University and Global COE Program,  Nagasaki, Japan.\\', \\'AD  - Department of Microbiology and Hygiene, Faculty of Veterinary Science, Bangladesh  Agricultural University, Mymensingh-2202, Bangladesh.\\', \\'AD  - Department of Virology, Institute of Tropical Medicine, Nagasaki University and  Global COE Program, Nagasaki, Japan.\\', \\'AD  - Department of Virology, Institute of Tropical Medicine, Nagasaki University and  Global COE Program, Nagasaki, Japan.\\', \\'AD  - Department of Virology, PAHO/WHO Collaborating Center for Study of Dengue and its  Vector, Pedro Kouri Tropical Medicine Institute, Autopista Novia del Mediodía km 6,  PO Box 601, Marianao 13, Havana, Cuba. \\', \\'AD  - Australian Infectious Disease Research Centre, School of Biological Sciences, The  University of Queensland, St. Lucia, Brisbane, QLD 4072, Australia.\\', \\'AD  - Laboratory of Structural Genomics, Biophysics Institute Carlos Chagas Filho,  Universidade Federal do Rio de Janeiro, Brazil. \\', \\'AD  - Viral & Rickettsial Diseases Department, Naval Medical Research Center, Silver  Spring, MD, USA. K\\', \\'AD  - Vaccine Division, Center for Genetic Engineering and Biotechnology, P.O. Box. 6162,  La Habana 6, 10600, Cuba.\\', \\'AD  - Centro de Pesquisas Gonçalo Moniz, Fundação Oswaldo Cruz, Salvador, Brasil.  \\', \\'AD  - Fundación Instituto Leloir-CONICET, Buenos Aires, Argentina.\\', \\'AD  - Laboratorio de Entomología y Control de Plagas, Instituto Cavanilles de  Biodiversidad y Biología Evolutiva, Universitat de València, Valencia, España.  \\', \\'AD  - Recombinant Gene Products Group, International Centre for Genetic Engineering &  Biotechnology, Aruna Asaf Ali Marg, New Delhi 110067, India.\\', \\'AD  - Queensland Institute of Medical Research, PO Royal Brisbane Hospital, Brisbane,  Queensland, Australia.\\', \\'AD  - Laboratory of Virology and Infectious Disease, Center for the Study of Hepatitis C,  The Rockefeller University, New York, NY 10065, USA.\\', \\'AD  - School of Medical Sciences, Faculty of Medicine and Health, International Medical  University, Bukit Jalil, Kuala Lumpur, Malaysia.\\', \\'AD  - University Hospital Institute for Infectious and Tropical Diseases, Marseille,  France.\\', \\'AD  - Indian Council of Medical Research Virus Unit, Kolkata.\\', \\'AD  - The Royal Melbourne Hospital, Parkville, VIC, Australia.\\', \\'AD  - University Medical Unit, National Hospital of Sri Lanka, Colombo, Sri Lanka.\\', \\'AD  - Department of Environmental and Occupational Health, Medical College, National Cheng  Kung University, Tainan, Taiwan.\\', \\'AD  - Department of Medicine, Universiti Teknologi MARA, Shah Alam, Malaysia.\\', \\'AD  - Department of Pathology, Jawaharlal Institute of Postgraduate Medical Education and  Research, Pondicherry, India.\\', \\'AD  - Interdepartmental Program in Translational Biology and Molecular Medicine, Baylor  College of Medicine, Houston, TX 77030, USA.\\', \\'AD  - W. Harry Feinstone Department of Molecular Microbiology and Immunology, Bloomberg  School of Public Health, Johns Hopkins University, 615 N. Wolfe Street, Baltimore,  MD 21205-2179, USA.\\', \\'AD  - Endocrinology Section, Hospital Universitário Clementino Fraga Filho, Federal  University of Rio de Janeiro, Rio de Janeiro, Brazil.\\', \\'AD  - Institute for Translational Sciences, Computational Biology, Sealy Center for  Structural Biology and Molecular Biophysics, University of Texas Medical Branch,  Texas 77555-0857, USA. \\', \\'AD  - Department of Microbiology and Immunology, Georgetown University Medical Center,  Washington, DC 20057, USA.\\', \\'AD  - Department of Entomology, University of Arizona, Tucson, Arizona, USA.\\', \\'AD  - Department of Obstetrics and Gynaecology, Faculty of Medicine, University of Malaya,  Kuala Lumpur, Malaysia. \\', \\'AD  - Department of Genetics, Bio21 Institute, The University of Melbourne, Victoria 3010,  Australia. \\', \\'AD  - Department of Microbiology and Immunology, University of North Carolina School of  Medicine, Chapel Hill, NC 27599, USA.\\', \\'AD  - Division of Infectious Genetics, Institute of Medical Science, University of Tokyo,  Tokyo, Japan. \\', \\'AD  - Laboratório de Imunologia Viral, Instituto Oswaldo Cruz-Fiocruz, Rio de Janeiro,  Brasil. \\', \\'AD  - Sri Ramachandra Medical College and Research Institute, Porur, Chennai, India.  \\', \\'AD  - Department of Microbiology, University of Sri Jayawardanapura, Nugegoda, Sri Lanka.\\', \\'AD  - Zhejiang Provincial Center for Disease Control and Prevention, Hangzhou, China.\\', \\'AD  - Department of Medicine, KMC Manipal, Karnataka, India. \\', \\'AD  - Institut Pasteur du Cambodge, Réseau international des Instituts Pasteur, Phnom  Penh, Cambodia.\\', \\'AD  - Department of Clinical Surgical Sciences, University of the West Indies, Champ  Fleurs, Trinidad & Tobago. \\', \\'AD  - Institute of Microbiology and Immunology, National Yang-Ming University, Taipei,  Taiwan.\\', \\'AD  - Departamento de Bioquímica, Escola Paulista de Medicina, Universidade Federal de São  Paulo, Rua 3 de Maio 100, 04044-020 São Paulo, SP, Brazil.  \\', \\'AD  - Mprime Centre for Disease Modelling, York Institute for Health Research, York  University, Toronto, Canada.\\', \\'AD  - Vaccine Development Laboratory, Department of Microbiology, University of São Paulo,  Brazil.\\', \\'AD  - Center of Excellence for Antibody Research, Department of Microbiology and  Immunology, Faculty of Tropical Medicine, Mahidol University, Ratchathewi, Bangkok,  Thailand.\\', \\'AD  - Sant Parmanand Hospital, 18 Alipore Road, Delhi-110054, India.  \\', \\'AD  - Institute for Transfusion Medicine, Hannover Medical School, 30625 Hannover,  Germany. Immenschuh.S\\', \\'AD  - Research Center for Tropical Medicine - CEPEM, Porto Velho (RO), Brazil.  \\', \\'AD  - Institute of Basic Medical Sciences, Medical College, National Cheng Kung  University, Tainan, Taiwan.\\', \\'AD  - Arbovirus Laboratory, Virology Department, PAHO/WHO Collaborating Center for the  Study of Dengue and its Vector, Pedro Kourí Tropical Medicine Institute (IPK), P.O.  Box 601, Marianao 13, Havana, Cuba.\\', \\'AD  - Department of Zoology, School of Life Sciences, Bharathiar University, Coimbatore,  India. \\', \\'AD  - Division of Molecular Medicine, Department of Research and Development, Faculty of  Medicine Siriraj Hospital, Mahidol University, Bangkok, Thailand.\\', \\'AD  - Sri Paramakalyani Centre for Excellence in Environmental Sciences (SPKCEES),  Manonmaniam Sundaranar University, Alwarkurichi-627 412, Tirunelveli, Tamil Nadu,  India.\\', \\'AD  - Department of Pediatrics, Universidad Surcolombiana, Neiva, Colombia.\\', \\'AD  - Infectious Diseases, Genome Institute of Singapore, Singapore, Singapore.  \\', \\'AD  - School of Public Health, University of California, Berkeley, CA 94720-7354, USA.  \\', \\'AD  - University of the West Indies, St. Augustine, Trinidad and Tobago.\\', \\'AD  - Arboviral Diseases Branch, Division of Vector-Borne Diseases, Centers for Disease  Control and Prevention, U.S. Department of Health and Human Services, Fort Collins,  CO 80521, USA.\\', \\'AD  - Departamento de Clínica Médica, Faculdade de Medicina, Instituto de Ciências  Biológicas (ICB), Universidade Federal de Minas Gerais (UFMG), Belo Horizonte, MG,  Brazil.\\', \\'AD  - Vaccine Testing Center and Unit of Infectious Diseases, Department of Medicine,  University of Vermont College of Medicine, Burlington, Vermont, United States of  America. \\', \\'AD  - Instituto Oswaldo Cruz, Rio de Janeiro, RJ, Brasil.\\', \\'AD  - Key Laboratory for Tropic Diseases Control, Ministry of Education of China,  Department of Microbiology, Zhongshan School of Medicine, Sun Yat-sen University,  Guangzhou 510080, China.\\', \\'AD  - Immunology Programme, Department of Microbiology, National University of Singapore,  Singapore. \\', \\'AD  - Department of Epidemiology, School of Public Health, Loma Linda University, Loma  Linda, CA 92350, USA. \\', \\'AD  - Desert Medicine Research Centre (ICMR), New Pali Road, Jodhpur- 342 005, India.  \\', \\'AD  - Department of Tropical Medicine, Medical Microbiology and Pharmacology, Pacific  Center for Emerging Infectious Diseases Research, John A. Burns School of Medicine,  University of Hawaii at Manoa, Honolulu, HI 96813, USA.\\', \\'AD  - Vector Group, Liverpool School of Tropical Medicine, Liverpool, United Kingdom.  \\', \\'AD  - Center for Primary Care and Outcomes Research and Division of Infectious Diseases  and Geographic Medicine, Stanford University School of Medicine, Stanford, CA, USA.\\', \\'AD  - Unité Mixte de Recherche MIVEGEC (UM1-CNRS 5290-IRD 224), Institut de Recherche pour  le Développement (IRD), Montpellier, France. \\', \"AD  - Research Department, Sanofi Pasteur Campus Merieux, 1541 avenue Marcel Merieux,  69680 Marcy l\\'Etoile, France. \", \\'AD  - Technical Manager, Biomanufacturing Sciences Network, Merck Millipore,  Biomanufacturing Sciences and Training Centre, 1 Science Park Road, #02-10/11 The  Capricorn, Singapore 117528.\\', \\'AD  - Department of Pediatrics, JSS Medical College, JSS University, Mysore, India.\\', \\'AD  - Field Epidemiology Training Program, National Institute of Infectious Diseases,  Tokyo, Japan . ; Division of Quarantine and Sanitation, Chubu Airport Quarantine  Branch, Nagoya Quarantine Station, Aichi, Japan .\\', \\'AD  - Department of Bioinformatics and Biotechnology, Government College University (GCU),  Faisalabad, Pakistan. .\\', \\'AD  - Institute of Biotechnology, National Tsing Hua University, Hsinchu 30013, Taiwan.  \\', \\'AD  - Department of Internal Medicine, CSMMU, Lucknow, Uttar Pradesh, India.\\', \\'AD  - Regional Medical Research Centre for Tribals (ICMR), Nagpur Road, Garha, Jabalpur,  India.\\', \\'AD  - Center for Disease Control and Prevention of Guangzhou Military District, Guangzhou,  China. \\', \\'AD  - Department of Immunology & Microbial Science, The Scripps Research Institute, La  Jolla, CA 92037, USA.\\', \\'AD  - Laboratoire de Virologie, Faculté de Médecine et des Sciences de la Santé Brest,  France.\\', \\'AD  - Department of Pathology, Hindu Rao Hospital, Delhi, India.\\', \\'AD  - Department of Molecular Genetics & Microbiology, Stony Brook University, Stony  Brook, NY 11794-5222, USA.\\', \\'AD  - Faculdade Integrado de Campo Mourão, Campo Mourão, PR, Brazil.\\', \\'AD  - Department of Community Medicine, Indira Gandhi Medical College and Research  Institute, Puducherry, India.\\', \\'AD  - Department of Molecular Medicine, Faculty of Medicine, University of Malaya, 50603  Kuala Lumpur, Malaysia. \\', \\'AD  - Department of Clinical Medicine, Faculty of Medicine, University of Colombo, Sri  Lanka.\\', \\'AD  - Senior Advisor (Path & Neuropath), Base Hospital, Delhi Cantt 10, India.\\', \\'AD  - Brig (Med), HQ 11 Corps, C/O 56 APO, India.\\', \\'AD  - Senior Advisor (Path & Oncopath), Base Hospital, Delhi Cantt 10, India.\\', \\'AD  - Senior Advisor (Pathology), MH Kirkee, Pune 411020, India.\\', \\'AD  - Classified Specialist (Pathology & Micro), 7 Air Force Hosp, Kanpur, India.\\', \\'AD  - Classified Specialist (Pathology), AFTC Delhi Cantt 10, India.\\', \\'AD  - Graded Specialist (Pathology & Micro), INHS Ashvini, Colaba, Mumbai, India.\\', \\'AD  - Department of Pathology and Forensic Medicine, Universidade Federal do Ceará - UFC,  Fortaleza, CE, Brazil.\\', \"AD  - Vaccine Research Institute, The Third Affiliated Hospital, Sun Yat-Sen University,  Guangzhou 510630, People\\'s Republic of China.\", \\'AD  - Australian Infectious Diseases Research Centre, School of Chemistry and Molecular  Biosciences, The University of Queensland, St Lucia, Queensland 4072, Australia.\\', \\'AD  - Center of Excellence for Vectors and Vector-Borne Diseases, Faculty of Science,  Mahidol University, Nakhon Pathom 73170, Thailand ; Department of Biology, Faculty  of Science, Mahidol University, Bangkok 10400, Thailand.\\', \\'AD  - CHU de Fort-de-France et EA 4537, université des Antilles et de la Guyane,  laboratoire de virologie, pôle de biologie-pathologie, BP632, 97261 Fort-de-France  Cedex, France.\\', \\'AD  - CHU de Fort-de-France et EA 4537, université des Antilles et de la Guyane,  laboratoire de virologie, pôle de biologie-pathologie, BP632, 97261 Fort-de-France  Cedex, France.\\', \\'AD  - CHU de Fort-de-France et EA 4537, université des Antilles et de la Guyane,  laboratoire de virologie, pôle de biologie-pathologie, BP632, 97261 Fort-de-France  Cedex, France.\\', \\'AD  - CHU de Fort-de-France et EA 4537, université des Antilles et de la Guyane,  laboratoire de virologie, pôle de biologie-pathologie, BP632, 97261 Fort-de-France  Cedex, France.\\', \\'AD  - Recombinant Gene Products Group, International Centre for Genetic Engineering &  Biotechnology, Aruna Asaf Ali Marg, New Delhi, India.\\', \\'AD  - Institutes of Biomedical Engineering, National Yang Ming University, Taipei, Taiwan,  ROC.\\', \\'AD  - National Institute of Infectious Diseases and Vaccinology, National Health Research  Institutes, Miaoli, Taiwan.\\', \\'AD  - Serviço Patologia Clínica, Hospital Universitário Clementino Fraga  Filho/Universidade Federal do Rio de Janeiro (HUCFF/UFRJ); Unidade de Neuroinfecção,  Hospital Universitário Gaffree e Guinle/Universidade Federal do Estado do Rio de  Janeiro (HUGG/UNIRIO) and Neurolife Laboratory, Rio de Janeiro;\\', \\'AD  - Department of Microbiology, Zhongshan School of Medicine, Sun Yat-sen University,  Guangzhou, Guangdong 510080, China.\\', \\'AD  - Epidemiology and Public Health Evaluation Group, Departamento de Salud Pública,  Universidad Nacional de Colombia, Bogota, Colombia. Electronic address:  .\\', \\'AD  - Grupo de Modelamiento y Control de los Sistemas Biológicos, Facultad de Ingeniería,  Universidad Nacional de Colombia, Bogota, Colombia.\\', \\'AD  - Health Economics Research Group, Universidad de Cartagena, Cartagena de Indias,  Colombia.\\', \\'AD  - Grupo de Modelamiento y Control de los Sistemas Biológicos, Facultad de Ingeniería,  Universidad Nacional de Colombia, Bogota, Colombia.\\', \\'AD  - Health Economics Research Group, Universidad de Cartagena, Cartagena de Indias,  Colombia.\\', \\'AD  - Grupo de Modelamiento y Control de los Sistemas Biológicos, Facultad de Ingeniería,  Universidad Nacional de Colombia, Bogota, Colombia.\\', \\'AD  - Epidemiology and Public Health Evaluation Group, Departamento de Salud Pública,  Universidad Nacional de Colombia, Bogota, Colombia.\\', \\'AD  - Program in Emerging Infectious Diseases, DUKE-NUS Graduate Medical School,  Singapore.\\', \\'AD  - Department of Medicine, Hammersmith Hospital Campus, Imperial College London, London  W12 0NN, United Kingdom.\\', \\'AD  - Eck Institute for Global Health, Department of Biological Sciences, University of  Notre Dame, Notre Dame, IN 46556, USA. \\', \\'AD  - La Jolla Institute for Allergy and Immunology, California, USA. \\', \\'AD  - Department of Microbiology, Faculty of Medicine Siriraj Hospital, Mahidol  University, Bangkok, Thailand.\\', \\'AD  - Seção de Arbovirologia e Febres Hemorrágicas, Instituto Evandro Chagas, Secretaria  de Vigilância em Saúde, Ministério da Saúde, Ananindeua, PA, Brasil.\\', \"AD  - BioMérieux SA, Chemin de l\\'Orme, 69280, Marcy l\\'Etoile, France.  .\", \\'AD  - Arboviral Diseases Branch, Division of Vector-Borne Diseases, Centers for Disease  Control and Prevention, Public Health Service, U.S. Department of Health and Human  Service Fort Collins, CO, USA.\\', \\'AD  - Instituto de Bioquímica Médica, Universidade Federal do Rio de Janeiro, Rio de  Janeiro, RJ, 21941-902, Brazil.\\', \\'AD  - Institute of Biomedical Science, Federal University of Alfenas, Minas Gerais,  Brazil.\\', \\'AD  - Department of Microbiology and Molecular Genetics, Michigan State University, East  Lansing, Michigan, USA.\\', \\'AD  - School of Civil and Environmental Engineering, The University of New South Wales,  Sydney, NSW 2052, Australia.\\', \\'AD  - Bioinformatics and Data Management for Research Unit, Office for Research and  Development, Faculty of Medicine Siriraj Hospital, Mahidol University, Thailand.\\', \\'AD  - Markey Center for Structural Biology, Department of Biological Sciences, Purdue  University, West Lafayette, Indiana, United States of America.\\', \\'AD  - UMR CNRS 5557 Ecologie Microbienne, Université Lyon 1, 43 boulevard du 11 Novembre  1918, Villeurbanne cedex, 69622, France.\\', \\'AD  - \\', \\'AD  - Laboratório de Entomologia Médica e Veterinária, Setor de Ciências Biológicas,  Departamento de Zoologia, Universidade Federal do Paraná, Curitiba, PR, Brasil.\\', \\'AD  - Novartis Institute for Tropical Diseases, Chromos, Singapore.  \\', \\'AD  - Department of Virology, Beijing Institute of Microbiology and Epidemiology, Beijing,  China.\\', \"AD  - Department of Respiratory, Tangdu Hospital, Fourth Military Medical University,  Xi\\'an, China. \", \\'AD  - ICMR Virus Unit, Kolkata, ID & BG Hospital Campus 57, Dr. S. C. Banerjee Road,  Beliaghata, Kolkata 700010, India.\\', \\'AD  - Department of Biology and Biochemistry, University of Houston, TX 77204, USA.\\', \\'AD  - Singapore Immunology Network (SIgN), Agency for Science, Technology and Research  (ASTAR), Biopolis, Singapore, Singapore. \\', \\'AD  - Department of Pathogenic Biology, College of Public Health and Tropical Medicine,  Southern Medical University, Guangzhou 510515, China. \\', \\'AD  - HKU-Pasteur Research Centre, University of Hong Kong, Hong Kong Special  Administrative Region, China.\\', \\'AD  - Unité des Interactions Moléculaires Flavivirus-Hôtes, Institut Pasteur, Paris,  75724, France.\\', \\'AD  - HKU-Pasteur Research Centre, University of Hong Kong, Hong Kong Special  Administrative Region, China.\\', \\'AD  - HKU-Pasteur Research Centre, University of Hong Kong, Hong Kong Special  Administrative Region, China.\\', \\'AD  - Unité des Interactions Moléculaires Flavivirus-Hôtes, Institut Pasteur, Paris,  75724, France.\\', \\'AD  - HKU-Pasteur Research Centre, University of Hong Kong, Hong Kong Special  Administrative Region, China; Department of Microbiology, University of Hong Kong,  Hong Kong Special Administrative Region, China.\\', \\'AD  - HKU-Pasteur Research Centre, University of Hong Kong, Hong Kong Special  Administrative Region, China; Department of Cell Biology and Infection, Institut  Pasteur, 75724 Paris, France.\\', \\'AD  - Unité des Interactions Moléculaires Flavivirus-Hôtes, Institut Pasteur, Paris,  75724, France.\\', \\'AD  - HKU-Pasteur Research Centre, University of Hong Kong, Hong Kong Special  Administrative Region, China; Department of Anatomy, University of Hong Kong, Hong  Kong Special Administrative Region, China; Division of Biosciences, School of Health  Sciences and Social Care, Brunel University, UB8 3PH London, United Kingdom.  Electronic address: .\\', \\'AD  - HKU-Pasteur Research Centre, University of Hong Kong, Hong Kong Special  Administrative Region, China. Electronic address: .\\', \\'AD  - Prof & HOD, Dept of Microbiology, AFMC, Pune 411040, India.\\', \\'AD  - Associate Professor, Dept of Microbiology, AFMC, Pune 411040, India.\\', \\'AD  - Consultant & Head, Dept of Haematology & Stem Cell Transplantation, Army Hospital  (R&R), New Delhi 110010, India.\\', \\'AD  - Resident (Microbiology), Dept of Pathology and Molecular Medicine, Army Hospital  (R&R), New Delhi 110010, India.\\', \\'AD  - Professor, Community Medicine, Maulana Azad Medical College, New Delhi, India.\\', \\'AD  - Immunotope Inc, Pennsylvania Biotechnology Center, Doylestown, PA 18902, USA.\\', \\'AD  - Ophthalmology Department, Tan Tock Seng Hospital, 11 Jalan Tan Tock Seng, Singapore,  308433, Singapore.\\', \\'AD  - Institute of Molecular Biosciences, Mahidol University, Salaya, Thailand.\\', \\'AD  - Department of Pulmonary Medicine, Maulana Azad Medical College and Lok Nayak  Hospital, New Delhi, India.\\', \\'AD  - Department of Medical Microbiology, Faculty of Medicine, University of Malaya, Kuala  Lumpur, Malaysia.\\', \\'AD  - Department of Biological Sciences, Purdue University, West Lafayette, IN, USA.\\', \\'AD  - Department of Chemistry, Faculty of Mathematics and Natural Science, University of  Indonesia, Depok 16424 Indonesia.\\', \\'AD  - Centro de Matemática e Aplicações Fundamentais , Universidade de Lisboa, Avenida  Prof. Gama Pinto 2, 1649-003 Lisbon , Portugal.\\', \\'AD  - Departamento de Física e Química, Faculdade de Ciências Farmacêuticas de Ribeirão  Preto, Universidade de São Paulo, Av. do Café, S/N. 14040-903, Ribeirão Preto, São  Paulo, Brazil. \\', \\'AD  - Department of Immunology, Guiyang Medical College, Guiyang 550004, China.\\', \\'AD  - Instituto Colombiano de Medicina Tropical, Universidad CES, Carrera 43, No. 52S99,  Sabaneta, Colombia.\\', \\'AD  - Department of Immunology, Institute of Human Virology, Zhongshan School of Medicine,  Sun Yat-sen University, 74 Zhongshan 2nd Road, Guangzhou, 510080, China.  \\', \\'AD  - Infectious Diseases and Epidemiology Program (Parasitology), Faculty of Graduate  Studies, Mahidol University, Bangkok, Thailand.\\', \\'AD  - Department of Internal Medicine, Pondicherry Institute of Medical Sciences, Kalapet,  Pondicherry-605014, India.\\', \\'AD  - Division of Microbiology, Department of Laboratory Medicine, National University  Hospital, Singapore.\\', \\'AD  - Tropical Infectious Diseases Research and Education Center (TIDREC), Department of  Medical Microbiology, Faculty of Medicine, University Malaya, Kuala Lumpur 50603,  Malaysia.\\', \\'AD  - Institute of Biology and Medical Sciences, Jiangsu Key Laboratory of Infection and  Immunity, Soochow University, Building 703, 199 Ren-ai Road, Suzhou, 215123, PR  China.\\', \\'AD  - Department of Molecular and Structural Biochemistry, North Carolina State  University, Raleigh, NC, USA.\\', \\'AD  - Pedro Kourí Tropical Medicine Institute, PAHO/WHO Collaborating Center for the Study  and Control of Dengue, Havana, Cuba.\\', \\'AD  - Department of Molecular Medicine, Faculty of Medicine, University of Malaya, 50603  Kuala Lumpur, Malaysia. \\', \\'AD  - Institute of Molecular Biosciences, Mahidol University, Salaya Campus,  Phutthamonthon, Thailand 73170.\\', \\'AD  - Novartis Institute for Tropical Diseases, Singapore, Singapore.\\', \\'AD  - Department of Chemistry, Wichita State University, Wichita, KS 67260, USA.\\', \\'AD  - Department of Molecular Medicine, Faculty of Medicine, University of Malaya, 50603,  Kuala Lumpur, Malaysia. \\', \\'AD  - Laboratory of Infectious Diseases, National Institute of Allergy and Infectious  Diseases, National Institutes of Health, Bethesda, Maryland, USA.\\', \\'AD  - Department of Virology 1, National Institute of Infectious Diseases, Tokyo, Japan.\\', \\'AD  - Recombinant Gene Products Group, International Centre for Genetic Engineering and  Biotechnology, New Delhi, India.\\', \\'AD  - Department of Anesthesiology, Faculty of Medicine, University of Peradeniya,  Peradeniya 20400, Sri Lanka.\\', \\'AD  - Department of Microbiology, Immunology and Molecular Genetics, University of  California, Los Angeles-UCLA, Los Angeles, California, USA.\\', \\'AD  - Centro de Matemática e Aplicações Fundamentais CMAF, Universidade de Lisboa, Avenida  Prof. Gama Pinto 2, 1649-003 Lisboa, Portugal.\\', \\'AD  - Centro de Matemática e Aplicações Fundamentais CMAF, Universidade de Lisboa, Avenida  Prof. Gama Pinto 2, 1649-003 Lisboa, Portugal.\\', \\'AD  - Vrije Universiteit, Faculty of Earth and Life Sciences, Department of Theoretical  Biology,De Boelelaan 1087, NL 1081 HV Amsterdam, Netherlands.\\', \\'AD  - Belo Horizonte Observatory for Urban Health (OSUBH), UFMG, 30130 Belo Horizonte, MG,  Brazil.\\', \\'AD  - Laboratório de Virologia Molecular, Instituto Carlos Chagas (ICC-FIOCRUZ/PR),  Curitiba, Paraná, Brazil.\\', \\'AD  - Grupo de Simulação Molecular, Departamento de Química, Faculdade de Filosofia  Ciências e Letras de Ribeirão Preto, Universidade de São Paulo, Av. Bandeirantes,  3900, 14040-901, Ribeirão Preto, SP, Brazil. \\', \\'AD  - Coordinación de Vigilancia Epidemiológica y Apoyo en Contingencias, Unidad de Salud  Pública, Instituto Mexicano del Seguro Social (IMSS), 03100, Mexico City, DF,  Mexico.\\', \\'AD  - Novartis Institute for Tropical Diseases, 10 Biopolis Road, #05-01 Chromos,  Singapore 138670, Singapore. \\', \\'AD  - Shanghai Key Laboratory of New Drug Design, School of Pharmacy, East China  University of Science and Technology, 130 Mei Long Road, Shanghai 200237, China.\\', \\'AD  - Arthropod-borne and Infectious Diseases Laboratory, Department of Microbiology,  Immunology, and Pathology, Colorado State University, Fort Collins, CO 80523, USA.  Natalia.V\\', \\'AD  - Dengue Unit, Novartis Institute for Tropical Diseases, 10 Biopolis Road, Chromos  #05-01, Singapore 138670, Singapore.\\', \\'AD  - Division of Chemistry and Biological Chemistry, School of Physical and Mathematical  Sciences, Nanyang Technological University, Singapore, Singapore.\\', \\'AD  - State Key Laboratory of Drug Research, Shanghai Institute of Materia Medica, Chinese  Academy of Sciences, Shanghai, 201203, China.\\', \\'AD  - Nuclear Signalling Laboratory, Department of Biochemistry and Molecular Biology,  Monash University, Clayton, VIC 3800, Australia.\\', \\'AD  - Ward 49, National Hospital of Sri Lanka, Regent Street, Colombo 08, Sri Lanka.  .\\', \\'AD  - Programa Institucional de Biomedicina Molecular, Escuela Nacional de Medicina y  Homeopatía, Instituto Politécnico Nacional, Guillermo Massieu Helguera 239 Col. La  Escalera Ticomán, 07320 Mexico D.F., Mexico.\\', \\'AD  - Laboratório de Virologia, Faculdade de Ciências Farmacêuticas de Ribeirão Preto,  Universidade de São Paulo, Avenida do Café S/N, CEP 14040-903, Brazil.\\', \\'AD  - Department of Biochemistry, School of Pharmaceutical Sciences, Global COE Program  for Innovation in Human Health Sciences, University of Shizuoka, Shizuoka 422-8526,  Japan. \\', \\'AD  - Department of Medical Microbiology, Molecular Virology Section, University Medical  Center Groningen and University of Groningen, Groningen, The Netherlands.\\', \\'AD  - Department of Virology, Arboviruses and Insect Vectors, Institut Pasteur, Paris,  France.\\', \\'AD  - LADISER Inmunología y Biología Molecular, Facultad de Ciencias Químicas, Universidad  Veracruzana, 94340 Orizaba, VER, Mexico ; Centro de Investigaciones Biomédicas,  Universidad Veracruzana, 91190 Xalapa, VER, Mexico.\\', \\'AD  - Graduate Institute of Biomedical Sciences, Chang Gung University, Kwei-San,  Tao-Yuan, Taiwan.\\', \\'AD  - Unité de Virologie Structurale, Département de Virologie, Institut Pasteur, 75724  Paris Cedex 15, France.\\', \\'AD  - Division of Infectious Diseases and Vaccinology, School of Public Health, University  of California, Berkeley, Berkeley CA 94720-7354, USA.\\', \\'AD  - Institute of Molecular Biosciences and Center for Emerging and Neglected Infectious  Diseases, Mahidol University, Thailand. \\', \\'AD  - Department of Chemistry, Lomonosov Moscow State University, Moscow 119991, Russia.\\', \\'AD  - Department of Anatomy, Faculty of Science, Mahidol University, Bangkok 10400,  Thailand. \\', \"AD  - Laboratoire Insulaire du Vivant et de l\\'Environnement, Université de la  Nouvelle-Caledonie, Nouméa Cedex, Nouvelle-Calédonie, France.\", \\'AD  - Laboratorio de Enfermedades Tropicales, Departamento de Medicina, Fundacion  Universidad del Norte Km5 Antigua Via a Puerto Colombia, Barranquilla, Colombia,  South America.\\', \\'AD  - Department of Microbiology and Immunology, Wenzhou Medical College, Wenzhou, China.\\', \\'AD  - State Key Laboratory of Pathogen and Biosecurity, Beijing Institute of Microbiology  and Epidemiology, 20 Dong-Da Street, Fengtai District, Beijing 100071, PR China.\\', \\'AD  - State Key Laboratory of Pathogen and Biosecurity, Beijing Institute of Microbiology  and Epidemiology, 20 Dong-Da Street, Fengtai District, Beijing 100071, PR China.\\', \\'AD  - State Key Laboratory of Pathogen and Biosecurity, Beijing Institute of Microbiology  and Epidemiology, 20 Dong-Da Street, Fengtai District, Beijing 100071, PR China.\\', \\'AD  - State Key Laboratory of Pathogen and Biosecurity, Beijing Institute of Microbiology  and Epidemiology, 20 Dong-Da Street, Fengtai District, Beijing 100071, PR China.\\', \\'AD  - State Key Laboratory of Pathogen and Biosecurity, Beijing Institute of Microbiology  and Epidemiology, 20 Dong-Da Street, Fengtai District, Beijing 100071, PR China.\\', \\'AD  - State Key Laboratory of Pathogen and Biosecurity, Beijing Institute of Microbiology  and Epidemiology, 20 Dong-Da Street, Fengtai District, Beijing 100071, PR China.\\', \\'AD  - State Key Laboratory of Pathogen and Biosecurity, Beijing Institute of Microbiology  and Epidemiology, 20 Dong-Da Street, Fengtai District, Beijing 100071, PR China.\\', \\'AD  - State Key Laboratory of Pathogen and Biosecurity, Beijing Institute of Microbiology  and Epidemiology, 20 Dong-Da Street, Fengtai District, Beijing 100071, PR China.\\', \\'AD  - Departamento de Arbovirologia e Febres Hemorrágicas, Instituto Evandro Chagas,  Ananindeua, PA, Brasil. \\', \\'AD  - Aix-Marseille Université, CNRS, AFMB UMR 7257, 163, Marseille, France.  Barbara.S\\', \\'AD  - Department of Pediatrics, Faculty of Medicine, Ramathibodi Hospital, Mahidol  University, Bangkok, Thailand.\\', \\'AD  - Department of Pediatrics, Faculty of Medicine, Ramathibodi Hospital, Mahidol  University, Bangkok, Thailand.\\', \\'AD  - Department of Pediatrics, Faculty of Medicine, Ramathibodi Hospital, Mahidol  University, Bangkok, Thailand.\\', \\'AD  - Department of Pediatrics, Faculty of Medicine, Ramathibodi Hospital, Mahidol  University, Bangkok, Thailand.\\', \\'AD  - Department of Pediatrics, Faculty of Medicine, Ramathibodi Hospital, Mahidol  University, Bangkok, Thailand.\\', \\'AD  - Research Center, Faculty of Medicine, Ramathibodi Hospital, Mahidol University,  Bangkok, Thailand.\\', \\'AD  - Center for Vaccine Development, Institute of Science and Technology for Research and  Development, Mahidol University, Nakhorn Pathom, Thailand.\\', \\'AD  - Division of Chemistry and Biological Chemistry, School of Physical and Mathematical  Sciences, Nanyang Technological University, Singapore 637371, Singapore.\\', \\'AD  - Section of Nephrology, Department of Medicine , Aga Khan University Hospital ,  Karachi , Pakistan.\\', \\'AD  - Section of Nephrology, Department of Medicine , Aga Khan University Hospital ,  Karachi , Pakistan.\\', \\'AD  - Section of Nephrology, Department of Medicine , Aga Khan University Hospital ,  Karachi , Pakistan.\\', \\'AD  - Section of Nephrology, Department of Medicine , Aga Khan University Hospital ,  Karachi , Pakistan.\\', \\'AD  - Section of Nephrology, Department of Medicine , Aga Khan University Hospital ,  Karachi , Pakistan.\\', \\'AD  - Section of Nephrology, Department of Medicine , Aga Khan University Hospital ,  Karachi , Pakistan.\\', \\'AD  - Section of Nephrology, Department of Medicine , Aga Khan University Hospital ,  Karachi , Pakistan.\\', \\'AD  - Section of Nephrology, Department of Medicine , Aga Khan University Hospital ,  Karachi , Pakistan.\\', \\'AD  - Duke-NUS Graduate Medical School, Program in Emerging Infectious Diseases,  Singapore, Singapore.\\', \\'AD  - Australian Infectious Diseases Research Centre, School of Chemistry and Molecular  Biosciences, The University of Queensland, St Lucia, Queensland, 4072, Australia.\\', \\'AD  - Institute for Molecular Bioscience, The University of Queensland, St Lucia,  Queensland, 4072, Australia.\\', \\'AD  - Australian Infectious Diseases Research Centre, School of Chemistry and Molecular  Biosciences, The University of Queensland, St Lucia, Queensland, 4072, Australia.\\', \\'AD  - Institute for Molecular Bioscience, The University of Queensland, St Lucia,  Queensland, 4072, Australia.\\', \\'AD  - CSIRO, Materials Science and Engineering, Bayview Avenue, Clayton South, Victoria,  3169, Australia.\\', \\'AD  - Institute for Molecular Bioscience, The University of Queensland, St Lucia,  Queensland, 4072, Australia.\\', \\'AD  - Institute for Molecular Bioscience, The University of Queensland, St Lucia,  Queensland, 4072, Australia.\\', \\'AD  - Australian Infectious Diseases Research Centre, School of Chemistry and Molecular  Biosciences, The University of Queensland, St Lucia, Queensland, 4072, Australia.\\', \\'AD  - Department of Microbiology, Immunology and Pathology, Colorado State University,  Fort Collins, CO, USA. \\', \\'AD  - Division of Infectious Diseases and Vaccinology, School of Public Health, University  of California, Berkeley, Berkeley, CA 94720-3370, USA.\\', \\'AD  - Institute of Organic Chemistry and Biochemistry, Academy of Sciences of the Czech  Republic, Gilead Sciences & IOCB Research Center, Flemingovo nam. 2, CZ-16610 Prague  6, Czech Republic.\\', \\'AD  - Département de Virologie, Institut Pasteur, Unité de Virologie Structurale, Paris,  France. \\', \\'AD  - Laboratorio de Virología, Departamento de Química Biológica, Facultad de Ciencias  Exactas y Naturales, Universidad de Buenos Aires, Ciudad Universitaria, Pabellón 2,  Piso 4, 1428 Buenos Aires, Argentina.\\', \\'AD  - Department of Infectious Diseases and Microbiology, School of Medicine, University  of Pittsburgh, Pittsburgh, Pennsylvania, USA.\\', \\'AD  - Laboratorio de Investigaciones en Enfermedades Tropicales, Departamento de Medicina,  Universidad del Norte, Km5 Antigua via Puerto Colombia, Barranquilla, Colombia.  \\', \\'AD  - Instituto de Virología, Universidad El Bosque, Carrera 7B Bis No. 132-11, Bogotá,  Colombia.\\', \\'AD  - Burnet Institute, 85 Commercial Road, Prahran, Victoria 3004, Australia.  Sook-San.W\\', \\'AD  - Center for Biodefense and Emerging Infectious Diseases, Sealy Center for Vaccine  Development, Institute for Human Infections and Immunity, University of Texas  Medical Branch, Galveston, TX 77555-0436, USA.\\', \\'AD  - Universidad Miguel Hernandez, Elche-Alicante, Spain.\\', \\'AD  - Institute of Protein Research, Tongji University , Shanghai 200092, China.\\', \\'AD  - Office of Disease Prevention and Control 12, Department of Disease Control, Ministry  of Public Health, Songkhla 90000, Thailand.\\', \\'AD  - High Magnetic Field Laboratory, Hefei Institutes of Physical Science, Chinese  Academy of Sciences, Hefei 230031, Anhui, China.\\', \\'AD  - Department of Microbiology and Immunobiology, Harvard Medical School, Boston,  Massachusetts, USA.\\', \\'AD  - School of Biological Sciences, The University of Queensland, St. Lucia, Queensland,  Australia.\\', \\'AD  - Commonwealth Scientific and Industrial Research Organisation (CSIRO), Division of  Marine and Atmospheric Research Hobart, TAS, Australia.\\', \\'AD  - Defence Research Laboratory (Defence Research & Development Organisation), PB No. 2,  Tezpur - 784 001 (Assam) India.\\', \\'AD  - Division of Structural Biology and Biochemistry, School of Biological Science,  Nanyang Technological University, Singapore.\\', \\'AD  - Jack and Eileen Connors Structural Biology Laboratory, Department of Biological  Chemistry and Molecular Pharmacology, Harvard Medical School, Boston, Massachusetts,  USA.\\', \\'AD  - Department of Biochemistry and Molecular Biology, Sealy Center for Structural  Biology and Molecular Biophysics, University of Texas Medical Branch, Galveston, TX  77555-0647, USA.\\', \\'AD  - Jack and Eileen Connors Laboratory of Structural Biology, Department of Biological  Chemistry and Molecular Pharmacology, Harvard Medical School, Boston, Massachusetts,  United States of America.\\', \\'AD  - Department of Microbiology and Immunology, Georgetown University Medical Center,  Washington, DC 20057, USA.\\', \\'AD  - Unité des Maladies Virales Emergentes, Centre International de Recherches Médicales  de Franceville (CIRMF), Franceville; ; Ministère de la Santé Publique, Libreville;\\', \\'AD  - Unité des Maladies Virales Emergentes, Centre International de Recherches Médicales  de Franceville (CIRMF), Franceville;\\', \\'AD  - Unité de Biologie Médicale et de Santé Publique, Centre International de Recherches  Médicales de Franceville, Gabon;\\', \\'AD  - Unité des Maladies Virales Emergentes, Centre International de Recherches Médicales  de Franceville (CIRMF), Franceville;\\', \\'AD  - Unité des Maladies Virales Emergentes, Centre International de Recherches Médicales  de Franceville (CIRMF), Franceville;\\', \\'AD  - Unité des Maladies Virales Emergentes, Centre International de Recherches Médicales  de Franceville (CIRMF), Franceville; ; MIVEGEC, Montpellier, France.\\', \\'AD  - Institute of Molecular Biology, Academia Sinica, Taipei, 11529, Taiwan.\\', \\'AD  - Mahidol-Osaka Center for Infectious Diseases, Faculty of Tropical Medicine, Mahidol  University, Ratchathewi, Bangkok, Thailand.\\', \\'AD  - Department of Microbiology, Yong Loo Lin School of Medicine, National University of  Singapore, Center for Translational Medicine, 14 Medical Drive, #15-02, Level 15,  Singapore 117599, Singapore. \\', \\'AD  - Australian Institute for Bioengineering and Nanotechnology, University of  Queensland, Australia.\\', \\'AD  - Biomedical Science Programme, Faculty of Health Science, Universiti Kebangsaan  Malaysia, Kampus Kuala Lumpur, Jalan Raja Muda Abdul Aziz, 50300 Kuala Lumpur,  Malaysia.\\', \\'AD  - Department of Neonatology, Mymensingh Medical College, Mymensingh, Bangladesh.  \\', \\'AD  - Service de Lutte Anti-vectorielle, Agence Régionale de la Santé de Guadeloupe, Le  Raizet, 97110 Les Abymes, Guadeloupe.\\', \\'AD  - Molecular Biology Research Laboratory, Department of Zoology, Center for Advance  Studies, University of Pune, Pune, India.\\', \\'AD  - Department of Epidemiology, Johns Hopkins Bloomberg School of Public Health,  Baltimore, Maryland, USA.\\', \\'AD  - Duke-NUS Graduate Medical School, 8 College rd, Singapore; E-Mails:   (N.J.M);  (M.Y.F.T).\\', \\'AD  - Department of Biological Sciences, Bindley Bioscience Center, Purdue University, IN,  USA.\\', \\'AD  - Cátedra de Farmacognosia, Facultad de Farmacia y Bioquímica, Universidad de Buenos  Aires, Junín 956 2°P, 1113, Buenos Aires, Argentina.\\', \\'AD  - Department of Microbiology and the Global Health and Emerging Pathogens Institute,  Mount Sinai School of Medicine, New York City, New York, United States of America.\\', \\'AD  - Laboratorio de Virología, Departamento de Química Biológica, Facultad de Ciencias  Exactas y Naturales, Universidad de Buenos Aires, Buenos Aires, Argentina.\\', \\'AD  - Zakład Immunologii Doświadczalnej, Uniwersytet Medyczny w Łodzi.\\', \\'AD  - Department of Chemistry, Simon Fraser University, Burnaby, BC V5A 1S6, Canada.\\', \\'AD  - Immunomodulation Laboratory, Defence Institute of Physiology & Allied Sciences,  Lucknow Road, Timarpur, Delhi-110054 India. \\', \\'AD  - Departamento de Parasitologia, Instituto de Biociências UNESP, Botucatu, São Paulo,  Brazil.\\', \\'AD  - CNR-Istituto di Biofisica, Università degli Studi di Milano, Milano, Italy.\\', \\'AD  - Departamento de Entomologia, Centro de Pesquisas Aggeu Magalhães, Fundação Oswaldo  Cruz (Fiocruz-Pernambuco), Recife, Brazil. \\', \\'AD  - Bio-Defence Programme, DMERI, DSO National Laboratories, Singapore, Singapore.\\', \\'AD  - Viral Pathogenesis Section, Laboratory of Viral Diseases, National Institutes of  Health, Bethesda, MD 20892, USA. \\', \\'AD  - Biophysics Unit, Department of Physics, DDU Gorakhpur University, 273009, India.\\', \\'AD  - Laboratorio de Entomología, Subdirección Red Nacional de Laboratorios, Instituto  Nacional de Salud, Bogotá, D.C, Colombia.\\', \\'AD  - Immunology Group, Bioprocessing Technology Institute, Agency for Science, Technology  and Research (ASTAR), Republic of Singapore 138668.\\', \\'AD  - INSERM U944, Laboratoire de Pathologie et Virologie Moléculaire, Hôpital  Saint-Louis, 1 Avenue Claude Vellefaux, 75010 Paris, France.\\', \\'AD  - The Shraga Segal Department of Microbiology and Immunology and the National  Institute for Biotechnology in the Negev, Ben Gurion University of the Negev, Beer  Sheva, Israel.\\', \\'AD  - Bernhard Nocht Institute for Tropical Medicine,Hamburg, Germany.  \\', \\'AD  - Institute of Microbiology, College of Medicine, National Taiwan University, Taipei,  Taiwan.\\', \\'AD  - Department of Animal Sciences, Faculty of Life Science, Kyoto-Sangyo University,  Motoyama, Kamigamo, Kyoto-City 603-8555, Japan. \\', \\'AD  - Novartis Institute for Tropical Diseases, Singapore.\\', \\'AD  - Viral Genomics, J Craig Venter Institute, Rockville, MD, USA.\\', \\'AD  - Fundación Instituto Leloir-Consejo Nacional de Investigaciones Científicas y  Técnicas, Ciudad de Buenos Aires, Argentina.\\', \\'AD  - Department of Biochemistry and Molecular Biology, Federal University of Paraná,  Curitiba, PR, Brazil.\\', \\'AD  - Laboratory of Biometabolic Chemistry, School of Health Sciences, Faculty of  Medicine, University of the Ryukyus, Okinawa 903-0215;\\', \\'AD  - Department of Anatomy, Faculty of Science, Mahidol University, Bangkok, Thailand.  \\', \\'AD  - Laboratoire de Chimie des Substances Naturelles, Faculté des Sciences de Sfax- BP  1171, 3000 Sfax, Tunisia.\\', \\'AD  - Environmental and Advanced Parasitology and Vector Control Biotechnology  Laboratories, Department of Zoology, Faculty of Science, Dayalbagh Educational  Institute, Dayalbagh, Agra 282005, India.\\', \\'AD  - Department of Microbiology, Immunology and Pathology, Colorado State University,  Fort Collins, Colorado 80523, USA.\\', \\'AD  - Division of Vector-Borne Diseases, Centers for Disease Control and Prevention, Fort  Collins, CO 80521, USA. J\\', \\'AD  - Instituto de Medicina Tropical \"Pedro Kourí\", La Habana, Cuba. \\', \\'AD  - Bioinformatics Centre, University of Pune, Pune 411 007, India.  \\', \\'AD  - Department of Virology, Medical University of Vienna, Kinderspitalgasse 15, A-1095  Vienna, Austria. \\', \\'AD  - Centre de Recherche de Gif, Institut de Chimie des Substances Naturelles, CNRS,  LabEx LERMIT, 1 Avenue de la Terrasse, 91198 Gif-sur-Yvette Cedex, France.\\', \"AD  - Center for Clinical Laboratory, Zhujiang Hospital, Southern Medical University,  Guangzhou, People\\'s Republic of China.\", \\'AD  - Computations, Lawrence Livermore National Laboratory, Livermore, California, United  States of America.\\', \\'AD  - Instituto Butantan - Seção Parasitologia, Av. Vital Brazil, 1500 São Paulo, SP,  Brazil.\\', \\'AD  - Departamento de Química Orgánica-CIHIDECAR, CONICET-UBA, Facultad de Ciencias  Exactas y Naturales, UBA, Pabellón 2, Ciudad Universitaria, 1428EGA Buenos Aires,  Argentina.\\', \\'AD  - Department of Biomedical Science, Faculty of Allied Health Sciences, University  Kebangsaan Malaysia, Jalan Raja Muda Abdul Aziz, 50300 Kuala Lumpur, Malaysia.\\', \\'AD  - Program in Emerging Infectious Diseases, DUKE-NUS Graduate Medical School,  Singapore.\\', \\'AD  - Department of Microbiology and Immunology, Rega Institute for Medical Research,  Katholieke Universiteit Leuven, 3000 Leuven, Belgium.\\', \\'AD  - Graduate University, Chinese Academy of Sciences, Beijing, PR China.\\', \\'AD  - CAS Key Laboratory of Pathogenic Microbiology and Immunology, Institute of  Microbiology, Chinese Academy of Sciences, Beichen West Road, Beijing, PR China.\\', \\'AD  - CAS Key Laboratory of Pathogenic Microbiology and Immunology, Institute of  Microbiology, Chinese Academy of Sciences, Beichen West Road, Beijing, PR China.\\', \\'AD  - Key Laboratory of Animal Epidemiology and Zoonosis, Ministry of Agriculture, College  of Veterinary Medicine, China Agricultural University, Beijing, PR China.\\', \"AD  - UMR 190 \\'Emergence de Pathologies Virales\\' (AMU-IRD-EHESP), Aix-Marseille Université  and IHU Mediterranee-infection, Marseille, France.\", \\'AD  - State Key Laboratory of Pathogen and Biosecurity, Beijing Institute of Microbiology  and Epidemiology, Beijing, PR China.\\', \\'AD  - Key Laboratory of Animal Epidemiology and Zoonosis, Ministry of Agriculture, College  of Veterinary Medicine, China Agricultural University, Beijing, PR China.\\', \\'AD  - Key Laboratory of Animal Epidemiology and Zoonosis, Ministry of Agriculture, College  of Veterinary Medicine, China Agricultural University, Beijing, PR China.\\', \\'AD  - State Key Laboratory of Pathogen and Biosecurity, Beijing Institute of Microbiology  and Epidemiology, Beijing, PR China.\\', \"AD  - UMR 190 \\'Emergence de Pathologies Virales\\' (AMU-IRD-EHESP), Aix-Marseille Université  and IHU Mediterranee-infection, Marseille, France.\", \\'AD  - State Key Laboratory of Pathogen and Biosecurity, Beijing Institute of Microbiology  and Epidemiology, Beijing, PR China.\\', \\'AD  - NERC, CEH Wallingford, Maclean Building, Benson Lane, Crowmarsh Gifford,  Wallingford, Oxfordshire, OX10 8BB UK.\\', \"AD  - UMR 190 \\'Emergence de Pathologies Virales\\' (AMU-IRD-EHESP), Aix-Marseille Université  and IHU Mediterranee-infection, Marseille, France.\", \\'AD  - Graduate University, Chinese Academy of Sciences, Beijing, PR China.\\', \\'AD  - Research Network of Immunity and Health (RNIH), Beijing Institutes of Life Science,  Chinese Academy of Sciences, Lincui East Road, Beijing, PR China.\\', \\'AD  - National Institute for Viral Disease Control and Prevention, Chinese Center for  Disease Control and Prevention (China CDC), Beijing, PR China.\\', \\'AD  - Graduate University, Chinese Academy of Sciences, Beijing, PR China.\\', \\'AD  - CAS Key Laboratory of Pathogenic Microbiology and Immunology, Institute of  Microbiology, Chinese Academy of Sciences, Beichen West Road, Beijing, PR China.\\', \\'AD  - Wiwanitkit House, Bangkhae, Bangkok, Thailand.\\', \\'AD  - Department of Medicine, Christian Medical College, Ludhiana, Punjab, India.\\', \\'AD  - SIGA Technologies, Inc., 4575 SW Research Way, Suite 230, Corvallis, OR 97333,  United States.\\', \\'AD  - Department of Medical Education and Research, Kaohsiung Veterans General Hospital,  Kaohsiung, Taiwan. \\', \\'AD  - Institut de Recherche pour le Développement, UMR MIVEGEC, IRD 224-CNRS  5290-Universités Montpellier 1 et 2, BP 64501, 34394 Montpellier, France.  \\', \\'AD  - Vaccine Research and Development Center, National Health Research Institutes,  Zhunan, Miaoli County, Taiwan.\\', \\'AD  - Division of Entomology, Department of Zoology, School of Life Sciences, Bharathiar  University, Coimbatore 641 046, Tamil Nadu, India.\\', \\'AD  - Department of Allergy & Immunology, Apollo Gleneagles Hospital, West Bengal, India.\\', \\'AD  - Department of Biological Sciences, Florida Gulf Coast University, Fort Myers,  Florida, USA.\\', \\'AD  - Departamento de Zoología, Campus de Ciencias Biológicas y Agropecuarias, Universidad  Autónoma de Yucatán, Km. 15.5 Carr. Mérida-Xmatkuil s/n Mérida, Yucatán, Mexico.\\', \\'AD  - Division of Infectious Diseases and Vaccinology, School of Public Health, University  of California, Berkeley, California, United States of America.\\', \\'AD  - Singapore Immunology Network, Agency for Science, Technology and Research ASTAR  Singapore.\\', \\'AD  - Dipartimento di Scienze Biomolecolari e Biotecnologie, Università degli Studi di  Milano, via Celoria 26, 20133 Milano, Italy.\\', \\'AD  - Departamento de Bioquímica, CCB, Universidade Federal de Pernambuco, Cidade  Universitária, 50670-420 Recife, Pernambuco, Brazil.\\', \\'AD  - Department of Medical Entomology, National Institute of Infectious Diseases, Tokyo,  Japan.\\', \\'AD  - Centre de Recherche de Gif, Institut de Chimie des Substances Naturelles (ICSN),  CNRS, LabEx LERMIT, Gif sur Yvette, France.\\', \\'AD  - Centre de Recherche de Gif, Institut de Chimie des Substances Naturelles (ICSN),  CNRS, LabEx LERMIT, 1, Avenue de la Terrasse, 91198 Gif sur Yvette Cedex, France.\\', \\'AD  - Division of Experimental Virology, TWINCORE, Centre for Experimental and Clinical  Infection Research, Hannover, Germany.\\', \\'AD  - Department of Medical Microbiology, Molecular Virology Section, University Medical  Center Groningen, University of Groningen, The Netherlands.\\', \\'AD  - Department of Pathology, University of Texas Medical Branch at Galveston, Galveston,  TX 77555, USA. \\', \\'AD  - Department of Biochemistry and Molecular Biology, Monash University, Clayton 3800,  VIC, Australia.\\', \\'AD  - Department of Medicine, MCH Building, Medical College, Kolkata, India. E-mail:  .\\', \\'AD  - Department of Pathology, Chalmeda Anand Rao Institute of Medical Sciences, Bommakal,  Karimnagar, Andhra Pradesh, India.\\', \\'AD  - Division of Entomology, Department of Zoology, School of Life Sciences, Bharathiar  University, Coimbatore, 641 046 Tamil Nadu, India.\\', \\'AD  - Department of Agriculture, Nutrition, and Veterinary Science, University of Nevada  Reno, NV, USA.\\', \\'AD  - School of Marine Sciences, Division of Marine Microbiology and Medicine, Department  of Oceanography and Costal Area Studies, Alagappa University, Thondi Campus,  Thondi-623409, Tamil Nadu, India.\\', \\'AD  - Medical Entomology and Disease Vector Control, Health Services Academy,  Islamabad-Pakistan.\\', \\'AD  - Department of Pediatrics, Division of Pediatric Nephrology, Postgraduate Institute  of Medical Education and Research and Associated, Dr. Ram Manohar Lohia Hospital,  New Delhi, India.\\', \\'AD  - Department of Pediatrics, University College of Medical Sciences and Associated Guru  Teg Bahadur Hospital, Delhi, India.\\', \\'AD  - MD, St Mary Mercy Hospital, Livonia, MI 48154, United States of America.\\', \\'AD  - MD, Mount Auburn Hospital, Cambridge, MA 02138, United States of America.\\', \\'AD  - Medical Student, Fatima Jinnah Medical College, Lahore 45650, Pakistan.\\', \\'AD  - Department of Entomology, Faculty of Agriculture, Kasetsart University, Bangkok  10900, Thailand.\\', \\'AD  - College of Veterinary Medicine and Bio-Safety Research Institute, Chonbuk National  University, Jeonju 561-756, Korea.\\', \\'AD  - Department of Biology and Biochemistry, University of Houston, Houston, TX 77204,  USA.\\', \"AD  - MIVEGEC (IRD 224-CNRS 5290-UM1-UM2), Centre de Recherche et de Veille dans l\\'Océan  Indien (CRVOI), 2, rue Maxime Rivière, 97490 Sainte-Clotilde, La Réunion.  \", \\'AD  - School of Materials Science and Engineering, Nanyang Technological University, 50  Nanyang Avenue, Singapore, 639798, Singapore.\\', \\'AD  - Department of Public Health & Preventive Medicine, Cuddalore 607001, Tamil Nadu,  India.\\', \\'AD  - Department of Entomology and Nematology, Florida Medical Entomology Laboratory, Vero  Beach, FL, U.S.A.\\', \\'AD  - Genome Institute of Singapore, 60 Biopolis Street, Genome, #02-01, Singapore 138672,  Singapore.\\', \\'AD  - Polygenic Pathways, East Sussex, UK. \\', \\'AD  - Department of Infectious Diseases and Tropical Medicine, Laveran Military Teaching  Hospital, Marseille, France. \\', \\'AD  - Department of Biochemistry and Molecular Biology, Federal University of Ceara,  Fortaleza, CE, Brazil.\\', \\'AD  - Liverpool School of Tropical Medicine, Liverpool, United Kingdom.\\', \\'AD  - Department of Molecular and Structural Biochemistry, North Carolina State  University, Raleigh, North Carolina, USA.\\', \\'AD  - Entomology Research Institute, Loyola College, Chennai, 600 034, India.\\', \\'AD  - Expanded Program on Immunization-National Center for Biologicals, Tegucigalpa,  Honduras. \\', \\'AD  - Instituto de Medicina Tropical \"Pedro Kourí\", La Habana, Cuba. \\', \\'AD  - ICMR Chair in Public Health Research, Centre for Rural Development & Technology,  Indian Institute of Technology, New Delhi, India. \\', \\'AD  - National Cardiovascular Homograft Bank, Department of Cardiothoracic Surgery,  National Heart Centre Singapore, Singapore, Singapore. \\', \\'AD  - Divisão de Curso de Entomologia, Instituto Nacional de Pesquisas da Amazônia,  Manaus, AM.\\', \\'AD  - Department of Epidemiology, University of São Paulo, São Paulo, SP, Brazil.\\', \\'AD  - Médecins Sans Frontières, Geneva, Switzerland. N\\', \\'AD  - Centers for Disease Control and Prevention, Dengue Branch, Calle Canada, San Juan,  Puerto Rico 00920. \\', \\'AD  - Department of Biology, University of Crete, Haraklio, Greece.\\', \\'AD  - Department of Pediatrics, Jawaharlal Institute of Postgraduate Medical Education and  Research (JIPMER), Pondicherry 605006, India. \\', \\'AD  - Mosquito Control Laboratory, Acharya Narendra Dev College, University of Delhi New  Delhi, India.\\', \\'AD  - Faculdade de Medicina, Universidade Federal de Mato Grosso do Sul - UFMS, Campo  Grande, MS, Brazil.\\', \\'AD  - Post Graduate Department of Zoology, Government College Madappally, Vadakara-673102,  Kerala, India.\\', \\'AD  - Public Health Virology, Communicable Diseases Unit, Queensland Health Forensic and  Scientific Services, Coopers Plains, Australia. \\', \\'AD  - Microbiology and Infectious Diseases, Flinders Medical Science and Technology,  School of Medicine, Flinders University, Adelaide, South Australia, Australia.  \\', \\'AD  - Department of Kinetics of Chemical and Biological Processes, Institute of Problems  of Chemical Physics, Russian Academy of Sciences, Chernogolovka, Moscow region,  142432, Russia. .\\', \"AD  - Centre National de la Recherche Scientifique and Universités d\\'Aix-Marseille I et  II, UMR 6098, Architecture et Fonction des Macromolécules Biologiques,  AFMB-CNRS-ESIL, Case 925, 163 avenue de Luminy, 13288 Marseille Cedex 9, France.\", \"AD  - Centre National de la Recherche Scientifique and Universités d\\'Aix-Marseille I et  II, UMR 6098, Architecture et Fonction des Macromolécules Biologiques,  AFMB-CNRS-ESIL, Case 925, 163 avenue de Luminy, 13288 Marseille Cedex 9, France.\", \"AD  - Centre National de la Recherche Scientifique and Universités d\\'Aix-Marseille I et  II, UMR 6098, Architecture et Fonction des Macromolécules Biologiques,  AFMB-CNRS-ESIL, Case 925, 163 avenue de Luminy, 13288 Marseille Cedex 9, France.\", \\'AD  - Department of Cell and Molecular Biology, Uppsala University, BMC, Box 596, S-751\\\\u200924  Uppsala, Sweden.\\', \\'AD  - Environmental Health Institute, National Environment Agency, Singapore, Singapore.\\', \"AD  - Centre de Recherche et de Veille sur Maladies Émergentes dans l\\'Océan Indien,  plateforme de recherche CYROI, 2 rue Maxime Rivière, 97490 Ste Clotilde, France.  \", \\'AD  - Division of Biopesticides and Environmental Toxicology, Sri Paramakalyani Centre for  Excellence in Environmental Sciences (SPKCES), Manonmaniam Sundaranar University,  Alwarkurichi-627 412, Tirunelveli, Tamil Nadu, India.\\', \\'AD  - Infectious Disease Division, Winthrop-University Hospital, Mineola, NY 11501, USA.  \\', \\'AD  - Unité des Maladies Virales Emergentes, Centre International de Recherches Médicales  de Franceville-CIRMF, Franceville, Gabon. \\', \"AD  - School of Chemistry and Chemical Engineering, Queen\\'s University Belfast, Belfast,  Northern Ireland, United Kingdom.\", \\'AD  - Research Facilitation Forum, Pilgrims Hospices, Canterbury, Kent CT2 8JA, UK.\\', \\'AD  - Department of Molecular Genetics and Microbiology, University of New Mexico School  of Medicine, Albuquerque, NM 87131, USA.\\', \\'AD  - Molecular Biology Program, New Mexico State University, Las Cruces, NM 88003, USA.\\', \\'AD  - Molecular Biology Program, New Mexico State University, Las Cruces, NM 88003, USA.\\', \\'AD  - Department of Biology, New Mexico State University, Las Cruces, NM 88003, USA.\\', \\'AD  - Department of Biology, New Mexico State University, Las Cruces, NM 88003, USA.\\', \\'AD  - Laboratory of Infectious Diseases, National Institute of Allergy and Infectious  Disease, National Institutes of Health, Bethesda, MD 20892, USA.\\', \\'AD  - Laboratory of Infectious Diseases, National Institute of Allergy and Infectious  Disease, National Institutes of Health, Bethesda, MD 20892, USA.\\', \\'AD  - Department of Biology, New Mexico State University, Las Cruces, NM 88003, USA.\\', \\'AD  - Molecular Biology Program, New Mexico State University, Las Cruces, NM 88003, USA.\\', \\'AD  - Department of Neurobiology and Developmental Sciences, University of Arkansas for  Medical Sciences, Little Rock, AR 72205, USA.\\', \\'AD  - Department of Pharmacology, Faculty of Medicine, University of Colombo, Sri Lanka.\\', \\'AD  - Department of Genetics, Bio21 Institute, The University of Melbourne, Victoria,  Australia. \\', \\'AD  - Department of Zoology, Faculty of Science, University of Jaffna, Jaffna 40000, Sri  Lanka.\\', \\'AD  - Division of Biology, MC 156-29, California Institute of Technology , Pasadena,  California 91125, United States.\\', \\'AD  - US Geological Survey, Western Fisheries Research Center, 6505 NE 65th Street,  Seattle, WA 98115, USA.\\', \\'AD  - Infektionsmedicinsk Afdeling Q, Aarhus Universitetshospital, Skejby,  Brendstrupgårdsvej 100, 8200 Aarhus N, Denmark. \\', \\'AD  - Division of Entomology, Department of Zoology, School of Life Sciences, Bharathiar  University, Coimbatore, 641 046 Tamil Nadu, India. \\', \\'AD  - Fralin Life Science Institute and Department of Entomology, Virginia Tech,  Blacksburg, VA 24061, USA.\\', \\'AD  - Centre for Research in Medical Entomology, 4, Sarojini Street Chinna Chokkikulam,  Madurai - 625 002, Tamil Nadu. \\', \\'AD  - Mosquito and Fly Research Unit, Center for Medical, Agricultural and Veterinary  Entomology, Agricultural Research Service, US Department of Agriculture, 1600 SW  23rd Drive, Gainesville, FL 32608, USA.\\', \\'AD  - School of Biological Sciences, University of Northern Colorado, Greeley, Colorado,  USA.\\', \\'AD  - State Key Laboratory of Agricultural Microbiology, Huazhong Agricultural University,  Wuhan, Hubei 430070, PR China.\\', \\'AD  - Institute for Medical Research, Jalan Pahang, Kuala Lumpur, Malaysia.  .\\', \\'AD  - Southeast Asia Regional Office, World Health Organization, New Delhi, India.\\', \\'AD  - Kenya Medical Research Institute, Centre for Geographic Medicine Research Coast,  P.O. Box 428, 80108, Kilifi, Kenya. \\', \\'AD  - Center for Disease Control and Prevention, Guangdong, China.\\', \\'AD  - Infectious Diseases Unit. Department of Critical Care Medicine and Surgery,  University of Florence, Florence, Italy.\\', \\'AD  - Dept. of Public Health, Faculty of Nursing, University of Athens, Greece.  \\', \\'AD  - Institute for Antiviral Research, Utah State University, Logan, 84322-5600, United  States. J\\', \\'AD  - Duke University School of Nursing, Durham, NC, USA. \\', \\'AD  - Abteilung für Tropenmedizin und Infektionskrankheiten, Universität Rostock, Rostock,  Germany.\\', \\'AD  - Programa de Biologia Molecular e Biotecnologia, Instituto de Bioquímica Médica,  Universidade Federal do Rio de Janeiro, Rio de Janeiro, Brasil.\\', \\'AD  - Gartnavel General Hospital, Glasgow, UK. \\', \\'AD  - Depto de Ciências Biológicas, UNEMAT, Tangará da Serra, Mato Grosso, Brasil.\\', \\'AD  - Vector Control Division, National Institute of Malaria Research (ICMR), Sector-8,  Dwarka, New Delhi, India.\\', \\'AD  - Medical Entomology and Zoonoses Ecology Group, Microbial Risk Assessment, Emergency  Response Division, Health Protection Agency, Porton Down, Salisbury, United Kingdom.  \\', \\'AD  - Department of Neurovirology, National Institute of Mental Health and Neuro Sciences  (NIMHANS), Bangalore, 560029 India. GRID: grid.416861.c. ISNI: 0000000115162246\\', \\'AD  - Department of Neurovirology, National Institute of Mental Health and Neuro Sciences  (NIMHANS), Bangalore, 560029 India. GRID: grid.416861.c. ISNI: 0000000115162246\\', \\'AD  - Department of Neurovirology, National Institute of Mental Health and Neuro Sciences  (NIMHANS), Bangalore, 560029 India. GRID: grid.416861.c. ISNI: 0000000115162246\\', \\'AD  - Department of Neurovirology, National Institute of Mental Health and Neuro Sciences  (NIMHANS), Bangalore, 560029 India. GRID: grid.416861.c. ISNI: 0000000115162246\\', \\'AD  - State Key Laboratory of Elemento-Organic Chemistry, National Pesticide Engineering  Research Center (Tianjin), Nankai University, Tianjin 300071, China.  .\\', \\'AD  - LMAH, Universite du Havre, Le Havre Cedex, France. \\', \\'AD  - Department of Zoology, Bankura Christian College, Bankura, Burdwan, India.\\', \\'AD  - Institute for Bioscience and Biotechnology Research, University of Maryland, College  Park, Rockville, MD 20850, USA. \\', \\'AD  - Queensland Institute of Medical Research, Brisbane, Queensland, Australia.\\', \\'AD  - Chemistry Department, University of Hamburg, Martin-Luther-King-Platz 6, D-20146  Hamburg, Germany. \\', \\'AD  - Université de Lyon, F-69622 Lyon, France.\\', \\'AD  - United Nations University International Institute for Global Health, UKM Hospital  Complex, Jalan Jaacob Latiff, Bandar Tun Razak, Cheras 56000, Kuala Lumpur,  Malaysia. \\', \\'AD  - Institute for Human Infections and Immunity, Center for Tropical Diseases,  Department of Pathology, University of Texas Medical Branch, Galveston, Texas, USA.  \\', \\'AD  - Seção Parasitologia, Instituto Butantan, São Paulo, SP, Brasil. \\', \\'AD  - Department of Ophthalmology, Fattouma Bourguiba University Hospital, Faculty of  Medicine, University of Monastir, Monastir, Tunisia. \\', \\'AD  - Internal Medicine 4, Sozialmedizinisches Zentrum Süd - Kaiser-Franz-Josef Hospital,  Kundratstraße 3, 1100 Vienna, Austria. PP\\', \\'AD  - Department of Cellular and Molecular Biology and Pathology and Centre for Basic and  Clinical Immunology, CISI, Federico II University, Naples, Italy.\\', \\'AD  - Laboratory of Gene Therapy, Faculty of Veterinary Sciences, Ghent University,  Heidestraat 19, 9820 Merelbeke, Belgium. marina.defilette@UGent.be.\\', \\'AD  - Centre for Environmental Policy, Imperial College London, Silwood Park Campus,  Ascot, UK. \\', \\'AD  - Laboratório de Malária e Dengue, Instituto Nacional de Pesquisas da Amazônia, AM,  Brazil.\\', \\'AD  - French research coordinating task force for chikungunya and dengue, CHR de La  Réunion, centre hospitalier Félix Guyon, 97405 Saint-Denis cedex.\\', \\'AD  - Universidad Autónoma de Yucatán, México  ; Unidad  Interinstitucional de Investigaciónclínica y Epidemiológica, Facultad de Medicina,  .\\', \\'AD  - Universidad Autónoma de Yucatán, México  ; Centro de  Investigaciónes Regionales Dr Hideyo Noguchi, Facultad de Medicina. .\\', \\'AD  - Universidad Autónoma de Yucatán, México  ; Unidad  Interinstitucional de Investigaciónclínica y Epidemiológica, Facultad de Medicina,  .\\', \\'AD  - Universidad Autónoma de Yucatán, México  ; Centro de  Investigaciónes Regionales Dr Hideyo Noguchi, Facultad de Medicina. .\\', \\'AD  - Bernhard Nocht Institute for Tropical Medicine, Hamburg.\\', \\'AD  - Oxitec Limited, Oxford, United Kingdom.\\', \\'AD  - Lancaster Environment Centre, Lancaster University, Lancaster, LA1 4YQ, UK.\\', \"AD  - Laboratoire d\\'Ecologie Alpine, LECA-UMR 5553, Université de Grenoble 1, Grenoble  Cedex, France. \", \\'AD  - Department of Studies in Zoology, University of Mysore, Manasagangothri, Mysore,  Karnataka, India. \\', \\'AD  - Pasteur Institute-Cenci Bolognetti Foundation, University of Rome Sapienza, Italy.  \\', \"AD  - Laboratoire d\\'Ecologie Alpine (LECA), UMR 5553 CNRS-Université de Grenoble, BP53  38041 Grenoble Cedex 9, France.\", \\'AD  - Transplant Infectious Disease and Compromised Host Program, Massachusetts General  Hospital, Boston, Massachusetts 02114, USA. \\', \\'AD  - Cátedra de Microbiología Industrial y Biotecnología, Facultad de Farmacia y  Bioquímica, Universidad de Buenos Aires. Junín 956, CP 1113, C.A.B.A, Argentina.\\', \\'AD  - Department of Anesthesiology, University of Toronto, Ontario, Canada.\\', \\'AD  - UMR CNRS 5557 Ecologie Microbienne, Université Lyon 1, 43 boulevard du 11 Novembre  1918, Villeurbanne cedex 69622, France.\\', \\'AD  - Division of Materials Science, Graduate School of Science and Technology, Saitama  University, 255-Shimo-Ohkubo, Sakura-ku, Saitama 338-8570, Japan.  \\', \"AD  - Unité d\\'entomologie médicale, Institut Pasteur de Dakar, 36 Avenue Pasteur, Dakar BP  220, Sénégal. \", \\'AD  - School of Environmental Sciences, University of Liverpool, Liverpool, UK.  \\', \\'AD  - Department of Emergency Medicine, New York-Presbyterian: Weill-Cornell Medical  Center, New York, New York 10065, USA.\\', \\'AD  - Laboratorio de biofarmacéuticos recombinantes, Universidad Autónoma de San Luis  Potosí, Av. Dr. Manuel Nava 6, SLP, 78210, Mexico. \\', \\'AD  - Institut Pasteur, Department of Virology, Arboviruses and Insect Vectors, 25-28 rue  du Dr Roux, 75724 Paris cedex 15, France.\\', \\'AD  - Laboratório de Fisiologia e Controle de Artrópodes Vetores, Instituto Oswaldo Cruz,  Fiocruz, Rio de Janeiro, Brasil.\\', \\'AD  - Mosquito Control Laboratory, Queensland Institute of Medical Research, PO Royal  Brisbane Hospital, Brisbane, QLD 4029, Australia. \\', \\'AD  - Department of Molecular Genetics and Microbiology and Center for Microbial  Pathogenesis, Duke University Medical Center, Durham, North Carolina 27710, USA.\\', \\'AD  - Entomology Research Institute, Loyola College, Chennai, 600 034, Tamil Nadu, India.  \\', \\'AD  - IsraAid Primary Health Clinic, Leogane, Haiti. \\', \\'AD  - Division of Virology, Defence Research and Development Establishment (DRDE), Jhansi  Road, Gwalior, 474002 MP India. GRID: grid.418940.0. ISNI: 0000000418032027\\', \\'AD  - Division of Virology, Defence Research and Development Establishment (DRDE), Jhansi  Road, Gwalior, 474002 MP India. GRID: grid.418940.0. ISNI: 0000000418032027\\', \\'AD  - Division of Virology, Defence Research and Development Establishment (DRDE), Jhansi  Road, Gwalior, 474002 MP India. GRID: grid.418940.0. ISNI: 0000000418032027\\', \\'AD  - Division of Virology, Defence Research and Development Establishment (DRDE), Jhansi  Road, Gwalior, 474002 MP India. GRID: grid.418940.0. ISNI: 0000000418032027\\', \\'AD  - Centre for Rheumatic Diseases, Pune, Maharashtra, India. \\', \\'AD  - Centro de Investigaciones de Plagas e Insecticidas (CIPEIN-CITEFA/CONICET), Villa  Martelli, Buenos Aires, Argentina.\\', \\'AD  - Institute of Health Law Studies, California Western School of Law, San Diego,  California, USA.\\', \\'AD  - Experimental Therapeutics Centre, Agency for Science, Technology and Research  (A∗STAR), Singapore 138669, Singapore.\\', \\'AD  - Department of Entomology, North Carolina State University, Raleigh, North Carolina,  USA. \\', \\'AD  - MIVEGEC, IRD-CNRS-UM1-UM2, Montpellier, France. \\', \\'AD  - School of Geography and Development, The University of Arizona, Tucson, AZ 85721,  USA. \\', \\'AD  - Department of Zoology, Karpagam University, Coimbatore, 641021, Tamil Nadu, India.\\', \\'AD  - Department of Entomology, Cornell University, Ithaca, NY 14853.\\', \\'AD  - Department of Entomology, Cornell University, Ithaca, NY 14853.\\', \\'AD  - Caribbean Epidemiology Centre (CAREC/PAHO/WHO), 16-18 Jamaica Boulevard, Federation  Park, Port-of-Spain, Trinidad and Tobago. \\', \"AD  - Service de lutte anti-vectorielle de l\\'Agence de santé Océan Indien, délégation  d\\'ile de La Réunion, Saint-Denis, la Réunion, France \", \\'AD  - National Centre for Epidemiology, Surveillance and Health Promotion, National  Institute of Health (Istituto Superiore di Sanita, ISS), Rome, Italy.  \\', \\'AD  - Pharmasset Inc, Princeton, New Jersey, USA.\\', \\'AD  - Department of Pediatrics, Baylor College of Medicine, Houston, Texas, USA.  \\', \\'AD  - Zoology Institute, Agricultural University of Shan Dong Province, Shan Dong  Province, China.\\', \\'AD  - Pediatric Intensive Care Unit, Department of Pediatrics Dermatology, SDM College of  Medical Sciences and Hospital, Dharwad, Karnataka, India.\\', \\'AD  - Medical Molecular Biology Unit, Office for Research and Development, Faculty of  Medicine, Siriraj Hospital, Mahidol University, Bangkok, Thailand.\\', \\'AD  - Laboratorio de Arbovirus, Instituto de Virología \"Dr. J. M. Vanella\", Facultad de  Ciencias Médicas, Universidad Nacional de Córdoba Córdoba, Argentina ; Instituto de  Investigaciones Biológicas y Tecnológicas, Consejo Nacional de Investigaciones  Científicas y Técnicas (IIByT-CONICET) Córdoba, Argentina ; Consejo Nacional de  Investigaciones Científicas y Técnicas (CONICET), Ministerio de Ciencia y Tecnología  Córdoba, Argentina.\\', \\'AD  - Department of Zoology, School of Life Sciences, Bharathiar University, Coimbatore,  641 046, India. \\', \\'AD  - Viral Diseases Program, United States Naval Medical Research Unit 2, Jakarta,  Indonesia.\\', \\'AD  - Department of Biology, University of Padova, Via U. Bassi 58/B, 35131 Padova, Italy.\\', \\'AD  - Duke University School of Medicine, Durham, North Carolina, United States of  America.\\', \\'AD  - Department of Pathology, JSS Medical College, Mysore 570015.\\', \\'AD  - Department of Pediatrics, Faculty of Medicine, Khon Kaen University, Khon Kaen,  Thailand. \\', \\'AD  - PGIMER, Dr RML Hospital, New Delhi, India. \\', \\'AD  - National Institute of Malaria Research, Field Station, Panaji, Goa, India.\\', \\'AD  - Eck Institute for Global Health, Department of Biological Sciences, University of  Notre Dame, Notre Dame, Indiana 46556, USA. \\', \\'AD  - Chinese Academy of Inspection and Quarantine, Beijing 100123, China.+\\', \\'AD  - Department of Entomology, North Carolina State University, Raleigh, NC 27695, U.S.A.\\', \\'AD  - Dipartimento di Sanità Pubblica e Malattie Infettive, Università di Roma Sapienza,  Rome, Italy.\\', \\'AD  - Eck Institute for Global Health and Department of Biological Sciences, University of  Notre Dame, Notre Dame, IN 46556, USA.\\', \\'AD  - Department of Zoology, Acharya Narendra Dev College (University of Delhi),  Govindpuri, New Delhi, 110019, India. \\', \\'AD  - Centro de Desenvolvimento Tecnológico, Núcleo Biotecnologia, UFPel, Campus  Universitário, s/n, Caixa Postal 354, Pelotas, RS, 96010-900, Brazil.  \\', \\'AD  - Mosquito Control Laboratory, Queensland Institute of Medical Research, Royal  Brisbane Hospital, Brisbane, QLD 4006, Australia. \\', \\'AD  - Medicinal Chemistry Laboratory, Pharmacy Department, Federal University of Sergipe,  São Cristóvão, SE, Brazil.\\', \\'AD  - Programa de Pós Graduação em Agronomia, Universidade Estadual de Londrina and Centro  Universitário Filadélfia, Londrina, Paraná, Brazil. \\', \"AD  - Laboratoire d\\'Océanographie et du Climat, Expérimentations et Approches Numériques  (LOCEAN), IRD UMR 182, Paris, France. \", \\'AD  - National Institute of Medical Research of Tanzania, Amani Medical Research Centre,  Muheza, Tanga, Tanzania.\\', \\'AD  - Australian Infectious Disease Research Centre, School of Biological Sciences, The  University of Queensland, St. Lucia, Queensland, Australia.\\', \\'AD  - Epidemiology of Microbial Diseases, Yale School of Public Health, 60 College St.,  New Haven, CT 06520, USA. \\', \\'AD  - Eck Institute for Global Health, Department of Biological Sciences, University of  Notre Dame, IN, USA.\\', \\'AD  - Department of Infectious Diseases, Institute of Infectious Disease & Epidemiology,  Tan Tock Seng Hospital, Singapore, Singapore. \\', \\'AD  - The Broad Institute of MIT and Harvard, Cambridge, MA 02142, USA.  \\', \\'AD  - Department of Economics, Faculty of Liberal Arts and Professional Studies, York  University, 4700 Keele Street, Toronto, ON, M3J 1P3, Canada. \\', \\'AD  - Laboratory of Biological Control of Pesticides, Benaki Phytopathological Institute,  8 S Delta Str 14561 Kifissia, Athens, Greece.\\', \\'AD  - Department of Internal Medicine, Erasmus MC, P.O. Box 2040, 3000 CA Rotterdam, The  Netherlands.\\', \\'AD  - College of Life Science and Technology, Guangxi University, Nanning, Guangxi, China.\\', \\'AD  - Division of Vector Biology and Phytochemistry, Department of Zoology, Annamalai  University, Annamalai Nagar, 608 002, Tamil Nadu, India. \\', \\'AD  - Department of Veterinary Public Health, Shanghai Veterinary Research Institute,  Chinese Academy of Agricultural Sciences, Shanghai 200241, China.\\', \\'AD  - Department of Medical Microbiology and Immunology, Li Ka Shing Institute of  Virology, 6-020 Katz Group Centre, University of Alberta, Edmonton, AB, Canada T6G  2E1.\\', \\'AD  - Division of Biology, California Institute of Technology, Pasadena, CA 91125, USA.  \\', \\'AD  - Insect Resistance Group, International Centre for Genetic Engineering and  Biotechnology, New Delhi, India.\\', \\'AD  - Mathematics Department, Tulane University, New Orleans, Louisiana, USA.  \\', \\'AD  - Department of Zoology, Mizoram University, Aizawl, 796 004, Mizoram, India.  \\', \\'AD  - Department of Virology, Medical University of Vienna, Vienna, Austria.  \\', \\'AD  - Laboratoire Maladies Infectieuses et Vecteurs: Ecologie, Génétique, Evolution et  Contrôle, UMR 224 CNRS/IRD/UM1, Montpellier, France. \\', \\'AD  - Department of Biophysics, Escola Paulista de Medicina, Universidade Federal de São  Paulo, Rua Três de Maio 100, São Paulo 04044-020, Brazil.\\', \\'AD  - Institute for Infectious and Tropical Diseases, University of Brescia, Brescia,  Italy.\\', \\'AD  - Department of Infectious Diseases, Hospital Carlos III, Madrid, Spain.  \\', \\'AD  - Virology Division, United States Army Medical Research Institute of Infectious  Diseases, Fort Detrick, Frederick, MD 21702, USA. \\', \\'AD  - Division of Entomology, Department of Zoology, School of Life Sciences, Bharathiar  University, Coimbatore 641 046, Tamil Nadu, India.\\', \\'AD  - Department of Neurovirology, National Institute of Mental Health and Neurosciences,  Bangalore, Karnataka, India.\\', \\'AD  - Department of Medical Microbiology, University of Manitoba, Winnipeg, Manitoba,  Canada.\\', \\'AD  - Reflectance Medical, Inc, Westboro, Massachusetts, USA.\\', \\'AD  - Laboratório de Genética de Bactérias e Biotecnologia Aplicada, Faculdade de Ciências  Agrárias e Veterinária, Universidade Estadual Paulista, Jaboticabal, SP, Brazil.\\', \\'AD  - Institute of Health Sciences, Universiti Brunei Darussalam, Gadong Brunei  Darussalam.\\', \\'AD  - Department of Entomology, North Carolina State University, Raleigh, North Carolina,  United States of America. \\', \\'AD  - Defence Research & Development Establishment, Jhansi Road, Gwalior, 474 002, Madhya  Pradesh, India.\\', \\'AD  - Center for Grain and Animal Health Research, USDA-ARS, Manhattan, KS.\\', \\'AD  - Agriculture and Agri-Food Canada, Lethbridge, AB, Canada.\\', \\'AD  - Center for Medical, Agricultural, and Veterinary Entomology, USDA-ARS, Gainesville,  EL.\\', \\'AD  - Connecticut Agricultural Experiment Station, New Haven, CT.\\', \\'AD  - Dengue Branch, Centers for Disease Control, San Juan, Puerto Rico.\\', \\'AD  - University of Florida, Ft. Lauderdale, FL.\\', \\'AD  - University of California, Riverside, CA.\\', \\'AD  - NAMRU-3, US Navy, Cairo, Egypt.\\', \\'AD  - Center for Grain and Animal Health Research, USDA-ARS, Manhattan, KS.\\', \\'AD  - Agriculture and Agri-Food Canada, Lethbridge, AB, Canada.\\', \\'AD  - Center for Medical, Agricultural, and Veterinary Entomology, USDA-ARS, Gainesville,  EL.\\', \\'AD  - Instituto de Zoología y Ecología Tropical, Laboratorio Biología de Vectores y  Parásitos, Centro de Ecología, Universidad Central de Venezuela.\\', \\'AD  - Institut de Biologie Moléculaire et Cellulaire, INSERM U963, CNRS UPR9022, 15 rue  René Descartes, 67084 Strasbourg, France.\\', \\'AD  - Medical Entomology Unit/WHO Collaborating Centre for Ecology, Taxonomy and Control  of Vectors of Malaria, Filariasis and Dengue, Institute for Medical Research, Jalan  Pahang, 50588, Kuala Lumpur, Malaysia, \\', \\'AD  - Department of Cell Biology, Li Ka Shing Institute of Virology, University of  Alberta, Edmonton, Alberta, Canada.\\', \\'AD  - Department of Entomology, S-225 Ag, Science Center North, University of Kentucky,  Lexington, KY 40546, USA.\\', \\'AD  - Department of Infectious Diseases and Tropical Medicine-DITM, University Hospital,  Ludwig-Maximilians University of Munich, Munich, Germany.  \\', \\'AD  - Laboratório de Fisiologia e Controle de Artrópodes Vetores, Instituto Oswaldo Cruz,  Fiocruz, Rio de Janeiro, Rio de Janeiro, Brazil.\\', \\'AD  - Department of Mechanical and Mechatronic Engineering, National Taiwan Ocean  University, No. 2, Beining Rd., Keelung 202-24, Taiwan ; Center for Marine  Bioenvironment and Biotechnology (CMBB), National Taiwan Ocean University, Keelung  202-24, Taiwan.\\', \\'AD  - Department of Mechanical and Mechatronic Engineering, National Taiwan Ocean  University, No. 2, Beining Rd., Keelung 202-24, Taiwan.\\', \\'AD  - Department of Mechanical and Mechatronic Engineering, National Taiwan Ocean  University, No. 2, Beining Rd., Keelung 202-24, Taiwan.\\', \\'AD  - Department of Food Science, National Taiwan Ocean University, Keelung 202-24,  Taiwan.\\', \\'AD  - Armed Forces Health Surveillance Center, Silver Spring, MD 20904, USA.  \\', \\'AD  - Department of Pharmacology and Toxicology, School of Medicine, and Center for  Predictive Medicine for Biodefense and Emerging Infectious Diseases, University of  Louisville, Kentucky, USA. \\', \\'AD  - Maladies Infectieuses et Vecteurs Ecologie, Génétique, Evolution et Contrôle (IRD  224-CNRS 5290-UM1-UM2), Montpellier, France. \\', \\'AD  - College of Public Health and Health Professions and The Emerging Pathogens  Institute, University of Florida, Gainesville, FL, United States.  \\', \\'AD  - Division of Biology, California Institute of Technology, Pasadena, CA 91125, USA.  \\', \\'AD  - Institut Pasteur, Unit of Molecular Prevention and Therapy of Human Diseases,  Department of Infection and Epidemiology, rue du Dr. Roux, F-75015 Paris, France.\\', \\'AD  - MIVEGEC Maladies infectieuses et vecteurs : écologie, génétique, évolution et  contrôle (UMR IRD 224, CNRS 5290, UM1, UM2), Centre IRD France-Sud, BP 64501,  Montpellier cedex 5, 34394, France.\\', \\'AD  - Defence Research and Development Establishment, Madhya Pradesh, India.  \\', \\'AD  - Departments of Medicine, Washington University School of Medicine, St. Louis,  Missouri, USA.\\', \\'AD  - Refik Saydam National Public Health Agency, Virology Reference and Research  Laboratory, Ankara, Turkey. \\', \\'AD  - Instituto Oswaldo Cruz, Fiocruz, Rio de Janeiro, Rio de Janeiro, Brazil.\\', \\'AD  - Department of Social and Behavioral Sciences, EHESP School of Public Health,  Université Sorbonne Paris Cité, Rennes, France.\\', \\'AD  - Laboratory of Virology, Wageningen University, Wageningen, Netherlands.\\', \\'AD  - Dep. of Environmental Chemistry, IDAEA, CSIC, Jordi Girona 18-26, 08034 Barcelona,  Spain.\\', \\'AD  - Center for Human Genetics Training Program, Vanderbilt University Medical Centre,  Nashville, U.S.A.\\', \\'AD  - Department of Biological Sciences, Vanderbilt University, Nashville, U.S.A.\\', \\'AD  - Department of Biological Sciences, Vanderbilt University, Nashville, U.S.A.\\', \\'AD  - Department of Biological Sciences, Vanderbilt University, Nashville, U.S.A.\\', \\'AD  - Department of Biological Sciences, Vanderbilt University, Nashville, U.S.A.\\', \\'AD  - Department of Biological Sciences, Vanderbilt University, Nashville, U.S.A.\\', \\'AD  - Department of Biological Sciences, Vanderbilt University, Nashville, U.S.A.\\', \\'AD  - Vanderbilt Institute of Chemical Biology, Vanderbilt University, Nashville, U.S.A.\\', \\'AD  - Department of Biological Sciences, Vanderbilt University, Nashville, U.S.A.\\', \\'AD  - Department of Pharmacology, Vanderbilt University Medical Centre, Nashville, U.S.A.\\', \\'AD  - Center for Molecular Neuroscience, Institute of Global Health and Program in  Developmental Biology, Vanderbilt University Medical Centre, Nashville, U.S.A.\\', \\'AD  - Center for Human Genetics Training Program, Vanderbilt University Medical Centre,  Nashville, U.S.A.\\', \\'AD  - Malaria/Acute Febrile Syndrome Programme, Foundation for Innovative New Diagnostics,  Geneva, Switzerland.\\', \\'AD  - Global Disease Detection Centre, India, 22- Shamnath Marg, Delhi-54.  \\', \\'AD  - IDSP, National Centre for Disease Control, 22- Shamnath Marg, Delhi-54.\\', \\'AD  - IDSP, National Centre for Disease Control, 22- Shamnath Marg, Delhi-54.\\', \\'AD  - National Vector Borne Disease Control Programme, 22-Shamnath Marg, Delhi-110054.\\', \\'AD  - National Centre for Disease Control, 22- Shamnath Marg, Delhi-54\\', \\'AD  - Dte. General of Health Services, Min of H&FW, Nirman Bhawan, ND.\\', \\'AD  - Setor de Ciências Biológicas, Departamento de Zoologia, Programa de Pós-graduação em  Entomologia, Universidade Federal do Paraná, Caixa Postal 19020, CEP: 81531-980  Curitiba, PR, Brazil. \\', \\'AD  - Laboratory of Molecular RNA Virology and Antiviral Strategies, Yong Loo Lin School  of Medicine, National University Health System, National University of Singapore,  Singapore.\\', \\'AD  - Division of Vector Biology and Phytochemistry, Department of Zoology, Annamalai  University, Annamalai Nagar, 608 002, Tamilnadu, India. \\', \\'AD  - Adolfo Lutz Institute, Secretary of State for Health, Sao Paulo, Brazil.  \\', \\'AD  - Operational Technologies Corporation, 4100 NW Loop 410, Suite 230, San Antonio, TX  78229, USA. \\', \\'AD  - Division of Entomology, Department of Zoology, School of Life Sciences, Bharathiar  University, Coimbatore 641 046, Tamil Nadu, India.\\', \\'AD  - Division of Entomology, Department of Zoology, School of Life Sciences, Bharathiar  University, Coimbatore 641 046, Tamil Nadu, India. \\', \\'AD  - Diabetes Research Unit, Department of Clinical Medicine, Faculty of Medicine,  University of Colombo, Colombo, Sri Lanka. \\', \\'AD  - Division of Vector Biology and Phytochemistry, Department of Zoology, Annamalai  University, Annamalai Nagar, 608 002, Tamil Nadu, India. \\', \\'AD  - Institute of Pathogenic Microbiology, Jiangsu Provincial Center for Disease  Prevention and Control, Nanjing, China.\\', \"AD  - Laboratoire d\\'Ecologie Alpine, Equipe Pollution Environnement, Ecotoxicologie et  Ecoremédiation, Grenoble, France. \", \\'AD  - Department of Pathology, Universiti Kebangsaan Malaysia Medical Centre, Kuala  Lumpur, Malaysia. \\', \\'AD  - Instituto de Química e Biotecnologia, Universidade Federal de Alagoas, Maceió,  Alagoas, Brazil.\\', \\'AD  - Departamento de Bioquímica, CCB, Universidade Federal de Pernambuco, Cidade  Universitária, Recife, Pernambuco, Brasil.\\', \\'AD  - Information Systems Laboratory, National Center for Genetic Engineering and  Biotechnology (BIOTEC),113 Thailand Science Park, Phaholyothin Road, Klong 1, Klong  Luang, Pathumthani, 12120, Thailand. \\', \\'AD  - Division of Entomology, Department of Zoology, School of Life Sciences, Bharathiar  University, Coimbatore, 641 046, Tamil Nadu, India. \\', \"AD  - Unité d\\'entomologie médicale, Institut Pasteur de Dakar, Dakar, Sénégal.  \", \\'AD  - Institute of Cytology and Genetics, Russian Academy of Sciences, Siberian Branch, 10  Lavrentyeva Ave., 630090 Novosibirsk, Russia. \\', \\'AD  - Department of Microbiology, Immunology, and Pathology, Colorado State University,  Fort Collins, Colorado 80523, USA.\\', \\'AD  - Department of Geography, University of Florida, Gainesville, FL, USA.  .\\', \\'AD  - Department of Medicine, Washington University School of Medicine, St. Louis,  Missouri, USA.\\', \\'AD  - Department of Tree Science, Entomology and Plant Pathology \"G. Scaramuzzi\",  University of Pisa, Via San Michele degli Scalzi 2, 56124, Pisa, Italy.  \\', \\'AD  - Department of Microbiology, Immunology and Pathology, Colorado State University,  Fort Collins, CO 80523, USA.\\', \\'AD  - Department of Chemistry and Biochemistry, University of Wisconsin-Milwaukee, 3210 N.  Cramer St., Milwaukee, WI 53211, United States.\\', \\'AD  - School of Public Health, University of California, Berkeley, USA.\\', \\'AD  - Laboratorio Regional de Diagnostico e Investigacion del Dengue y otras Enfermedades  Virales, Instituto de Investigaciones Biomedicas de la Universidad de Carabobo,  Maracay, Venezuela. \\', \\'AD  - Laboratory of Molecular and Cellular Microbiology, Institute of Molecular  Biosciences, Mahidol University, Salaya, Nakornpathom, Thailand.\\', \\'AD  - Department of Molecular Genetics and Microbiology, Duke University Medical Center,  Durham, North Carolina, United States of America.\\', \\'AD  - Department of Entomology and Institute of Integrative Genome Biology, University of  California Riverside, Riverside, California, USA.\\', \\'AD  - Department of Microbiology, Immunology and Pathology, Colorado State University,  Fort Collins, Colorado, United States of America.\\', \\'AD  - Department and Institute of Microbiology and Immunology, National Yang-Ming  University, Taipei, Taiwan.\\', \\'AD  - Department of Infectious Diseases and Microbiology, University of Pittsburgh,  Pittsburgh, PA 15261, USA.\\', \\'AD  - Artie McFerrin Department of Chemical Engineering, Texas A&M University, College  Station, Texas 77843, USA.\\', \\'AD  - Zirus, Inc., Buford, GA, USA.\\', \\'AD  - Center for Advanced Biotechnology and Medicine, Department of Chemistry and Chemical  Biology, Rutgers University, Piscataway, NJ 08854, USA.\\', \\'AD  - Infectious Diseases and Tropical Medicine Unit, North University Hospital, AP-HM,  Marseille, France. \\', \\'AD  - Especialist in Audiology by the Federal Council of Speech Therapy. Speech Therapist  of the Faculdade de Filosofia e Ciências of the Universidade Estadual Paulista -  UNESP-Marília/SP - Brasil.\\', \\'AD  - Graduated in Speech Therapy by Faculdade de Filosofia e Ciências of the Universidade  Estadual Paulista - UNESP- Marília/SP - Brasil. Speech Therapist.\\', \\'AD  - PhD in Neurology at the Medical School of Ribeirão Preto- USP. Especialist in  Audiology by the Federal Council of Speech Therapy. Professor of the Speech Therapy  Department of the Faculdade de Filosofia e Ciências of the Universidade Estadual  Paulista - UNESP-Marília/SP - Brasil.\\', \\'AD  - PhD in Human Communication Disorders of the São Paulo Federal University - UNIFESP.  Especialist in Audiology by the Federal Council of Speech Therapy. Professor of the  Speech Therapy Department of Faculdade de Filosofia e Ciências of the Universidade  Estadual Paulista - UNESP-Marília/SP - Brasil.\\', \"AD  - Istituto Zooprofilattico Sperimentale della Lombardia e dell\\'Emilia-Romagna \\'B.  Ubertini\\' (IZSLER), via Bianchi 9, 25124, Brescia, Italy.\", \\'AD  - Centro de Estudos de Vectores e Doenças Infecciosas (CEVDI), Instituto Nacional de  Saúde Dr. Ricardo Jorge, Avenida da Liberdade 5, 2965-575 Águas de Moura, Portugal.\\', \\'AD  - Institute of Parasitology, Biology Centre of the Academy of Sciences of the Czech  Republic, Branišovská 31, CZ-37005 České Budějovice, Czech Republic.\\', \\'AD  - Laboratory of Arboviruses and Imported Viral Diseases, National Center for  Microbiology, Instituto de Salud Carlos III (ISCIII), Majadahonda, 28220, Madrid,  Spain.\\', \\'AD  - Wildlife Zoonoses and Vector-borne Diseases Research Group, Animal Health and  Veterinary Laboratories Agency (AHVLA), Woodham Lane, Surrey, KT15 3NB, UK.\\', \"AD  - Istituto Zooprofilattico Sperimentale della Lombardia e dell\\'Emilia-Romagna \\'B.  Ubertini\\' (IZSLER), via Bianchi 9, 25124, Brescia, Italy.\", \\'AD  - Centro de Estudos de Vectores e Doenças Infecciosas (CEVDI), Instituto Nacional de  Saúde Dr. Ricardo Jorge, Avenida da Liberdade 5, 2965-575 Águas de Moura, Portugal.\\', \\'AD  - Institute of Parasitology, Biology Centre of the Academy of Sciences of the Czech  Republic and Faculty of Science, University of South Bohemia, Branišovská 31,  CZ-37005 České Budějovice, Czech Republic.\\', \\'AD  - Mosquito Control Service of Diputación Provincial de Huelva, Andalucía, Spain.\\', \\'AD  - Animal Health and Veterinary Laboratories Agency (AHVLA), Woodham Lane, Surrey, KT15  3NB and the National Centre for Zoonosis Research, University of Liverpool, Leahurst  Chester High Road, CH64 7TE Neston, UK.\\', \"AD  - Istituto Zooprofilattico Sperimentale della Lombardia e dell\\'Emilia-Romagna \\'B.  Ubertini\\' (IZSLER), via Bianchi 9, 25124, Brescia, Italy.\", \\'AD  - Centro de Estudos de Vectores e Doenças Infecciosas (CEVDI), Instituto Nacional de  Saúde Dr. Ricardo Jorge, Avenida da Liberdade 5, 2965-575 Águas de Moura, Portugal.\\', \\'AD  - Pierre de Coubertin High School in Tábor, František Křižík Sq. 860, CZ-39030 Tábor,  Czech Republic.\\', \\'AD  - Estación Biológica de Doñana - CSIC. Avda. Américo Vespucio s/n, 41092-Sevilla,  Spain.\\', \\'AD  - Medical Entomology and Zoonoses Ecology Group, Microbial Risk Assessment, Emergency  Response Department, Health Protection Agency (HPA), Porton Down, Wiltshire, SP4  0JG, UK.\\', \"AD  - Istituto Zooprofilattico Sperimentale della Lombardia e dell\\'Emilia-Romagna \\'B.  Ubertini\\' (IZSLER), via Bianchi 9, 25124, Brescia, Italy.\", \\'AD  - Centro de Estudos de Vectores e Doenças Infecciosas (CEVDI), Instituto Nacional de  Saúde Dr. Ricardo Jorge, Avenida da Liberdade 5, 2965-575 Águas de Moura, Portugal.\\', \\'AD  - Institute of Vertebrate Biology, Academy of Sciences of the Czech Republic, Květná  8, CZ-603 65 Brno, Czech Republic.\\', \\'AD  - Laboratory of Arboviruses and Imported Viral Diseases, National Center for  Microbiology, Instituto de Salud Carlos III (ISCIII), Majadahonda, 28220, Madrid,  Spain.\\', \\'AD  - Medical Entomology and Zoonoses Ecology Group, Microbial Risk Assessment, Emergency  Response Department, Health Protection Agency (HPA), Porton Down, Wiltshire, SP4  0JG, UK.\\', \"AD  - Centro Agricoltura Ambiente \\'G. Nicoli\\', Via Argini Nord 3351, 40014 Crevalcore,  Italy.\", \\'AD  - Institute of Entomology, Biology Centre of the Academy of Sciences of the Czech  Republic, Branišovská 31, CZ-37005 České Budějovice, Czech Republic.\\', \\'AD  - Laboratory of Arboviruses and Imported Viral Diseases, National Center for  Microbiology, Instituto de Salud Carlos III (ISCIII), Majadahonda, 28220, Madrid,  Spain.\\', \\'AD  - Animal Health and Veterinary Laboratories Agency (AHVLA), Woodham Lane, Surrey, KT15  3NB and the National Centre for Zoonosis Research, University of Liverpool, Leahurst  Chester High Road, CH64 7TE Neston, UK.\\', \"AD  - Istituto Zooprofilattico Sperimentale della Lombardia e dell\\'Emilia-Romagna \\'B.  Ubertini\\' (IZSLER), via Bianchi 9, 25124, Brescia, Italy.\"]']\n"
     ]
    }
   ],
   "source": [
    "#lsce=lista sin correos electronicos\n",
    "lsce = []\n",
    "for r in range(len(lcc)):\n",
    "    q_n = re.sub(r\"(?:[a-z0-9!#$%&'*+/=?^_`{|}~-]+(?:\\.[a-z0-9!#$%&'*+/=?^_`{|}~-]+)*|\\\"(?:[\\x01-\\x08\\x0b\\x0c\\x0e-\\x1f\\x21\\x23-\\x5b\\x5d-\\x7f]|\\\\[\\x01-\\x09\\x0b\\x0c\\x0e-\\x7f])*\\\")@(?:(?:[a-z0-9](?:[a-z0-9-]*[a-z0-9])?\\.)+[a-z0-9](?:[a-z0-9-]*[a-z0-9])?|\\[(?:(?:(2(5[0-5]|[0-4][0-9])|1[0-9][0-9]|[1-9]?[0-9]))\\.){3}(?:(2(5[0-5]|[0-4][0-9])|1[0-9][0-9]|[1-9]?[0-9])|[a-z0-9-]*[a-z0-9]:(?:[\\x01-\\x08\\x0b\\x0c\\x0e-\\x1f\\x21-\\x5a\\x53-\\x7f]|\\\\[\\x01-\\x09\\x0b\\x0c\\x0e-\\x7f])+)\\])\",'',str(lcc))\n",
    "    lsce.append(q_n)\n",
    "    \n",
    "print(lsce[:1])"
   ]
  },
  {
   "cell_type": "code",
   "execution_count": 11,
   "id": "d2fca1df",
   "metadata": {},
   "outputs": [
    {
     "name": "stdout",
     "output_type": "stream",
     "text": [
      "1309\n",
      "1309\n"
     ]
    }
   ],
   "source": [
    "print(len(lcc))# LONGITUD DE LA LISTA CON CORREOS ELECTRONICOS\n",
    "print(len(lsce))#LONGITUD DE LA LISTA SIN CORREOS ELECTRONICOS\n",
    "#TIENEN EL MISMO NUMERO DE FILAS DE DATOS POR LO TANTO ESTA BIEN ECHO"
   ]
  },
  {
   "cell_type": "code",
   "execution_count": 14,
   "id": "3c37cebc",
   "metadata": {},
   "outputs": [
    {
     "name": "stdout",
     "output_type": "stream",
     "text": [
      "[' Vietnam.', ' India.', ' Germany.', ' Kenya.', ' Taiwan.', ' USA.', ' Korea.', ' France.', ' Thailand.', ' Singapore.']\n"
     ]
    }
   ],
   "source": [
    "#### tomo y enlisto solamente la ultima palabra de cada fila despues de un espacio y seguido de un punto[.] que corresponde al pais de cada fila\n",
    "## pf= paises de cada fila\n",
    "\n",
    "zipcodes = re.findall(r\"\\s+\\w+[.$]\", str(lsce))\n",
    "print(zipcodes[:10])\n",
    "#solo imprimo los primero 10 caracteres para que no le de un derrame a mi PC"
   ]
  },
  {
   "cell_type": "code",
   "execution_count": 15,
   "id": "296303d5",
   "metadata": {},
   "outputs": [
    {
     "data": {
      "text/plain": [
       "1873179"
      ]
     },
     "execution_count": 15,
     "metadata": {},
     "output_type": "execute_result"
    }
   ],
   "source": [
    "len(zipcodes)"
   ]
  },
  {
   "cell_type": "code",
   "execution_count": 16,
   "id": "b6b199d7",
   "metadata": {},
   "outputs": [],
   "source": [
    "unique_zipcodes = list(set(zipcodes)) #con list convierto una tupla a una lista y con set hago de esa lista un elemento configurable"
   ]
  },
  {
   "cell_type": "code",
   "execution_count": 17,
   "id": "63eab283",
   "metadata": {},
   "outputs": [],
   "source": [
    "unique_zipcodes.sort()#ordeno los elementos de mi lista en orden alfabetico"
   ]
  },
  {
   "cell_type": "code",
   "execution_count": 18,
   "id": "e7a2c9e5",
   "metadata": {
    "scrolled": true
   },
   "outputs": [
    {
     "data": {
      "text/plain": [
       "['  Canada.',\n",
       " '  China.',\n",
       " '  Colombia.',\n",
       " '  Cuba.',\n",
       " '  Darussalam.',\n",
       " '  EL.',\n",
       " '  Egypt.',\n",
       " '  France.',\n",
       " '  Germany.',\n",
       " '  Guiana.']"
      ]
     },
     "execution_count": 18,
     "metadata": {},
     "output_type": "execute_result"
    }
   ],
   "source": [
    "unique_zipcodes[10:20]##verifico que estan ordenados"
   ]
  },
  {
   "cell_type": "code",
   "execution_count": 19,
   "id": "8f6f4a57",
   "metadata": {},
   "outputs": [
    {
     "data": {
      "text/plain": [
       "229"
      ]
     },
     "execution_count": 19,
     "metadata": {},
     "output_type": "execute_result"
    }
   ],
   "source": [
    "len(unique_zipcodes)#numero de elementos sin repetirse de mi lista"
   ]
  },
  {
   "cell_type": "code",
   "execution_count": 92,
   "id": "ab6ce039",
   "metadata": {},
   "outputs": [],
   "source": [
    "import pandas as pd\n",
    "import re"
   ]
  },
  {
   "cell_type": "code",
   "execution_count": 100,
   "id": "045ddf37",
   "metadata": {},
   "outputs": [],
   "source": [
    "# defino tabla\n",
    "datos = pd.read_csv('zipcodes_coordinates.csv')\n",
    "df = pd.DataFrame(datos)"
   ]
  },
  {
   "cell_type": "code",
   "execution_count": 101,
   "id": "9d23c716",
   "metadata": {},
   "outputs": [
    {
     "name": "stdout",
     "output_type": "stream",
     "text": [
      "               0\n",
      "0        Andorra\n",
      "1         United\n",
      "2    Afghanistan\n",
      "3        Antigua\n",
      "4       Anguilla\n",
      "..           ...\n",
      "240        Yemen\n",
      "241      Mayotte\n",
      "242        South\n",
      "243       Zambia\n",
      "244     Zimbabwe\n",
      "\n",
      "[245 rows x 1 columns]\n"
     ]
    }
   ],
   "source": [
    "# hago un listado de los paises\n",
    "paises = df ['name'].str.extract('(\\w+)')\n",
    "print(paises)"
   ]
  },
  {
   "cell_type": "code",
   "execution_count": 105,
   "id": "add5f1ff",
   "metadata": {},
   "outputs": [
    {
     "name": "stdout",
     "output_type": "stream",
     "text": [
      "             0\n",
      "0    42.546245\n",
      "1    23.424076\n",
      "2     33.93911\n",
      "3    17.060816\n",
      "4    18.220554\n",
      "..         ...\n",
      "240  15.552727\n",
      "241    12.8275\n",
      "242  30.559482\n",
      "243  13.133897\n",
      "244  19.015438\n",
      "\n",
      "[245 rows x 1 columns]\n"
     ]
    }
   ],
   "source": [
    "# hago un listado de las las latitudes # cuidado con el error en la cadena de aumento .astype(str).str para arreglar el problema\n",
    "latitudes = df['latitude'].astype(str).str.extract('(\\d+(?:\\.\\d+)?)')\n",
    "print(latitudes)"
   ]
  },
  {
   "cell_type": "code",
   "execution_count": 106,
   "id": "05256640",
   "metadata": {},
   "outputs": [
    {
     "name": "stdout",
     "output_type": "stream",
     "text": [
      "             0\n",
      "0     1.601554\n",
      "1    53.847818\n",
      "2    67.709953\n",
      "3    61.796428\n",
      "4    63.068615\n",
      "..         ...\n",
      "240  48.516388\n",
      "241  45.166244\n",
      "242  22.937506\n",
      "243  27.849332\n",
      "244  29.154857\n",
      "\n",
      "[245 rows x 1 columns]\n"
     ]
    }
   ],
   "source": [
    "# hago un listado de la longitudes\n",
    "longitudes = df['longitude'].astype(str).str.extract('(\\d+(?:\\.\\d+)?)')\n",
    "print(longitudes)"
   ]
  },
  {
   "cell_type": "code",
   "execution_count": null,
   "id": "54633c62",
   "metadata": {},
   "outputs": [],
   "source": []
  },
  {
   "cell_type": "code",
   "execution_count": null,
   "id": "5d86c254",
   "metadata": {},
   "outputs": [],
   "source": []
  },
  {
   "cell_type": "code",
   "execution_count": null,
   "id": "3130c1cf",
   "metadata": {},
   "outputs": [],
   "source": []
  },
  {
   "cell_type": "code",
   "execution_count": 86,
   "id": "892d8fb6",
   "metadata": {},
   "outputs": [
    {
     "ename": "SyntaxError",
     "evalue": "unexpected EOF while parsing (Temp/ipykernel_70884/3366728527.py, line 3)",
     "output_type": "error",
     "traceback": [
      "\u001b[1;36m  File \u001b[1;32m\"C:\\Users\\LENOVO\\AppData\\Local\\Temp/ipykernel_70884/3366728527.py\"\u001b[1;36m, line \u001b[1;32m3\u001b[0m\n\u001b[1;33m    \u001b[0m\n\u001b[1;37m    ^\u001b[0m\n\u001b[1;31mSyntaxError\u001b[0m\u001b[1;31m:\u001b[0m unexpected EOF while parsing\n"
     ]
    }
   ],
   "source": [
    "paises = 4\n",
    "columna_paises = [semana[paises] for semana in (pd.read_csv('zipcodes_coordinates.csv'))\n",
    "         "
   ]
  },
  {
   "cell_type": "code",
   "execution_count": null,
   "id": "157fb185",
   "metadata": {},
   "outputs": [],
   "source": []
  },
  {
   "cell_type": "code",
   "execution_count": null,
   "id": "4d12421f",
   "metadata": {},
   "outputs": [],
   "source": []
  },
  {
   "cell_type": "code",
   "execution_count": 82,
   "id": "e646ab42",
   "metadata": {},
   "outputs": [
    {
     "name": "stdout",
     "output_type": "stream",
     "text": [
      "      A   B   C   D\n",
      "0   NaN NaN NaN NaN\n",
      "1   NaN NaN NaN NaN\n",
      "2   NaN NaN NaN NaN\n",
      "3   NaN NaN NaN NaN\n",
      "4   NaN NaN NaN NaN\n",
      "..   ..  ..  ..  ..\n",
      "240 NaN NaN NaN NaN\n",
      "241 NaN NaN NaN NaN\n",
      "242 NaN NaN NaN NaN\n",
      "243 NaN NaN NaN NaN\n",
      "244 NaN NaN NaN NaN\n",
      "\n",
      "[245 rows x 4 columns]\n"
     ]
    }
   ],
   "source": [
    "paises = pd.DataFrame( (pd.read_csv('zipcodes_coordinates.csv')) , columns=['A', 'B', 'C', 'D'])\n",
    "print(matriz)"
   ]
  },
  {
   "cell_type": "code",
   "execution_count": 71,
   "id": "dd855a67",
   "metadata": {},
   "outputs": [
    {
     "ename": "SyntaxError",
     "evalue": "unexpected EOF while parsing (Temp/ipykernel_70884/754468096.py, line 1)",
     "output_type": "error",
     "traceback": [
      "\u001b[1;36m  File \u001b[1;32m\"C:\\Users\\LENOVO\\AppData\\Local\\Temp/ipykernel_70884/754468096.py\"\u001b[1;36m, line \u001b[1;32m1\u001b[0m\n\u001b[1;33m    names = [fila(3) for fila in str(pd.read_csv('zipcodes_coordinates.csv'))\u001b[0m\n\u001b[1;37m                                                                             ^\u001b[0m\n\u001b[1;31mSyntaxError\u001b[0m\u001b[1;31m:\u001b[0m unexpected EOF while parsing\n"
     ]
    }
   ],
   "source": [
    "names = [fila(3) for fila in str(pd.read_csv('zipcodes_coordinates.csv'))"
   ]
  },
  {
   "cell_type": "code",
   "execution_count": null,
   "id": "657a9a3d",
   "metadata": {},
   "outputs": [],
   "source": [
    "row1 = (pd.read_csv('zipcodes_coordinates.csv')).loc[:2]"
   ]
  },
  {
   "cell_type": "code",
   "execution_count": 68,
   "id": "3a5b65f9",
   "metadata": {},
   "outputs": [
    {
     "name": "stdout",
     "output_type": "stream",
     "text": [
      "  country   latitude  longitude                  name\n",
      "0      AD  42.546245   1.601554               Andorra\n",
      "1      AE  23.424076  53.847818  United Arab Emirates\n",
      "2      AF  33.939110  67.709953           Afghanistan\n"
     ]
    }
   ],
   "source": [
    "print(row1)"
   ]
  },
  {
   "cell_type": "code",
   "execution_count": null,
   "id": "f63b2af1",
   "metadata": {},
   "outputs": [],
   "source": []
  },
  {
   "cell_type": "code",
   "execution_count": null,
   "id": "89967946",
   "metadata": {},
   "outputs": [],
   "source": []
  },
  {
   "cell_type": "code",
   "execution_count": null,
   "id": "9c62a693",
   "metadata": {},
   "outputs": [],
   "source": [
    "###################################################################################################################################################################3\n",
    "#########################################################################################################################################\n",
    "#########################################################################################################################################\n",
    "#########################################################################################################################################\n",
    "#########################################################################################################################################\n",
    "#########################################################################################################################################\n",
    "#########################################################################################################################################"
   ]
  },
  {
   "cell_type": "code",
   "execution_count": null,
   "id": "d83cd2d6",
   "metadata": {},
   "outputs": [],
   "source": [
    "zip_coordinates = {}\n",
    "with open('zipcodes_coordinates.xlsx', encoding= 'unicode_escape') as f:\n",
    "    csvr = csv.DictReader(f)\n",
    "    for row in csvr:\n",
    "        zip_coordinates[row]['name'] = [float(row['latitude']),\n",
    "                                       float(row['longitude'])]"
   ]
  },
  {
   "cell_type": "code",
   "execution_count": null,
   "id": "f9d15098",
   "metadata": {},
   "outputs": [],
   "source": []
  },
  {
   "cell_type": "code",
   "execution_count": null,
   "id": "0f32907c",
   "metadata": {},
   "outputs": [],
   "source": []
  },
  {
   "cell_type": "code",
   "execution_count": 33,
   "id": "e4cf153f",
   "metadata": {},
   "outputs": [
    {
     "name": "stdout",
     "output_type": "stream",
     "text": [
      "nameTESTcountry\n"
     ]
    }
   ],
   "source": [
    "\n",
    "\n",
    "myDict = {\"name\": \"John\", \"country\": \"Norway\"}\n",
    "mySeparator = \"TEST\"\n",
    "\n",
    "x = mySeparator.join(myDict)\n",
    "\n",
    "print(x)"
   ]
  },
  {
   "cell_type": "code",
   "execution_count": null,
   "id": "4c63be58",
   "metadata": {},
   "outputs": [],
   "source": []
  },
  {
   "cell_type": "code",
   "execution_count": null,
   "id": "bfc49630",
   "metadata": {},
   "outputs": [],
   "source": []
  },
  {
   "cell_type": "code",
   "execution_count": 248,
   "id": "b3290099",
   "metadata": {},
   "outputs": [
    {
     "name": "stdout",
     "output_type": "stream",
     "text": [
      "[\"('AD  - Carlos Slim Health Institute, Mexico City, Mexico. ', 'AD  - Armed Forces Research Institute of Medical Science, Bangkok, Thailand.  ')\", \"('AD  - Carlos Slim Health Institute, Mexico City, Mexico. ', 'AD  - Armed Forces Research Institute of Medical Science, Bangkok, Thailand.  ')\"]\n",
      "2\n"
     ]
    },
    {
     "data": {
      "text/plain": [
       "2"
      ]
     },
     "execution_count": 248,
     "metadata": {},
     "output_type": "execute_result"
    }
   ],
   "source": [
    "###########33\n",
    "q = ('AD  - Carlos Slim Health Institute, Mexico City, Mexico. tapiaconyer@yahoo.com.mx','AD  - Armed Forces Research Institute of Medical Science, Bangkok, Thailand.  robert.gibbons@afrims.org')\n",
    "q_nuevo = []\n",
    "for r in range(len(q)):\n",
    "    q_n = re.sub(r\"(?:[a-z0-9!#$%&'*+/=?^_`{|}~-]+(?:\\.[a-z0-9!#$%&'*+/=?^_`{|}~-]+)*|\\\"(?:[\\x01-\\x08\\x0b\\x0c\\x0e-\\x1f\\x21\\x23-\\x5b\\x5d-\\x7f]|\\\\[\\x01-\\x09\\x0b\\x0c\\x0e-\\x7f])*\\\")@(?:(?:[a-z0-9](?:[a-z0-9-]*[a-z0-9])?\\.)+[a-z0-9](?:[a-z0-9-]*[a-z0-9])?|\\[(?:(?:(2(5[0-5]|[0-4][0-9])|1[0-9][0-9]|[1-9]?[0-9]))\\.){3}(?:(2(5[0-5]|[0-4][0-9])|1[0-9][0-9]|[1-9]?[0-9])|[a-z0-9-]*[a-z0-9]:(?:[\\x01-\\x08\\x0b\\x0c\\x0e-\\x1f\\x21-\\x5a\\x53-\\x7f]|\\\\[\\x01-\\x09\\x0b\\x0c\\x0e-\\x7f])+)\\])\",'',str(q))\n",
    "    q_nuevo.append(q_n)\n",
    "    \n",
    "print(q_nuevo)\n",
    "\n",
    "print(len(q))\n",
    "len((q_nuevo))\n",
    "# PEQUEÑA PRUEBA PARA VERIFICAR QUE SE ELIMINAN LOS CORREOS AL FINAL DE CADA FILA"
   ]
  },
  {
   "cell_type": "code",
   "execution_count": null,
   "id": "8793852f",
   "metadata": {},
   "outputs": [],
   "source": []
  },
  {
   "cell_type": "code",
   "execution_count": 298,
   "id": "a8b397f3",
   "metadata": {},
   "outputs": [
    {
     "name": "stdout",
     "output_type": "stream",
     "text": [
      "[' Mexico.', ' Thailand.', ' Mexico.', ' Thailand.']\n"
     ]
    }
   ],
   "source": [
    "print(re.findall(r\"\\s+\\w+[.]\", str(q_nuevo)))\n",
    "\n",
    "#####################3 "
   ]
  },
  {
   "cell_type": "code",
   "execution_count": 39,
   "id": "ec8ede56",
   "metadata": {},
   "outputs": [
    {
     "name": "stdout",
     "output_type": "stream",
     "text": [
      "[\"('AD  - Carlos Slim Health Institute, Mexico City, Mexico. ', 'AD  - Armed Forces Research Institute of Medical Science, Bangkok, Thailand.  ')\", \"('AD  - Carlos Slim Health Institute, Mexico City, Mexico. ', 'AD  - Armed Forces Research Institute of Medical Science, Bangkok, Thailand.  ')\"]\n"
     ]
    },
    {
     "data": {
      "text/plain": [
       "2"
      ]
     },
     "execution_count": 39,
     "metadata": {},
     "output_type": "execute_result"
    }
   ],
   "source": [
    "q = ('AD  - Carlos Slim Health Institute, Mexico City, Mexico. tapiaconyer@yahoo.com.mx','AD  - Armed Forces Research Institute of Medical Science, Bangkok, Thailand.  robert.gibbons@afrims.org')\n",
    "q_nuevo = []\n",
    "for r in range(len(q)):\n",
    "    q_n = re.sub(r\"(?:[a-z0-9!#$%&'*+/=?^_`{|}~-]+(?:\\.[a-z0-9!#$%&'*+/=?^_`{|}~-]+)*|\\\"(?:[\\x01-\\x08\\x0b\\x0c\\x0e-\\x1f\\x21\\x23-\\x5b\\x5d-\\x7f]|\\\\[\\x01-\\x09\\x0b\\x0c\\x0e-\\x7f])*\\\")@(?:(?:[a-z0-9](?:[a-z0-9-]*[a-z0-9])?\\.)+[a-z0-9](?:[a-z0-9-]*[a-z0-9])?|\\[(?:(?:(2(5[0-5]|[0-4][0-9])|1[0-9][0-9]|[1-9]?[0-9]))\\.){3}(?:(2(5[0-5]|[0-4][0-9])|1[0-9][0-9]|[1-9]?[0-9])|[a-z0-9-]*[a-z0-9]:(?:[\\x01-\\x08\\x0b\\x0c\\x0e-\\x1f\\x21-\\x5a\\x53-\\x7f]|\\\\[\\x01-\\x09\\x0b\\x0c\\x0e-\\x7f])+)\\])\",'',str(q))\n",
    "    q_nuevo.append(q_n)\n",
    "    \n",
    "print(q_nuevo)\n",
    "len(q_nuevo)"
   ]
  },
  {
   "cell_type": "code",
   "execution_count": null,
   "id": "63377dee",
   "metadata": {},
   "outputs": [],
   "source": [
    "# lista de paises por fila\n",
    "lpf = re.findall(r\"\", lsce)"
   ]
  },
  {
   "cell_type": "code",
   "execution_count": null,
   "id": "5d847f28",
   "metadata": {},
   "outputs": [],
   "source": []
  },
  {
   "cell_type": "code",
   "execution_count": null,
   "id": "38a390f5",
   "metadata": {},
   "outputs": [],
   "source": []
  },
  {
   "cell_type": "code",
   "execution_count": null,
   "id": "e8fd3255",
   "metadata": {},
   "outputs": [],
   "source": []
  },
  {
   "cell_type": "code",
   "execution_count": 11,
   "id": "ee359169",
   "metadata": {},
   "outputs": [],
   "source": [
    "q = ('AD  - Carlos Slim Health Institute, Mexico City, Mexico. tapiaconyer@yahoo.com.mx', 'AD  - University Malaya, Faculty of Medicine, Department of Medical Microbiology, Kuala  Lumpur, Malaysia.')\n",
    "for i in q:\n",
    "    if i = r\"(?:[a-z0-9!#$%&'*+/=?^_`{|}~-]+(?:\\.[a-z0-9!#$%&'*+/=?^_`{|}~-]+)*|\\\"(?:[\\x01-\\x08\\x0b\\x0c\\x0e-\\x1f\\x21\\x23-\\x5b\\x5d-\\x7f]|\\\\[\\x01-\\x09\\x0b\\x0c\\x0e-\\x7f])*\\\")@(?:(?:[a-z0-9](?:[a-z0-9-]*[a-z0-9])?\\.)+[a-z0-9](?:[a-z0-9-]*[a-z0-9])?|\\[(?:(?:(2(5[0-5]|[0-4][0-9])|1[0-9][0-9]|[1-9]?[0-9]))\\.){3}(?:(2(5[0-5]|[0-4][0-9])|1[0-9][0-9]|[1-9]?[0-9])|[a-z0-9-]*[a-z0-9]:(?:[\\x01-\\x08\\x0b\\x0c\\x0e-\\x1f\\x21-\\x5a\\x53-\\x7f]|\\\\[\\x01-\\x09\\x0b\\x0c\\x0e-\\x7f])+)\\])\":\n",
    "       i.remove(r\"(?:[a-z0-9!#$%&'*+/=?^_`{|}~-]+(?:\\.[a-z0-9!#$%&'*+/=?^_`{|}~-]+)*|\\\"(?:[\\x01-\\x08\\x0b\\x0c\\x0e-\\x1f\\x21\\x23-\\x5b\\x5d-\\x7f]|\\\\[\\x01-\\x09\\x0b\\x0c\\x0e-\\x7f])*\\\")@(?:(?:[a-z0-9](?:[a-z0-9-]*[a-z0-9])?\\.)+[a-z0-9](?:[a-z0-9-]*[a-z0-9])?|\\[(?:(?:(2(5[0-5]|[0-4][0-9])|1[0-9][0-9]|[1-9]?[0-9]))\\.){3}(?:(2(5[0-5]|[0-4][0-9])|1[0-9][0-9]|[1-9]?[0-9])|[a-z0-9-]*[a-z0-9]:(?:[\\x01-\\x08\\x0b\\x0c\\x0e-\\x1f\\x21-\\x5a\\x53-\\x7f]|\\\\[\\x01-\\x09\\x0b\\x0c\\x0e-\\x7f])+)\\])\") \n",
    "        "
   ]
  },
  {
   "cell_type": "code",
   "execution_count": 36,
   "id": "3480747c",
   "metadata": {},
   "outputs": [
    {
     "ename": "SyntaxError",
     "evalue": "invalid syntax (Temp/ipykernel_37564/2903445257.py, line 3)",
     "output_type": "error",
     "traceback": [
      "\u001b[1;36m  File \u001b[1;32m\"C:\\Users\\LENOVO\\AppData\\Local\\Temp/ipykernel_37564/2903445257.py\"\u001b[1;36m, line \u001b[1;32m3\u001b[0m\n\u001b[1;33m    if i = r\"(?:[a-z0-9!#$%&'*+/=?^_`{|}~-]+(?:\\.[a-z0-9!#$%&'*+/=?^_`{|}~-]+)*|\\\"(?:[\\x01-\\x08\\x0b\\x0c\\x0e-\\x1f\\x21\\x23-\\x5b\\x5d-\\x7f]|\\\\[\\x01-\\x09\\x0b\\x0c\\x0e-\\x7f])*\\\")@(?:(?:[a-z0-9](?:[a-z0-9-]*[a-z0-9])?\\.)+[a-z0-9](?:[a-z0-9-]*[a-z0-9])?|\\[(?:(?:(2(5[0-5]|[0-4][0-9])|1[0-9][0-9]|[1-9]?[0-9]))\\.){3}(?:(2(5[0-5]|[0-4][0-9])|1[0-9][0-9]|[1-9]?[0-9])|[a-z0-9-]*[a-z0-9]:(?:[\\x01-\\x08\\x0b\\x0c\\x0e-\\x1f\\x21-\\x5a\\x53-\\x7f]|\\\\[\\x01-\\x09\\x0b\\x0c\\x0e-\\x7f])+)\\])\":\u001b[0m\n\u001b[1;37m         ^\u001b[0m\n\u001b[1;31mSyntaxError\u001b[0m\u001b[1;31m:\u001b[0m invalid syntax\n"
     ]
    }
   ],
   "source": [
    "q = ('AD  - Carlos Slim Health Institute, Mexico City, Mexico. tapiaconyer@yahoo.com.mx','AD  - Armed Forces Research Institute of Medical Science, Bangkok, Thailand.  robert.gibbons@afrims.org')\n",
    "for i in q:\n",
    "    if i = r\"(?:[a-z0-9!#$%&'*+/=?^_`{|}~-]+(?:\\.[a-z0-9!#$%&'*+/=?^_`{|}~-]+)*|\\\"(?:[\\x01-\\x08\\x0b\\x0c\\x0e-\\x1f\\x21\\x23-\\x5b\\x5d-\\x7f]|\\\\[\\x01-\\x09\\x0b\\x0c\\x0e-\\x7f])*\\\")@(?:(?:[a-z0-9](?:[a-z0-9-]*[a-z0-9])?\\.)+[a-z0-9](?:[a-z0-9-]*[a-z0-9])?|\\[(?:(?:(2(5[0-5]|[0-4][0-9])|1[0-9][0-9]|[1-9]?[0-9]))\\.){3}(?:(2(5[0-5]|[0-4][0-9])|1[0-9][0-9]|[1-9]?[0-9])|[a-z0-9-]*[a-z0-9]:(?:[\\x01-\\x08\\x0b\\x0c\\x0e-\\x1f\\x21-\\x5a\\x53-\\x7f]|\\\\[\\x01-\\x09\\x0b\\x0c\\x0e-\\x7f])+)\\])\":\n",
    "        continue"
   ]
  },
  {
   "cell_type": "code",
   "execution_count": 22,
   "id": "b54a2a6a",
   "metadata": {},
   "outputs": [
    {
     "ename": "TypeError",
     "evalue": "string indices must be integers",
     "output_type": "error",
     "traceback": [
      "\u001b[1;31m---------------------------------------------------------------------------\u001b[0m",
      "\u001b[1;31mTypeError\u001b[0m                                 Traceback (most recent call last)",
      "\u001b[1;32m~\\AppData\\Local\\Temp/ipykernel_37564/3698177704.py\u001b[0m in \u001b[0;36m<module>\u001b[1;34m\u001b[0m\n\u001b[0;32m      1\u001b[0m \u001b[0mg\u001b[0m \u001b[1;33m=\u001b[0m \u001b[1;33m(\u001b[0m\u001b[1;34m'AD  - Carlos Slim Health Institute, Mexico City, Mexico. tapiaconyer@yahoo.com.mx'\u001b[0m\u001b[1;33m)\u001b[0m\u001b[1;33m\u001b[0m\u001b[1;33m\u001b[0m\u001b[0m\n\u001b[1;32m----> 2\u001b[1;33m \u001b[0mg\u001b[0m\u001b[1;33m[\u001b[0m\u001b[1;34mr\"(?:[a-z0-9!#$%&'*+/=?^_`{|}~-]+(?:\\.[a-z0-9!#$%&'*+/=?^_`{|}~-]+)*|\\\"(?:[\\x01-\\x08\\x0b\\x0c\\x0e-\\x1f\\x21\\x23-\\x5b\\x5d-\\x7f]|\\\\[\\x01-\\x09\\x0b\\x0c\\x0e-\\x7f])*\\\")@(?:(?:[a-z0-9](?:[a-z0-9-]*[a-z0-9])?\\.)+[a-z0-9](?:[a-z0-9-]*[a-z0-9])?|\\[(?:(?:(2(5[0-5]|[0-4][0-9])|1[0-9][0-9]|[1-9]?[0-9]))\\.){3}(?:(2(5[0-5]|[0-4][0-9])|1[0-9][0-9]|[1-9]?[0-9])|[a-z0-9-]*[a-z0-9]:(?:[\\x01-\\x08\\x0b\\x0c\\x0e-\\x1f\\x21-\\x5a\\x53-\\x7f]|\\\\[\\x01-\\x09\\x0b\\x0c\\x0e-\\x7f])+)\\])\"\u001b[0m\u001b[1;33m]\u001b[0m\u001b[1;33m\u001b[0m\u001b[1;33m\u001b[0m\u001b[0m\n\u001b[0m",
      "\u001b[1;31mTypeError\u001b[0m: string indices must be integers"
     ]
    }
   ],
   "source": [
    "g = ('AD  - Carlos Slim Health Institute, Mexico City, Mexico. tapiaconyer@yahoo.com.mx')\n",
    "g[r\"(?:[a-z0-9!#$%&'*+/=?^_`{|}~-]+(?:\\.[a-z0-9!#$%&'*+/=?^_`{|}~-]+)*|\\\"(?:[\\x01-\\x08\\x0b\\x0c\\x0e-\\x1f\\x21\\x23-\\x5b\\x5d-\\x7f]|\\\\[\\x01-\\x09\\x0b\\x0c\\x0e-\\x7f])*\\\")@(?:(?:[a-z0-9](?:[a-z0-9-]*[a-z0-9])?\\.)+[a-z0-9](?:[a-z0-9-]*[a-z0-9])?|\\[(?:(?:(2(5[0-5]|[0-4][0-9])|1[0-9][0-9]|[1-9]?[0-9]))\\.){3}(?:(2(5[0-5]|[0-4][0-9])|1[0-9][0-9]|[1-9]?[0-9])|[a-z0-9-]*[a-z0-9]:(?:[\\x01-\\x08\\x0b\\x0c\\x0e-\\x1f\\x21-\\x5a\\x53-\\x7f]|\\\\[\\x01-\\x09\\x0b\\x0c\\x0e-\\x7f])+)\\])\"]"
   ]
  },
  {
   "cell_type": "code",
   "execution_count": 214,
   "id": "3e348459",
   "metadata": {},
   "outputs": [
    {
     "ename": "TypeError",
     "evalue": "expected string or bytes-like object",
     "output_type": "error",
     "traceback": [
      "\u001b[1;31m---------------------------------------------------------------------------\u001b[0m",
      "\u001b[1;31mTypeError\u001b[0m                                 Traceback (most recent call last)",
      "\u001b[1;32m~\\AppData\\Local\\Temp/ipykernel_67856/2290582190.py\u001b[0m in \u001b[0;36m<module>\u001b[1;34m\u001b[0m\n\u001b[0;32m      1\u001b[0m \u001b[1;32mfor\u001b[0m \u001b[0melemento\u001b[0m \u001b[1;32min\u001b[0m \u001b[0mlcc\u001b[0m\u001b[1;33m:\u001b[0m\u001b[1;33m\u001b[0m\u001b[1;33m\u001b[0m\u001b[0m\n\u001b[1;32m----> 2\u001b[1;33m     \u001b[0mlsce\u001b[0m \u001b[1;33m=\u001b[0m \u001b[0mre\u001b[0m\u001b[1;33m.\u001b[0m\u001b[0msub\u001b[0m\u001b[1;33m(\u001b[0m\u001b[1;34mr\"(?:[a-z0-9!#$%&'*+/=?^_`{|}~-]+(?:\\.[a-z0-9!#$%&'*+/=?^_`{|}~-]+)*|\\\"(?:[\\x01-\\x08\\x0b\\x0c\\x0e-\\x1f\\x21\\x23-\\x5b\\x5d-\\x7f]|\\\\[\\x01-\\x09\\x0b\\x0c\\x0e-\\x7f])*\\\")@(?:(?:[a-z0-9](?:[a-z0-9-]*[a-z0-9])?\\.)+[a-z0-9](?:[a-z0-9-]*[a-z0-9])?|\\[(?:(?:(2(5[0-5]|[0-4][0-9])|1[0-9][0-9]|[1-9]?[0-9]))\\.){3}(?:(2(5[0-5]|[0-4][0-9])|1[0-9][0-9]|[1-9]?[0-9])|[a-z0-9-]*[a-z0-9]:(?:[\\x01-\\x08\\x0b\\x0c\\x0e-\\x1f\\x21-\\x5a\\x53-\\x7f]|\\\\[\\x01-\\x09\\x0b\\x0c\\x0e-\\x7f])+)\\])\"\u001b[0m\u001b[1;33m,\u001b[0m\u001b[1;34m''\u001b[0m\u001b[1;33m,\u001b[0m\u001b[0mlcc\u001b[0m\u001b[1;33m)\u001b[0m\u001b[1;33m\u001b[0m\u001b[1;33m\u001b[0m\u001b[0m\n\u001b[0m\u001b[0;32m      3\u001b[0m \u001b[0mprint\u001b[0m\u001b[1;33m(\u001b[0m\u001b[0melemento\u001b[0m\u001b[1;33m[\u001b[0m\u001b[1;33m:\u001b[0m\u001b[1;36m10\u001b[0m\u001b[1;33m]\u001b[0m\u001b[1;33m)\u001b[0m\u001b[1;33m\u001b[0m\u001b[1;33m\u001b[0m\u001b[0m\n",
      "\u001b[1;32mC:\\ProgramData\\Anaconda3\\lib\\re.py\u001b[0m in \u001b[0;36msub\u001b[1;34m(pattern, repl, string, count, flags)\u001b[0m\n\u001b[0;32m    208\u001b[0m     \u001b[0ma\u001b[0m \u001b[0mcallable\u001b[0m\u001b[1;33m,\u001b[0m \u001b[0mit\u001b[0m\u001b[0;31m'\u001b[0m\u001b[0ms\u001b[0m \u001b[0mpassed\u001b[0m \u001b[0mthe\u001b[0m \u001b[0mMatch\u001b[0m \u001b[0mobject\u001b[0m \u001b[1;32mand\u001b[0m \u001b[0mmust\u001b[0m \u001b[1;32mreturn\u001b[0m\u001b[1;33m\u001b[0m\u001b[1;33m\u001b[0m\u001b[0m\n\u001b[0;32m    209\u001b[0m     a replacement string to be used.\"\"\"\n\u001b[1;32m--> 210\u001b[1;33m     \u001b[1;32mreturn\u001b[0m \u001b[0m_compile\u001b[0m\u001b[1;33m(\u001b[0m\u001b[0mpattern\u001b[0m\u001b[1;33m,\u001b[0m \u001b[0mflags\u001b[0m\u001b[1;33m)\u001b[0m\u001b[1;33m.\u001b[0m\u001b[0msub\u001b[0m\u001b[1;33m(\u001b[0m\u001b[0mrepl\u001b[0m\u001b[1;33m,\u001b[0m \u001b[0mstring\u001b[0m\u001b[1;33m,\u001b[0m \u001b[0mcount\u001b[0m\u001b[1;33m)\u001b[0m\u001b[1;33m\u001b[0m\u001b[1;33m\u001b[0m\u001b[0m\n\u001b[0m\u001b[0;32m    211\u001b[0m \u001b[1;33m\u001b[0m\u001b[0m\n\u001b[0;32m    212\u001b[0m \u001b[1;32mdef\u001b[0m \u001b[0msubn\u001b[0m\u001b[1;33m(\u001b[0m\u001b[0mpattern\u001b[0m\u001b[1;33m,\u001b[0m \u001b[0mrepl\u001b[0m\u001b[1;33m,\u001b[0m \u001b[0mstring\u001b[0m\u001b[1;33m,\u001b[0m \u001b[0mcount\u001b[0m\u001b[1;33m=\u001b[0m\u001b[1;36m0\u001b[0m\u001b[1;33m,\u001b[0m \u001b[0mflags\u001b[0m\u001b[1;33m=\u001b[0m\u001b[1;36m0\u001b[0m\u001b[1;33m)\u001b[0m\u001b[1;33m:\u001b[0m\u001b[1;33m\u001b[0m\u001b[1;33m\u001b[0m\u001b[0m\n",
      "\u001b[1;31mTypeError\u001b[0m: expected string or bytes-like object"
     ]
    }
   ],
   "source": [
    "for elemento in lcc:\n",
    "    lsce = re.sub(r\"(?:[a-z0-9!#$%&'*+/=?^_`{|}~-]+(?:\\.[a-z0-9!#$%&'*+/=?^_`{|}~-]+)*|\\\"(?:[\\x01-\\x08\\x0b\\x0c\\x0e-\\x1f\\x21\\x23-\\x5b\\x5d-\\x7f]|\\\\[\\x01-\\x09\\x0b\\x0c\\x0e-\\x7f])*\\\")@(?:(?:[a-z0-9](?:[a-z0-9-]*[a-z0-9])?\\.)+[a-z0-9](?:[a-z0-9-]*[a-z0-9])?|\\[(?:(?:(2(5[0-5]|[0-4][0-9])|1[0-9][0-9]|[1-9]?[0-9]))\\.){3}(?:(2(5[0-5]|[0-4][0-9])|1[0-9][0-9]|[1-9]?[0-9])|[a-z0-9-]*[a-z0-9]:(?:[\\x01-\\x08\\x0b\\x0c\\x0e-\\x1f\\x21-\\x5a\\x53-\\x7f]|\\\\[\\x01-\\x09\\x0b\\x0c\\x0e-\\x7f])+)\\])\",'',lcc)\n",
    "print(lsce[:10])"
   ]
  },
  {
   "cell_type": "code",
   "execution_count": 214,
   "id": "236a7bc6",
   "metadata": {},
   "outputs": [
    {
     "name": "stdout",
     "output_type": "stream",
     "text": [
      "AD  - Armed Forces Research Institute of Medical Science, Bangkok, Thailand.  \n",
      "AD  - Armed Forces Research Institute of Medical Science, Bangkok, Thailand.  \n"
     ]
    }
   ],
   "source": [
    "a= ('AD  - Armed Forces Research Institute of Medical Science, Bangkok, Thailand.  robert.gibbons@afrims.org' )\n",
    "lsce = re.sub(r\"(?:[a-z0-9!#$%&'*+/=?^_`{|}~-]+(?:\\.[a-z0-9!#$%&'*+/=?^_`{|}~-]+)*|\\\"(?:[\\x01-\\x08\\x0b\\x0c\\x0e-\\x1f\\x21\\x23-\\x5b\\x5d-\\x7f]|\\\\[\\x01-\\x09\\x0b\\x0c\\x0e-\\x7f])*\\\")@(?:(?:[a-z0-9](?:[a-z0-9-]*[a-z0-9])?\\.)+[a-z0-9](?:[a-z0-9-]*[a-z0-9])?|\\[(?:(?:(2(5[0-5]|[0-4][0-9])|1[0-9][0-9]|[1-9]?[0-9]))\\.){3}(?:(2(5[0-5]|[0-4][0-9])|1[0-9][0-9]|[1-9]?[0-9])|[a-z0-9-]*[a-z0-9]:(?:[\\x01-\\x08\\x0b\\x0c\\x0e-\\x1f\\x21-\\x5a\\x53-\\x7f]|\\\\[\\x01-\\x09\\x0b\\x0c\\x0e-\\x7f])+)\\])\",'',a)\n",
    "    \n",
    "print(lsce)\n",
    "###################\n",
    "q= ('AD  - Armed Forces Research Institute of Medical Science, Bangkok, Thailand.  robert.gibbons@afrims.org')\n",
    "s = re.sub(r\"(?:[a-z0-9!#$%&'*+/=?^_`{|}~-]+(?:\\.[a-z0-9!#$%&'*+/=?^_`{|}~-]+)*|\\\"(?:[\\x01-\\x08\\x0b\\x0c\\x0e-\\x1f\\x21\\x23-\\x5b\\x5d-\\x7f]|\\\\[\\x01-\\x09\\x0b\\x0c\\x0e-\\x7f])*\\\")@(?:(?:[a-z0-9](?:[a-z0-9-]*[a-z0-9])?\\.)+[a-z0-9](?:[a-z0-9-]*[a-z0-9])?|\\[(?:(?:(2(5[0-5]|[0-4][0-9])|1[0-9][0-9]|[1-9]?[0-9]))\\.){3}(?:(2(5[0-5]|[0-4][0-9])|1[0-9][0-9]|[1-9]?[0-9])|[a-z0-9-]*[a-z0-9]:(?:[\\x01-\\x08\\x0b\\x0c\\x0e-\\x1f\\x21-\\x5a\\x53-\\x7f]|\\\\[\\x01-\\x09\\x0b\\x0c\\x0e-\\x7f])+)\\])\",'',q)\n",
    "print(s)"
   ]
  },
  {
   "cell_type": "code",
   "execution_count": 196,
   "id": "4b7a26c2",
   "metadata": {},
   "outputs": [
    {
     "ename": "TypeError",
     "evalue": "expected string or bytes-like object",
     "output_type": "error",
     "traceback": [
      "\u001b[1;31m---------------------------------------------------------------------------\u001b[0m",
      "\u001b[1;31mTypeError\u001b[0m                                 Traceback (most recent call last)",
      "\u001b[1;32m~\\AppData\\Local\\Temp/ipykernel_37564/655774301.py\u001b[0m in \u001b[0;36m<module>\u001b[1;34m\u001b[0m\n\u001b[0;32m      1\u001b[0m \u001b[0ma\u001b[0m\u001b[1;33m=\u001b[0m \u001b[1;33m(\u001b[0m\u001b[1;34m'AD  - Armed Forces Research Institute of Medical Science, Bangkok, Thailand.  robert.gibbons@afrims.org'\u001b[0m \u001b[1;33m)\u001b[0m\u001b[1;33m\u001b[0m\u001b[1;33m\u001b[0m\u001b[0m\n\u001b[1;32m----> 2\u001b[1;33m \u001b[0mlsce\u001b[0m \u001b[1;33m=\u001b[0m \u001b[0mre\u001b[0m\u001b[1;33m.\u001b[0m\u001b[0msub\u001b[0m\u001b[1;33m(\u001b[0m\u001b[1;34mr\"(?:[a-z0-9!#$%&'*+/=?^_`{|}~-]+(?:\\.[a-z0-9!#$%&'*+/=?^_`{|}~-]+)*|\\\"(?:[\\x01-\\x08\\x0b\\x0c\\x0e-\\x1f\\x21\\x23-\\x5b\\x5d-\\x7f]|\\\\[\\x01-\\x09\\x0b\\x0c\\x0e-\\x7f])*\\\")@(?:(?:[a-z0-9](?:[a-z0-9-]*[a-z0-9])?\\.)+[a-z0-9](?:[a-z0-9-]*[a-z0-9])?|\\[(?:(?:(2(5[0-5]|[0-4][0-9])|1[0-9][0-9]|[1-9]?[0-9]))\\.){3}(?:(2(5[0-5]|[0-4][0-9])|1[0-9][0-9]|[1-9]?[0-9])|[a-z0-9-]*[a-z0-9]:(?:[\\x01-\\x08\\x0b\\x0c\\x0e-\\x1f\\x21-\\x5a\\x53-\\x7f]|\\\\[\\x01-\\x09\\x0b\\x0c\\x0e-\\x7f])+)\\])\"\u001b[0m\u001b[1;33m,\u001b[0m\u001b[1;34m''\u001b[0m\u001b[1;33m,\u001b[0m\u001b[0mrange\u001b[0m\u001b[1;33m(\u001b[0m\u001b[0mlen\u001b[0m\u001b[1;33m(\u001b[0m\u001b[0ma\u001b[0m\u001b[1;33m)\u001b[0m\u001b[1;33m)\u001b[0m\u001b[1;33m)\u001b[0m\u001b[1;33m\u001b[0m\u001b[1;33m\u001b[0m\u001b[0m\n\u001b[0m\u001b[0;32m      3\u001b[0m \u001b[1;33m\u001b[0m\u001b[0m\n\u001b[0;32m      4\u001b[0m \u001b[0mprint\u001b[0m\u001b[1;33m(\u001b[0m\u001b[0mlsce\u001b[0m\u001b[1;33m)\u001b[0m\u001b[1;33m\u001b[0m\u001b[1;33m\u001b[0m\u001b[0m\n",
      "\u001b[1;32mC:\\ProgramData\\Anaconda3\\lib\\re.py\u001b[0m in \u001b[0;36msub\u001b[1;34m(pattern, repl, string, count, flags)\u001b[0m\n\u001b[0;32m    208\u001b[0m     \u001b[0ma\u001b[0m \u001b[0mcallable\u001b[0m\u001b[1;33m,\u001b[0m \u001b[0mit\u001b[0m\u001b[0;31m'\u001b[0m\u001b[0ms\u001b[0m \u001b[0mpassed\u001b[0m \u001b[0mthe\u001b[0m \u001b[0mMatch\u001b[0m \u001b[0mobject\u001b[0m \u001b[1;32mand\u001b[0m \u001b[0mmust\u001b[0m \u001b[1;32mreturn\u001b[0m\u001b[1;33m\u001b[0m\u001b[1;33m\u001b[0m\u001b[0m\n\u001b[0;32m    209\u001b[0m     a replacement string to be used.\"\"\"\n\u001b[1;32m--> 210\u001b[1;33m     \u001b[1;32mreturn\u001b[0m \u001b[0m_compile\u001b[0m\u001b[1;33m(\u001b[0m\u001b[0mpattern\u001b[0m\u001b[1;33m,\u001b[0m \u001b[0mflags\u001b[0m\u001b[1;33m)\u001b[0m\u001b[1;33m.\u001b[0m\u001b[0msub\u001b[0m\u001b[1;33m(\u001b[0m\u001b[0mrepl\u001b[0m\u001b[1;33m,\u001b[0m \u001b[0mstring\u001b[0m\u001b[1;33m,\u001b[0m \u001b[0mcount\u001b[0m\u001b[1;33m)\u001b[0m\u001b[1;33m\u001b[0m\u001b[1;33m\u001b[0m\u001b[0m\n\u001b[0m\u001b[0;32m    211\u001b[0m \u001b[1;33m\u001b[0m\u001b[0m\n\u001b[0;32m    212\u001b[0m \u001b[1;32mdef\u001b[0m \u001b[0msubn\u001b[0m\u001b[1;33m(\u001b[0m\u001b[0mpattern\u001b[0m\u001b[1;33m,\u001b[0m \u001b[0mrepl\u001b[0m\u001b[1;33m,\u001b[0m \u001b[0mstring\u001b[0m\u001b[1;33m,\u001b[0m \u001b[0mcount\u001b[0m\u001b[1;33m=\u001b[0m\u001b[1;36m0\u001b[0m\u001b[1;33m,\u001b[0m \u001b[0mflags\u001b[0m\u001b[1;33m=\u001b[0m\u001b[1;36m0\u001b[0m\u001b[1;33m)\u001b[0m\u001b[1;33m:\u001b[0m\u001b[1;33m\u001b[0m\u001b[1;33m\u001b[0m\u001b[0m\n",
      "\u001b[1;31mTypeError\u001b[0m: expected string or bytes-like object"
     ]
    }
   ],
   "source": [
    "a= ('AD  - Armed Forces Research Institute of Medical Science, Bangkok, Thailand.  robert.gibbons@afrims.org' )\n",
    "lsce = re.sub(r\"(?:[a-z0-9!#$%&'*+/=?^_`{|}~-]+(?:\\.[a-z0-9!#$%&'*+/=?^_`{|}~-]+)*|\\\"(?:[\\x01-\\x08\\x0b\\x0c\\x0e-\\x1f\\x21\\x23-\\x5b\\x5d-\\x7f]|\\\\[\\x01-\\x09\\x0b\\x0c\\x0e-\\x7f])*\\\")@(?:(?:[a-z0-9](?:[a-z0-9-]*[a-z0-9])?\\.)+[a-z0-9](?:[a-z0-9-]*[a-z0-9])?|\\[(?:(?:(2(5[0-5]|[0-4][0-9])|1[0-9][0-9]|[1-9]?[0-9]))\\.){3}(?:(2(5[0-5]|[0-4][0-9])|1[0-9][0-9]|[1-9]?[0-9])|[a-z0-9-]*[a-z0-9]:(?:[\\x01-\\x08\\x0b\\x0c\\x0e-\\x1f\\x21-\\x5a\\x53-\\x7f]|\\\\[\\x01-\\x09\\x0b\\x0c\\x0e-\\x7f])+)\\])\",'',range(len(a)))\n",
    "    \n",
    "print(lsce)"
   ]
  },
  {
   "cell_type": "code",
   "execution_count": 321,
   "id": "0bffade8",
   "metadata": {},
   "outputs": [
    {
     "name": "stdout",
     "output_type": "stream",
     "text": [
      "0\n",
      "1\n"
     ]
    },
    {
     "ename": "ValueError",
     "evalue": "list.remove(x): x not in list",
     "output_type": "error",
     "traceback": [
      "\u001b[1;31m---------------------------------------------------------------------------\u001b[0m",
      "\u001b[1;31mValueError\u001b[0m                                Traceback (most recent call last)",
      "\u001b[1;32m~\\AppData\\Local\\Temp/ipykernel_37564/2220392005.py\u001b[0m in \u001b[0;36m<module>\u001b[1;34m\u001b[0m\n\u001b[0;32m      9\u001b[0m \u001b[0msc\u001b[0m \u001b[1;33m=\u001b[0m \u001b[1;33m[\u001b[0m\u001b[1;33m]\u001b[0m\u001b[1;33m\u001b[0m\u001b[1;33m\u001b[0m\u001b[0m\n\u001b[0;32m     10\u001b[0m \u001b[1;32mfor\u001b[0m \u001b[0mr\u001b[0m \u001b[1;32min\u001b[0m \u001b[0mrange\u001b[0m\u001b[1;33m(\u001b[0m\u001b[0mlen\u001b[0m\u001b[1;33m(\u001b[0m\u001b[0mq\u001b[0m\u001b[1;33m[\u001b[0m\u001b[1;33m:\u001b[0m\u001b[1;33m]\u001b[0m\u001b[1;33m)\u001b[0m\u001b[1;33m)\u001b[0m\u001b[1;33m:\u001b[0m\u001b[1;33m\u001b[0m\u001b[1;33m\u001b[0m\u001b[0m\n\u001b[1;32m---> 11\u001b[1;33m     \u001b[0mq_n\u001b[0m \u001b[1;33m=\u001b[0m \u001b[0mq\u001b[0m\u001b[1;33m.\u001b[0m\u001b[0mremove\u001b[0m\u001b[1;33m(\u001b[0m\u001b[1;34mr\"(?:[a-z0-9!#$%&'*+/=?^_`{|}~-]+(?:\\.[a-z0-9!#$%&'*+/=?^_`{|}~-]+)*|\\\"(?:[\\x01-\\x08\\x0b\\x0c\\x0e-\\x1f\\x21\\x23-\\x5b\\x5d-\\x7f]|\\\\[\\x01-\\x09\\x0b\\x0c\\x0e-\\x7f])*\\\")@(?:(?:[a-z0-9](?:[a-z0-9-]*[a-z0-9])?\\.)+[a-z0-9](?:[a-z0-9-]*[a-z0-9])?|\\[(?:(?:(2(5[0-5]|[0-4][0-9])|1[0-9][0-9]|[1-9]?[0-9]))\\.){3}(?:(2(5[0-5]|[0-4][0-9])|1[0-9][0-9]|[1-9]?[0-9])|[a-z0-9-]*[a-z0-9]:(?:[\\x01-\\x08\\x0b\\x0c\\x0e-\\x1f\\x21-\\x5a\\x53-\\x7f]|\\\\[\\x01-\\x09\\x0b\\x0c\\x0e-\\x7f])+)\\])\"\u001b[0m\u001b[1;33m)\u001b[0m\u001b[1;33m\u001b[0m\u001b[1;33m\u001b[0m\u001b[0m\n\u001b[0m\u001b[0;32m     12\u001b[0m     \u001b[0msc\u001b[0m\u001b[1;33m.\u001b[0m\u001b[0mappend\u001b[0m\u001b[1;33m(\u001b[0m\u001b[0mq_n\u001b[0m\u001b[1;33m)\u001b[0m\u001b[1;33m\u001b[0m\u001b[1;33m\u001b[0m\u001b[0m\n\u001b[0;32m     13\u001b[0m \u001b[1;33m\u001b[0m\u001b[0m\n",
      "\u001b[1;31mValueError\u001b[0m: list.remove(x): x not in list"
     ]
    }
   ],
   "source": [
    "q = ['AD  - Carlos Slim Health Institute, Mexico City, Mexico. tapiaconyer@yahoo.com.mx','AD  - Armed Forces Research Institute of Medical Science, Bangkok, Thailand.  robert.gibbons@afrims.org']\n",
    "for i in range(len(q)):\n",
    "    if i == r\"(?:[a-z0-9!#$%&'*+/=?^_`{|}~-]+(?:\\.[a-z0-9!#$%&'*+/=?^_`{|}~-]+)*|\\\"(?:[\\x01-\\x08\\x0b\\x0c\\x0e-\\x1f\\x21\\x23-\\x5b\\x5d-\\x7f]|\\\\[\\x01-\\x09\\x0b\\x0c\\x0e-\\x7f])*\\\")@(?:(?:[a-z0-9](?:[a-z0-9-]*[a-z0-9])?\\.)+[a-z0-9](?:[a-z0-9-]*[a-z0-9])?|\\[(?:(?:(2(5[0-5]|[0-4][0-9])|1[0-9][0-9]|[1-9]?[0-9]))\\.){3}(?:(2(5[0-5]|[0-4][0-9])|1[0-9][0-9]|[1-9]?[0-9])|[a-z0-9-]*[a-z0-9]:(?:[\\x01-\\x08\\x0b\\x0c\\x0e-\\x1f\\x21-\\x5a\\x53-\\x7f]|\\\\[\\x01-\\x09\\x0b\\x0c\\x0e-\\x7f])+)\\])\":\n",
    "       q.remove(i)\n",
    "    print(i)\n",
    "    \n",
    "#lsce=lista sin correos electronicos\n",
    "q = ['AD  - Carlos Slim Health Institute, Mexico City, Mexico. tapiaconyer@yahoo.com.mx','AD  - Armed Forces Research Institute of Medical Science, Bangkok, Thailand.  robert.gibbons@afrims.org']\n",
    "sc = []\n",
    "for r in range(len(q[:])):\n",
    "    q_n = q.remove(r\"(?:[a-z0-9!#$%&'*+/=?^_`{|}~-]+(?:\\.[a-z0-9!#$%&'*+/=?^_`{|}~-]+)*|\\\"(?:[\\x01-\\x08\\x0b\\x0c\\x0e-\\x1f\\x21\\x23-\\x5b\\x5d-\\x7f]|\\\\[\\x01-\\x09\\x0b\\x0c\\x0e-\\x7f])*\\\")@(?:(?:[a-z0-9](?:[a-z0-9-]*[a-z0-9])?\\.)+[a-z0-9](?:[a-z0-9-]*[a-z0-9])?|\\[(?:(?:(2(5[0-5]|[0-4][0-9])|1[0-9][0-9]|[1-9]?[0-9]))\\.){3}(?:(2(5[0-5]|[0-4][0-9])|1[0-9][0-9]|[1-9]?[0-9])|[a-z0-9-]*[a-z0-9]:(?:[\\x01-\\x08\\x0b\\x0c\\x0e-\\x1f\\x21-\\x5a\\x53-\\x7f]|\\\\[\\x01-\\x09\\x0b\\x0c\\x0e-\\x7f])+)\\])\")\n",
    "    sc.append(q_n)\n",
    "    \n",
    "print(q_n)\n",
    "\n"
   ]
  },
  {
   "cell_type": "code",
   "execution_count": 198,
   "id": "c741db2a",
   "metadata": {},
   "outputs": [
    {
     "ename": "SyntaxError",
     "evalue": "invalid syntax (Temp/ipykernel_37564/2143442963.py, line 2)",
     "output_type": "error",
     "traceback": [
      "\u001b[1;36m  File \u001b[1;32m\"C:\\Users\\LENOVO\\AppData\\Local\\Temp/ipykernel_37564/2143442963.py\"\u001b[1;36m, line \u001b[1;32m2\u001b[0m\n\u001b[1;33m    f.remove r\"(?:[a-z0-9!#$%&'*+/=?^_`{|}~-]+(?:\\.[a-z0-9!#$%&'*+/=?^_`{|}~-]+)*|\\\"(?:[\\x01-\\x08\\x0b\\x0c\\x0e-\\x1f\\x21\\x23-\\x5b\\x5d-\\x7f]|\\\\[\\x01-\\x09\\x0b\\x0c\\x0e-\\x7f])*\\\")@(?:(?:[a-z0-9](?:[a-z0-9-]*[a-z0-9])?\\.)+[a-z0-9](?:[a-z0-9-]*[a-z0-9])?|\\[(?:(?:(2(5[0-5]|[0-4][0-9])|1[0-9][0-9]|[1-9]?[0-9]))\\.){3}(?:(2(5[0-5]|[0-4][0-9])|1[0-9][0-9]|[1-9]?[0-9])|[a-z0-9-]*[a-z0-9]:(?:[\\x01-\\x08\\x0b\\x0c\\x0e-\\x1f\\x21-\\x5a\\x53-\\x7f]|\\\\[\\x01-\\x09\\x0b\\x0c\\x0e-\\x7f])+)\\])\"\u001b[0m\n\u001b[1;37m             ^\u001b[0m\n\u001b[1;31mSyntaxError\u001b[0m\u001b[1;31m:\u001b[0m invalid syntax\n"
     ]
    }
   ],
   "source": []
  },
  {
   "cell_type": "code",
   "execution_count": 181,
   "id": "53411789",
   "metadata": {},
   "outputs": [
    {
     "name": "stdout",
     "output_type": "stream",
     "text": [
      "0\n",
      "1\n",
      "[]\n"
     ]
    }
   ],
   "source": [
    "q = ['AD  - Carlos Slim Health Institute, Mexico City, Mexico. tapiaconyer@yahoo.com.mx','AD  - Armed Forces Research Institute of Medical Science, Bangkok, Thailand.  robert.gibbons@afrims.org']\n",
    "z = []\n",
    "for i in range(len(q)):\n",
    "    if i == r\"(?:[a-z0-9!#$%&'*+/=?^_`{|}~-]+(?:\\.[a-z0-9!#$%&'*+/=?^_`{|}~-]+)*|\\\"(?:[\\x01-\\x08\\x0b\\x0c\\x0e-\\x1f\\x21\\x23-\\x5b\\x5d-\\x7f]|\\\\[\\x01-\\x09\\x0b\\x0c\\x0e-\\x7f])*\\\")@(?:(?:[a-z0-9](?:[a-z0-9-]*[a-z0-9])?\\.)+[a-z0-9](?:[a-z0-9-]*[a-z0-9])?|\\[(?:(?:(2(5[0-5]|[0-4][0-9])|1[0-9][0-9]|[1-9]?[0-9]))\\.){3}(?:(2(5[0-5]|[0-4][0-9])|1[0-9][0-9]|[1-9]?[0-9])|[a-z0-9-]*[a-z0-9]:(?:[\\x01-\\x08\\x0b\\x0c\\x0e-\\x1f\\x21-\\x5a\\x53-\\x7f]|\\\\[\\x01-\\x09\\x0b\\x0c\\x0e-\\x7f])+)\\])\":\n",
    "       z.append(q.remove(i))\n",
    "    print(i)\n",
    "print(z)\n",
    "    \n"
   ]
  },
  {
   "cell_type": "code",
   "execution_count": 229,
   "id": "1045e25e",
   "metadata": {},
   "outputs": [
    {
     "ename": "TypeError",
     "evalue": "'int' object is not iterable",
     "output_type": "error",
     "traceback": [
      "\u001b[1;31m---------------------------------------------------------------------------\u001b[0m",
      "\u001b[1;31mTypeError\u001b[0m                                 Traceback (most recent call last)",
      "\u001b[1;32m~\\AppData\\Local\\Temp/ipykernel_37564/359659831.py\u001b[0m in \u001b[0;36m<module>\u001b[1;34m\u001b[0m\n\u001b[0;32m      1\u001b[0m \u001b[0mq\u001b[0m \u001b[1;33m=\u001b[0m \u001b[1;33m[\u001b[0m\u001b[1;34m'AD  - Carlos Slim Health Institute, Mexico City, Mexico. tapiaconyer@yahoo.com.mx'\u001b[0m\u001b[1;33m,\u001b[0m\u001b[1;34m'AD  - Armed Forces Research Institute of Medical Science, Bangkok, Thailand.  robert.gibbons@afrims.org'\u001b[0m\u001b[1;33m]\u001b[0m\u001b[1;33m\u001b[0m\u001b[1;33m\u001b[0m\u001b[0m\n\u001b[0;32m      2\u001b[0m \u001b[0mq_nuevo\u001b[0m \u001b[1;33m=\u001b[0m \u001b[1;33m[\u001b[0m\u001b[1;33m]\u001b[0m\u001b[1;33m\u001b[0m\u001b[1;33m\u001b[0m\u001b[0m\n\u001b[1;32m----> 3\u001b[1;33m \u001b[1;32mfor\u001b[0m \u001b[0mr\u001b[0m \u001b[1;32min\u001b[0m \u001b[0mlen\u001b[0m\u001b[1;33m(\u001b[0m\u001b[0mq\u001b[0m\u001b[1;33m)\u001b[0m\u001b[1;33m:\u001b[0m\u001b[1;33m\u001b[0m\u001b[1;33m\u001b[0m\u001b[0m\n\u001b[0m\u001b[0;32m      4\u001b[0m     \u001b[0mq_n\u001b[0m \u001b[1;33m=\u001b[0m \u001b[0mre\u001b[0m\u001b[1;33m.\u001b[0m\u001b[0msub\u001b[0m\u001b[1;33m(\u001b[0m\u001b[1;34mr\"(?:[a-z0-9!#$%&'*+/=?^_`{|}~-]+(?:\\.[a-z0-9!#$%&'*+/=?^_`{|}~-]+)*|\\\"(?:[\\x01-\\x08\\x0b\\x0c\\x0e-\\x1f\\x21\\x23-\\x5b\\x5d-\\x7f]|\\\\[\\x01-\\x09\\x0b\\x0c\\x0e-\\x7f])*\\\")@(?:(?:[a-z0-9](?:[a-z0-9-]*[a-z0-9])?\\.)+[a-z0-9](?:[a-z0-9-]*[a-z0-9])?|\\[(?:(?:(2(5[0-5]|[0-4][0-9])|1[0-9][0-9]|[1-9]?[0-9]))\\.){3}(?:(2(5[0-5]|[0-4][0-9])|1[0-9][0-9]|[1-9]?[0-9])|[a-z0-9-]*[a-z0-9]:(?:[\\x01-\\x08\\x0b\\x0c\\x0e-\\x1f\\x21-\\x5a\\x53-\\x7f]|\\\\[\\x01-\\x09\\x0b\\x0c\\x0e-\\x7f])+)\\])\"\u001b[0m\u001b[1;33m,\u001b[0m\u001b[1;34m''\u001b[0m\u001b[1;33m,\u001b[0m\u001b[0mq\u001b[0m\u001b[1;33m)\u001b[0m\u001b[1;33m\u001b[0m\u001b[1;33m\u001b[0m\u001b[0m\n\u001b[0;32m      5\u001b[0m     \u001b[0mq_nuevo\u001b[0m\u001b[1;33m.\u001b[0m\u001b[0mappend\u001b[0m\u001b[1;33m(\u001b[0m\u001b[0mq_n\u001b[0m\u001b[1;33m)\u001b[0m\u001b[1;33m\u001b[0m\u001b[1;33m\u001b[0m\u001b[0m\n",
      "\u001b[1;31mTypeError\u001b[0m: 'int' object is not iterable"
     ]
    }
   ],
   "source": [
    "q = ['AD  - Carlos Slim Health Institute, Mexico City, Mexico. tapiaconyer@yahoo.com.mx','AD  - Armed Forces Research Institute of Medical Science, Bangkok, Thailand.  robert.gibbons@afrims.org']\n",
    "q_nuevo = []\n",
    "for r in len(q):\n",
    "    q_n = re.sub(r\"(?:[a-z0-9!#$%&'*+/=?^_`{|}~-]+(?:\\.[a-z0-9!#$%&'*+/=?^_`{|}~-]+)*|\\\"(?:[\\x01-\\x08\\x0b\\x0c\\x0e-\\x1f\\x21\\x23-\\x5b\\x5d-\\x7f]|\\\\[\\x01-\\x09\\x0b\\x0c\\x0e-\\x7f])*\\\")@(?:(?:[a-z0-9](?:[a-z0-9-]*[a-z0-9])?\\.)+[a-z0-9](?:[a-z0-9-]*[a-z0-9])?|\\[(?:(?:(2(5[0-5]|[0-4][0-9])|1[0-9][0-9]|[1-9]?[0-9]))\\.){3}(?:(2(5[0-5]|[0-4][0-9])|1[0-9][0-9]|[1-9]?[0-9])|[a-z0-9-]*[a-z0-9]:(?:[\\x01-\\x08\\x0b\\x0c\\x0e-\\x1f\\x21-\\x5a\\x53-\\x7f]|\\\\[\\x01-\\x09\\x0b\\x0c\\x0e-\\x7f])+)\\])\",'',q)\n",
    "    q_nuevo.append(q_n)\n",
    "    \n",
    "print(q_nuevo)\n",
    "#######################################"
   ]
  },
  {
   "cell_type": "code",
   "execution_count": 246,
   "id": "3bd4f5ed",
   "metadata": {},
   "outputs": [
    {
     "ename": "TypeError",
     "evalue": "expected string or bytes-like object",
     "output_type": "error",
     "traceback": [
      "\u001b[1;31m---------------------------------------------------------------------------\u001b[0m",
      "\u001b[1;31mTypeError\u001b[0m                                 Traceback (most recent call last)",
      "\u001b[1;32m~\\AppData\\Local\\Temp/ipykernel_37564/2440591577.py\u001b[0m in \u001b[0;36m<module>\u001b[1;34m\u001b[0m\n\u001b[0;32m      3\u001b[0m \u001b[0mq_nuevo\u001b[0m \u001b[1;33m=\u001b[0m \u001b[1;33m(\u001b[0m\u001b[1;33m)\u001b[0m\u001b[1;33m\u001b[0m\u001b[1;33m\u001b[0m\u001b[0m\n\u001b[0;32m      4\u001b[0m \u001b[1;32mfor\u001b[0m \u001b[0mr\u001b[0m \u001b[1;32min\u001b[0m \u001b[0mrange\u001b[0m\u001b[1;33m(\u001b[0m\u001b[0mlen\u001b[0m\u001b[1;33m(\u001b[0m\u001b[0mq\u001b[0m\u001b[1;33m)\u001b[0m\u001b[1;33m)\u001b[0m\u001b[1;33m:\u001b[0m\u001b[1;33m\u001b[0m\u001b[1;33m\u001b[0m\u001b[0m\n\u001b[1;32m----> 5\u001b[1;33m     \u001b[0mq_n\u001b[0m \u001b[1;33m=\u001b[0m \u001b[0mre\u001b[0m\u001b[1;33m.\u001b[0m\u001b[0msub\u001b[0m\u001b[1;33m(\u001b[0m\u001b[1;34mr\"(?:[a-z0-9!#$%&'*+/=?^_`{|}~-]+(?:\\.[a-z0-9!#$%&'*+/=?^_`{|}~-]+)*|\\\"(?:[\\x01-\\x08\\x0b\\x0c\\x0e-\\x1f\\x21\\x23-\\x5b\\x5d-\\x7f]|\\\\[\\x01-\\x09\\x0b\\x0c\\x0e-\\x7f])*\\\")@(?:(?:[a-z0-9](?:[a-z0-9-]*[a-z0-9])?\\.)+[a-z0-9](?:[a-z0-9-]*[a-z0-9])?|\\[(?:(?:(2(5[0-5]|[0-4][0-9])|1[0-9][0-9]|[1-9]?[0-9]))\\.){3}(?:(2(5[0-5]|[0-4][0-9])|1[0-9][0-9]|[1-9]?[0-9])|[a-z0-9-]*[a-z0-9]:(?:[\\x01-\\x08\\x0b\\x0c\\x0e-\\x1f\\x21-\\x5a\\x53-\\x7f]|\\\\[\\x01-\\x09\\x0b\\x0c\\x0e-\\x7f])+)\\])\"\u001b[0m\u001b[1;33m,\u001b[0m\u001b[1;34m''\u001b[0m\u001b[1;33m,\u001b[0m\u001b[0mq\u001b[0m\u001b[1;33m)\u001b[0m\u001b[1;33m\u001b[0m\u001b[1;33m\u001b[0m\u001b[0m\n\u001b[0m\u001b[0;32m      6\u001b[0m     \u001b[0mq_nuevo\u001b[0m\u001b[1;33m.\u001b[0m\u001b[0mappend\u001b[0m\u001b[1;33m(\u001b[0m\u001b[0mq_n\u001b[0m\u001b[1;33m)\u001b[0m\u001b[1;33m\u001b[0m\u001b[1;33m\u001b[0m\u001b[0m\n\u001b[0;32m      7\u001b[0m \u001b[1;33m\u001b[0m\u001b[0m\n",
      "\u001b[1;32mC:\\ProgramData\\Anaconda3\\lib\\re.py\u001b[0m in \u001b[0;36msub\u001b[1;34m(pattern, repl, string, count, flags)\u001b[0m\n\u001b[0;32m    208\u001b[0m     \u001b[0ma\u001b[0m \u001b[0mcallable\u001b[0m\u001b[1;33m,\u001b[0m \u001b[0mit\u001b[0m\u001b[0;31m'\u001b[0m\u001b[0ms\u001b[0m \u001b[0mpassed\u001b[0m \u001b[0mthe\u001b[0m \u001b[0mMatch\u001b[0m \u001b[0mobject\u001b[0m \u001b[1;32mand\u001b[0m \u001b[0mmust\u001b[0m \u001b[1;32mreturn\u001b[0m\u001b[1;33m\u001b[0m\u001b[1;33m\u001b[0m\u001b[0m\n\u001b[0;32m    209\u001b[0m     a replacement string to be used.\"\"\"\n\u001b[1;32m--> 210\u001b[1;33m     \u001b[1;32mreturn\u001b[0m \u001b[0m_compile\u001b[0m\u001b[1;33m(\u001b[0m\u001b[0mpattern\u001b[0m\u001b[1;33m,\u001b[0m \u001b[0mflags\u001b[0m\u001b[1;33m)\u001b[0m\u001b[1;33m.\u001b[0m\u001b[0msub\u001b[0m\u001b[1;33m(\u001b[0m\u001b[0mrepl\u001b[0m\u001b[1;33m,\u001b[0m \u001b[0mstring\u001b[0m\u001b[1;33m,\u001b[0m \u001b[0mcount\u001b[0m\u001b[1;33m)\u001b[0m\u001b[1;33m\u001b[0m\u001b[1;33m\u001b[0m\u001b[0m\n\u001b[0m\u001b[0;32m    211\u001b[0m \u001b[1;33m\u001b[0m\u001b[0m\n\u001b[0;32m    212\u001b[0m \u001b[1;32mdef\u001b[0m \u001b[0msubn\u001b[0m\u001b[1;33m(\u001b[0m\u001b[0mpattern\u001b[0m\u001b[1;33m,\u001b[0m \u001b[0mrepl\u001b[0m\u001b[1;33m,\u001b[0m \u001b[0mstring\u001b[0m\u001b[1;33m,\u001b[0m \u001b[0mcount\u001b[0m\u001b[1;33m=\u001b[0m\u001b[1;36m0\u001b[0m\u001b[1;33m,\u001b[0m \u001b[0mflags\u001b[0m\u001b[1;33m=\u001b[0m\u001b[1;36m0\u001b[0m\u001b[1;33m)\u001b[0m\u001b[1;33m:\u001b[0m\u001b[1;33m\u001b[0m\u001b[1;33m\u001b[0m\u001b[0m\n",
      "\u001b[1;31mTypeError\u001b[0m: expected string or bytes-like object"
     ]
    }
   ],
   "source": [
    "######################################33333\n",
    "q = ('AD  - Carlos Slim Health Institute, Mexico City, Mexico. tapiaconyer@yahoo.com.mx','AD  - Armed Forces Research Institute of Medical Science, Bangkok, Thailand.  robert.gibbons@afrims.org')\n",
    "q_nuevo = ()\n",
    "for r in range(len(q)):\n",
    "    q_n = re.sub(r\"(?:[a-z0-9!#$%&'*+/=?^_`{|}~-]+(?:\\.[a-z0-9!#$%&'*+/=?^_`{|}~-]+)*|\\\"(?:[\\x01-\\x08\\x0b\\x0c\\x0e-\\x1f\\x21\\x23-\\x5b\\x5d-\\x7f]|\\\\[\\x01-\\x09\\x0b\\x0c\\x0e-\\x7f])*\\\")@(?:(?:[a-z0-9](?:[a-z0-9-]*[a-z0-9])?\\.)+[a-z0-9](?:[a-z0-9-]*[a-z0-9])?|\\[(?:(?:(2(5[0-5]|[0-4][0-9])|1[0-9][0-9]|[1-9]?[0-9]))\\.){3}(?:(2(5[0-5]|[0-4][0-9])|1[0-9][0-9]|[1-9]?[0-9])|[a-z0-9-]*[a-z0-9]:(?:[\\x01-\\x08\\x0b\\x0c\\x0e-\\x1f\\x21-\\x5a\\x53-\\x7f]|\\\\[\\x01-\\x09\\x0b\\x0c\\x0e-\\x7f])+)\\])\",'',q)\n",
    "    q_nuevo.append(q_n)\n",
    "    \n",
    "print(q_nuevo)\n",
    "#######################################"
   ]
  },
  {
   "cell_type": "code",
   "execution_count": 227,
   "id": "d4429bef",
   "metadata": {},
   "outputs": [
    {
     "name": "stdout",
     "output_type": "stream",
     "text": [
      "[\"['AD  - Carlos Slim Health Institute, Mexico City, Mexico. ', 'AD  - Armed Forces Research Institute of Medical Science, Bangkok, Thailand.  ']\", \"['AD  - Carlos Slim Health Institute, Mexico City, Mexico. ', 'AD  - Armed Forces Research Institute of Medical Science, Bangkok, Thailand.  ']\"]\n"
     ]
    }
   ],
   "source": [
    "q = ['AD  - Carlos Slim Health Institute, Mexico City, Mexico. tapiaconyer@yahoo.com.mx','AD  - Armed Forces Research Institute of Medical Science, Bangkok, Thailand.  robert.gibbons@afrims.org']\n",
    "\n",
    "q_nuevo = []\n",
    "for r in range(len(q)):\n",
    "    q_n = re.sub(r\"(?:[a-z0-9!#$%&'*+/=?^_`{|}~-]+(?:\\.[a-z0-9!#$%&'*+/=?^_`{|}~-]+)*|\\\"(?:[\\x01-\\x08\\x0b\\x0c\\x0e-\\x1f\\x21\\x23-\\x5b\\x5d-\\x7f]|\\\\[\\x01-\\x09\\x0b\\x0c\\x0e-\\x7f])*\\\")@(?:(?:[a-z0-9](?:[a-z0-9-]*[a-z0-9])?\\.)+[a-z0-9](?:[a-z0-9-]*[a-z0-9])?|\\[(?:(?:(2(5[0-5]|[0-4][0-9])|1[0-9][0-9]|[1-9]?[0-9]))\\.){3}(?:(2(5[0-5]|[0-4][0-9])|1[0-9][0-9]|[1-9]?[0-9])|[a-z0-9-]*[a-z0-9]:(?:[\\x01-\\x08\\x0b\\x0c\\x0e-\\x1f\\x21-\\x5a\\x53-\\x7f]|\\\\[\\x01-\\x09\\x0b\\x0c\\x0e-\\x7f])+)\\])\",'',str(q))\n",
    "    q_nuevo.append(q_n)\n",
    "    \n",
    "print(q_nuevo)"
   ]
  },
  {
   "cell_type": "code",
   "execution_count": null,
   "id": "bf44587e",
   "metadata": {},
   "outputs": [],
   "source": []
  },
  {
   "cell_type": "code",
   "execution_count": 70,
   "id": "09668895",
   "metadata": {},
   "outputs": [
    {
     "name": "stdout",
     "output_type": "stream",
     "text": [
      "AD  - Carlos Slim Health Institute, Mexico City, Mexico. tapiaconyer@yahoo.com.mx\n",
      "AD  - Armed Forces Research Institute of Medical Science, Bangkok, Thailand.  robert.gibbons@afrims.org\n"
     ]
    }
   ],
   "source": [
    "q = ('AD  - Carlos Slim Health Institute, Mexico City, Mexico. tapiaconyer@yahoo.com.mx','AD  - Armed Forces Research Institute of Medical Science, Bangkok, Thailand.  robert.gibbons@afrims.org')\n",
    "for i in q:\n",
    "    if i == r\"(?:[a-z0-9!#$%&'*+/=?^_`{|}~-]+(?:\\.[a-z0-9!#$%&'*+/=?^_`{|}~-]+)*|\\\"(?:[\\x01-\\x08\\x0b\\x0c\\x0e-\\x1f\\x21\\x23-\\x5b\\x5d-\\x7f]|\\\\[\\x01-\\x09\\x0b\\x0c\\x0e-\\x7f])*\\\")@(?:(?:[a-z0-9](?:[a-z0-9-]*[a-z0-9])?\\.)+[a-z0-9](?:[a-z0-9-]*[a-z0-9])?|\\[(?:(?:(2(5[0-5]|[0-4][0-9])|1[0-9][0-9]|[1-9]?[0-9]))\\.){3}(?:(2(5[0-5]|[0-4][0-9])|1[0-9][0-9]|[1-9]?[0-9])|[a-z0-9-]*[a-z0-9]:(?:[\\x01-\\x08\\x0b\\x0c\\x0e-\\x1f\\x21-\\x5a\\x53-\\x7f]|\\\\[\\x01-\\x09\\x0b\\x0c\\x0e-\\x7f])+)\\])\":\n",
    "       re.sub(r\"(?:[a-z0-9!#$%&'*+/=?^_`{|}~-]+(?:\\.[a-z0-9!#$%&'*+/=?^_`{|}~-]+)*|\\\"(?:[\\x01-\\x08\\x0b\\x0c\\x0e-\\x1f\\x21\\x23-\\x5b\\x5d-\\x7f]|\\\\[\\x01-\\x09\\x0b\\x0c\\x0e-\\x7f])*\\\")@(?:(?:[a-z0-9](?:[a-z0-9-]*[a-z0-9])?\\.)+[a-z0-9](?:[a-z0-9-]*[a-z0-9])?|\\[(?:(?:(2(5[0-5]|[0-4][0-9])|1[0-9][0-9]|[1-9]?[0-9]))\\.){3}(?:(2(5[0-5]|[0-4][0-9])|1[0-9][0-9]|[1-9]?[0-9])|[a-z0-9-]*[a-z0-9]:(?:[\\x01-\\x08\\x0b\\x0c\\x0e-\\x1f\\x21-\\x5a\\x53-\\x7f]|\\\\[\\x01-\\x09\\x0b\\x0c\\x0e-\\x7f])+)\\])\",'',q)\n",
    "    print(i)\n",
    "    "
   ]
  },
  {
   "cell_type": "code",
   "execution_count": 79,
   "id": "d12672c9",
   "metadata": {},
   "outputs": [
    {
     "name": "stdout",
     "output_type": "stream",
     "text": [
      "AD  - Carlos Slim Health Institute, Mexico City, Mexico. tapiaconyer@yahoo.com.mx\n",
      "AD  - Armed Forces Research Institute of Medical Science, Bangkok, Thailand.  robert.gibbons@afrims.org\n"
     ]
    }
   ],
   "source": [
    "q = ('AD  - Carlos Slim Health Institute, Mexico City, Mexico. tapiaconyer@yahoo.com.mx','AD  - Armed Forces Research Institute of Medical Science, Bangkok, Thailand.  robert.gibbons@afrims.org')\n",
    "for i in q:\n",
    "    if i == r'[a-z0-9]+[\\._]?[a-z0-9]+[@]\\w+[.]\\w{2,3}':\n",
    "       q.remove(r\"(?:[a-z0-9!#$%&'*+/=?^_`{|}~-]+(?:\\.[a-z0-9!#$%&'*+/=?^_`{|}~-]+)*|\\\"(?:[\\x01-\\x08\\x0b\\x0c\\x0e-\\x1f\\x21\\x23-\\x5b\\x5d-\\x7f]|\\\\[\\x01-\\x09\\x0b\\x0c\\x0e-\\x7f])*\\\")@(?:(?:[a-z0-9](?:[a-z0-9-]*[a-z0-9])?\\.)+[a-z0-9](?:[a-z0-9-]*[a-z0-9])?|\\[(?:(?:(2(5[0-5]|[0-4][0-9])|1[0-9][0-9]|[1-9]?[0-9]))\\.){3}(?:(2(5[0-5]|[0-4][0-9])|1[0-9][0-9]|[1-9]?[0-9])|[a-z0-9-]*[a-z0-9]:(?:[\\x01-\\x08\\x0b\\x0c\\x0e-\\x1f\\x21-\\x5a\\x53-\\x7f]|\\\\[\\x01-\\x09\\x0b\\x0c\\x0e-\\x7f])+)\\])\")\n",
    "    print(i)"
   ]
  },
  {
   "cell_type": "code",
   "execution_count": 127,
   "id": "ab9e4891",
   "metadata": {},
   "outputs": [
    {
     "ename": "TypeError",
     "evalue": "list indices must be integers or slices, not str",
     "output_type": "error",
     "traceback": [
      "\u001b[1;31m---------------------------------------------------------------------------\u001b[0m",
      "\u001b[1;31mTypeError\u001b[0m                                 Traceback (most recent call last)",
      "\u001b[1;32m~\\AppData\\Local\\Temp/ipykernel_37564/3222059071.py\u001b[0m in \u001b[0;36m<module>\u001b[1;34m\u001b[0m\n\u001b[0;32m      2\u001b[0m \u001b[0mindex\u001b[0m \u001b[1;33m=\u001b[0m \u001b[1;34mr\"(?:[a-z0-9!#$%&'*+/=?^_`{|}~-]+(?:\\.[a-z0-9!#$%&'*+/=?^_`{|}~-]+)*|\\\"(?:[\\x01-\\x08\\x0b\\x0c\\x0e-\\x1f\\x21\\x23-\\x5b\\x5d-\\x7f]|\\\\[\\x01-\\x09\\x0b\\x0c\\x0e-\\x7f])*\\\")@(?:(?:[a-z0-9](?:[a-z0-9-]*[a-z0-9])?\\.)+[a-z0-9](?:[a-z0-9-]*[a-z0-9])?|\\[(?:(?:(2(5[0-5]|[0-4][0-9])|1[0-9][0-9]|[1-9]?[0-9]))\\.){3}(?:(2(5[0-5]|[0-4][0-9])|1[0-9][0-9]|[1-9]?[0-9])|[a-z0-9-]*[a-z0-9]:(?:[\\x01-\\x08\\x0b\\x0c\\x0e-\\x1f\\x21-\\x5a\\x53-\\x7f]|\\\\[\\x01-\\x09\\x0b\\x0c\\x0e-\\x7f])+)\\])\"\u001b[0m\u001b[1;33m\u001b[0m\u001b[1;33m\u001b[0m\u001b[0m\n\u001b[0;32m      3\u001b[0m \u001b[1;32mfor\u001b[0m \u001b[0mi\u001b[0m \u001b[1;32min\u001b[0m \u001b[0mrange\u001b[0m\u001b[1;33m(\u001b[0m\u001b[0mlen\u001b[0m\u001b[1;33m(\u001b[0m\u001b[0mq\u001b[0m\u001b[1;33m)\u001b[0m\u001b[1;33m)\u001b[0m\u001b[1;33m:\u001b[0m\u001b[1;33m\u001b[0m\u001b[1;33m\u001b[0m\u001b[0m\n\u001b[1;32m----> 4\u001b[1;33m     \u001b[1;32mdel\u001b[0m \u001b[0mq\u001b[0m\u001b[1;33m[\u001b[0m\u001b[0mindex\u001b[0m\u001b[1;33m]\u001b[0m\u001b[1;33m\u001b[0m\u001b[1;33m\u001b[0m\u001b[0m\n\u001b[0m\u001b[0;32m      5\u001b[0m     \u001b[0mprint\u001b[0m\u001b[1;33m(\u001b[0m\u001b[0mi\u001b[0m\u001b[1;33m)\u001b[0m\u001b[1;33m\u001b[0m\u001b[1;33m\u001b[0m\u001b[0m\n",
      "\u001b[1;31mTypeError\u001b[0m: list indices must be integers or slices, not str"
     ]
    }
   ],
   "source": [
    "q = ['AD  - Carlos Slim Health Institute, Mexico City, Mexico. tapiaconyer@yahoo.com.mx','AD  - Armed Forces Research Institute of Medical Science, Bangkok, Thailand.  robert.gibbons@afrims.org']\n",
    "index = r\"(?:[a-z0-9!#$%&'*+/=?^_`{|}~-]+(?:\\.[a-z0-9!#$%&'*+/=?^_`{|}~-]+)*|\\\"(?:[\\x01-\\x08\\x0b\\x0c\\x0e-\\x1f\\x21\\x23-\\x5b\\x5d-\\x7f]|\\\\[\\x01-\\x09\\x0b\\x0c\\x0e-\\x7f])*\\\")@(?:(?:[a-z0-9](?:[a-z0-9-]*[a-z0-9])?\\.)+[a-z0-9](?:[a-z0-9-]*[a-z0-9])?|\\[(?:(?:(2(5[0-5]|[0-4][0-9])|1[0-9][0-9]|[1-9]?[0-9]))\\.){3}(?:(2(5[0-5]|[0-4][0-9])|1[0-9][0-9]|[1-9]?[0-9])|[a-z0-9-]*[a-z0-9]:(?:[\\x01-\\x08\\x0b\\x0c\\x0e-\\x1f\\x21-\\x5a\\x53-\\x7f]|\\\\[\\x01-\\x09\\x0b\\x0c\\x0e-\\x7f])+)\\])\"\n",
    "for i in range(len(q)):\n",
    "    del q[index]\n",
    "    print(i)"
   ]
  },
  {
   "cell_type": "code",
   "execution_count": 107,
   "id": "7890f75a",
   "metadata": {},
   "outputs": [
    {
     "name": "stdout",
     "output_type": "stream",
     "text": [
      "[1, 2, 3, 4, 6, 7]\n"
     ]
    }
   ],
   "source": [
    "list = [1, 2, 3, 4, 5, 6, 7]\n",
    "list.remove(5)\n",
    "print (list)"
   ]
  },
  {
   "cell_type": "code",
   "execution_count": 34,
   "id": "e936b701",
   "metadata": {},
   "outputs": [
    {
     "name": "stdout",
     "output_type": "stream",
     "text": [
      "<re.Match object; span=(0, 1), match='A'>\n"
     ]
    }
   ],
   "source": [
    "g = (re.match(r'w.+ )).group\n",
    "print(g)"
   ]
  },
  {
   "cell_type": "code",
   "execution_count": 103,
   "id": "eadfffce",
   "metadata": {},
   "outputs": [
    {
     "name": "stdout",
     "output_type": "stream",
     "text": [
      "[362976, 362974, 362971, 362969]\n"
     ]
    }
   ],
   "source": []
  },
  {
   "cell_type": "code",
   "execution_count": null,
   "id": "abf5bd37",
   "metadata": {},
   "outputs": [],
   "source": [
    "re.findall(r\"AD\\s+\\-\\s\\$\", my_text)"
   ]
  },
  {
   "cell_type": "code",
   "execution_count": 86,
   "id": "d41b914d",
   "metadata": {},
   "outputs": [
    {
     "ename": "TypeError",
     "evalue": "search() missing 1 required positional argument: 'string'",
     "output_type": "error",
     "traceback": [
      "\u001b[1;31m---------------------------------------------------------------------------\u001b[0m",
      "\u001b[1;31mTypeError\u001b[0m                                 Traceback (most recent call last)",
      "\u001b[1;32m~\\AppData\\Local\\Temp/ipykernel_67856/4205896157.py\u001b[0m in \u001b[0;36m<module>\u001b[1;34m\u001b[0m\n\u001b[0;32m      1\u001b[0m \u001b[1;32mfor\u001b[0m \u001b[0mk\u001b[0m \u001b[1;32min\u001b[0m \u001b[0mmy_text\u001b[0m\u001b[1;33m:\u001b[0m\u001b[1;33m\u001b[0m\u001b[1;33m\u001b[0m\u001b[0m\n\u001b[1;32m----> 2\u001b[1;33m     \u001b[0mprint\u001b[0m\u001b[1;33m(\u001b[0m\u001b[0mre\u001b[0m\u001b[1;33m.\u001b[0m\u001b[0msearch\u001b[0m\u001b[1;33m(\u001b[0m\u001b[1;34mr\"AD\"\u001b[0m\u001b[1;33m)\u001b[0m\u001b[1;33m.\u001b[0m\u001b[0mgroup\u001b[0m\u001b[1;33m(\u001b[0m\u001b[1;33m)\u001b[0m\u001b[1;33m)\u001b[0m\u001b[1;33m\u001b[0m\u001b[1;33m\u001b[0m\u001b[0m\n\u001b[0m",
      "\u001b[1;31mTypeError\u001b[0m: search() missing 1 required positional argument: 'string'"
     ]
    }
   ],
   "source": [
    "for k in my_text:\n",
    "    print(re.search(r\"AD\").group())"
   ]
  },
  {
   "cell_type": "code",
   "execution_count": 36,
   "id": "635677b7",
   "metadata": {},
   "outputs": [
    {
     "name": "stderr",
     "output_type": "stream",
     "text": [
      "IOPub data rate exceeded.\n",
      "The notebook server will temporarily stop sending output\n",
      "to the client in order to avoid crashing it.\n",
      "To change this limit, set the config variable\n",
      "`--NotebookApp.iopub_data_rate_limit`.\n",
      "\n",
      "Current values:\n",
      "NotebookApp.iopub_data_rate_limit=1000000.0 (bytes/sec)\n",
      "NotebookApp.rate_limit_window=3.0 (secs)\n",
      "\n"
     ]
    }
   ],
   "source": [
    "if re.search(r\"AD\", my_text).group():\n",
    "    print(my_text)"
   ]
  },
  {
   "cell_type": "code",
   "execution_count": 46,
   "id": "54537a4a",
   "metadata": {},
   "outputs": [
    {
     "data": {
      "text/plain": [
       "'Hola mundo'"
      ]
     },
     "execution_count": 46,
     "metadata": {},
     "output_type": "execute_result"
    }
   ],
   "source": [
    "str_1 = 'Hola '\n",
    "str_2 = 'mundo'\n",
    "str_1 + str_2"
   ]
  },
  {
   "cell_type": "code",
   "execution_count": 12,
   "id": "408120bd",
   "metadata": {},
   "outputs": [
    {
     "data": {
      "text/plain": [
       "1309"
      ]
     },
     "execution_count": 12,
     "metadata": {},
     "output_type": "execute_result"
    }
   ],
   "source": []
  },
  {
   "cell_type": "code",
   "execution_count": null,
   "id": "f5fb3c38",
   "metadata": {},
   "outputs": [],
   "source": [
    "re.search(r\"AD\\s+\\-\\s\", my_text).group()"
   ]
  },
  {
   "cell_type": "code",
   "execution_count": null,
   "id": "3d1ce223",
   "metadata": {},
   "outputs": [],
   "source": [
    "des = re.findall(r'[A-Z]{2}\\s(\\d{5}), USA', my_text)\n",
    "print(zipcodes[:25])"
   ]
  },
  {
   "cell_type": "code",
   "execution_count": null,
   "id": "de2c8afb",
   "metadata": {},
   "outputs": [],
   "source": [
    "string = \"Hey! What's up?\"\n",
    "characters = \"'!?\"\n",
    "\n",
    "for x in range(len(characters)):\n",
    "    string = string.replace(characters[x],\"\")\n",
    "\n",
    "print(string)"
   ]
  },
  {
   "cell_type": "code",
   "execution_count": null,
   "id": "7a805ba3",
   "metadata": {},
   "outputs": [],
   "source": [
    "delet = r'[a-z0-9]+[\\._]?[a-z0-9]+[@]\\w+[.]\\w{2,3}'\n",
    "\n",
    "for x in range(len(delet)):\n",
    "    lsce = lcc.replace(delet[x],\"\")\n",
    "\n",
    "print(lsce[:25])"
   ]
  },
  {
   "cell_type": "code",
   "execution_count": 208,
   "id": "f41d7420",
   "metadata": {},
   "outputs": [
    {
     "ename": "AttributeError",
     "evalue": "'str' object has no attribute 'remove'",
     "output_type": "error",
     "traceback": [
      "\u001b[1;31m---------------------------------------------------------------------------\u001b[0m",
      "\u001b[1;31mAttributeError\u001b[0m                            Traceback (most recent call last)",
      "\u001b[1;32m~\\AppData\\Local\\Temp/ipykernel_67856/1422143131.py\u001b[0m in \u001b[0;36m<module>\u001b[1;34m\u001b[0m\n\u001b[0;32m      1\u001b[0m \u001b[0ma\u001b[0m\u001b[1;33m=\u001b[0m \u001b[1;33m(\u001b[0m\u001b[1;34m'AD  - Institute of Public Health, University of Heidelberg, Im Neuenheimer Feld 365,  Heidelberg, Germany. epvws@pacific.net.sg'\u001b[0m\u001b[1;33m)\u001b[0m\u001b[1;33m\u001b[0m\u001b[1;33m\u001b[0m\u001b[0m\n\u001b[0;32m      2\u001b[0m \u001b[1;32mfor\u001b[0m \u001b[0mx\u001b[0m \u001b[1;32min\u001b[0m \u001b[0ma\u001b[0m\u001b[1;33m:\u001b[0m\u001b[1;33m\u001b[0m\u001b[1;33m\u001b[0m\u001b[0m\n\u001b[1;32m----> 3\u001b[1;33m     \u001b[0mlsce\u001b[0m \u001b[1;33m=\u001b[0m \u001b[0ma\u001b[0m\u001b[1;33m.\u001b[0m\u001b[0mremove\u001b[0m\u001b[1;33m(\u001b[0m\u001b[1;34mr'[a-z0-9]+[\\._]?[a-z0-9]+[@]\\w+[.]\\w{2,3}'\u001b[0m\u001b[1;33m)\u001b[0m\u001b[1;33m\u001b[0m\u001b[1;33m\u001b[0m\u001b[0m\n\u001b[0m\u001b[0;32m      4\u001b[0m \u001b[0mprint\u001b[0m\u001b[1;33m(\u001b[0m\u001b[0mlsce\u001b[0m\u001b[1;33m)\u001b[0m\u001b[1;33m\u001b[0m\u001b[1;33m\u001b[0m\u001b[0m\n\u001b[0;32m      5\u001b[0m \u001b[1;33m\u001b[0m\u001b[0m\n",
      "\u001b[1;31mAttributeError\u001b[0m: 'str' object has no attribute 'remove'"
     ]
    }
   ],
   "source": [
    "a= ('AD  - Institute of Public Health, University of Heidelberg, Im Neuenheimer Feld 365,  Heidelberg, Germany. epvws@pacific.net.sg')\n",
    "for x in a:\n",
    "    lsce = a.remove(r'[a-z0-9]+[\\._]?[a-z0-9]+[@]\\w+[.]\\w{2,3}')\n",
    "print(lsce)\n",
    "    \n"
   ]
  }
 ],
 "metadata": {
  "kernelspec": {
   "display_name": "Python 3 (ipykernel)",
   "language": "python",
   "name": "python3"
  },
  "language_info": {
   "codemirror_mode": {
    "name": "ipython",
    "version": 3
   },
   "file_extension": ".py",
   "mimetype": "text/x-python",
   "name": "python",
   "nbconvert_exporter": "python",
   "pygments_lexer": "ipython3",
   "version": "3.9.7"
  }
 },
 "nbformat": 4,
 "nbformat_minor": 5
}
